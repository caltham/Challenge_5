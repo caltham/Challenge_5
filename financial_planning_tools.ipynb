{
 "cells": [
  {
   "cell_type": "markdown",
   "metadata": {},
   "source": [
    "# Financial Planning with APIs and Simulations\n",
    "\n",
    "In this Challenge, you’ll create two financial analysis tools by using a single Jupyter notebook:\n",
    "\n",
    "Part 1: A financial planner for emergencies. The members will be able to use this tool to visualize their current savings. The members can then determine if they have enough reserves for an emergency fund.\n",
    "\n",
    "Part 2: A financial planner for retirement. This tool will forecast the performance of their retirement portfolio in 30 years. To do this, the tool will make an Alpaca API call via the Alpaca SDK to get historical price data for use in Monte Carlo simulations.\n",
    "\n",
    "You’ll use the information from the Monte Carlo simulation to answer questions about the portfolio in your Jupyter notebook.\n",
    "\n"
   ]
  },
  {
   "cell_type": "code",
   "execution_count": 1,
   "metadata": {},
   "outputs": [],
   "source": [
    "# Import the required libraries and dependencies\n",
    "import os\n",
    "import requests\n",
    "import json\n",
    "import pandas as pd\n",
    "from dotenv import load_dotenv\n",
    "import alpaca_trade_api as tradeapi\n",
    "from MCForecastTools import MCSimulation\n",
    "\n",
    "%matplotlib inline"
   ]
  },
  {
   "cell_type": "code",
   "execution_count": 2,
   "metadata": {},
   "outputs": [
    {
     "data": {
      "text/plain": [
       "True"
      ]
     },
     "execution_count": 2,
     "metadata": {},
     "output_type": "execute_result"
    }
   ],
   "source": [
    "# Load the environment variables from the .env file\n",
    "#by calling the load_dotenv function\n",
    "load_dotenv()"
   ]
  },
  {
   "cell_type": "markdown",
   "metadata": {},
   "source": [
    "## Part 1: Create a Financial Planner for Emergencies"
   ]
  },
  {
   "cell_type": "markdown",
   "metadata": {},
   "source": [
    "### Evaluate the Cryptocurrency Wallet by Using the Requests Library\n",
    "\n",
    "In this section, you’ll determine the current value of a member’s cryptocurrency wallet. You’ll collect the current prices for the Bitcoin and Ethereum cryptocurrencies by using the Python Requests library. For the prototype, you’ll assume that the member holds the 1.2 Bitcoins (BTC) and 5.3 Ethereum coins (ETH). To do all this, complete the following steps:\n",
    "\n",
    "1. Create a variable named `monthly_income`, and set its value to `12000`.\n",
    "\n",
    "2. Use the Requests library to get the current price (in US dollars) of Bitcoin (BTC) and Ethereum (ETH) by using the API endpoints that the starter code supplies.\n",
    "\n",
    "3. Navigate the JSON response object to access the current price of each coin, and store each in a variable.\n",
    "\n",
    "    > **Hint** Note the specific identifier for each cryptocurrency in the API JSON response. The Bitcoin identifier is `1`, and the Ethereum identifier is `1027`.\n",
    "\n",
    "4. Calculate the value, in US dollars, of the current amount of each cryptocurrency and of the entire cryptocurrency wallet.\n",
    "\n"
   ]
  },
  {
   "cell_type": "code",
   "execution_count": 3,
   "metadata": {},
   "outputs": [],
   "source": [
    "# The current number of coins for each cryptocurrency asset held in the portfolio.\n",
    "btc_coins = 1.2\n",
    "eth_coins = 5.3"
   ]
  },
  {
   "cell_type": "markdown",
   "metadata": {},
   "source": [
    "#### Step 1: Create a variable named `monthly_income`, and set its value to `12000`."
   ]
  },
  {
   "cell_type": "code",
   "execution_count": 4,
   "metadata": {},
   "outputs": [],
   "source": [
    "# The monthly amount for the member's household income\n",
    "\n",
    "monthly_income = 12000\n"
   ]
  },
  {
   "cell_type": "markdown",
   "metadata": {},
   "source": [
    "#### Review the endpoint URLs for the API calls to Free Crypto API in order to get the current pricing information for both BTC and ETH."
   ]
  },
  {
   "cell_type": "code",
   "execution_count": 5,
   "metadata": {},
   "outputs": [],
   "source": [
    "# The Free Crypto API Call endpoint URLs for the held cryptocurrency assets\n",
    "btc_url = \"https://api.alternative.me/v2/ticker/Bitcoin/?convert=USD\"\n",
    "eth_url = \"https://api.alternative.me/v2/ticker/Ethereum/?convert=USD\""
   ]
  },
  {
   "cell_type": "markdown",
   "metadata": {},
   "source": [
    "#### Step 2. Use the Requests library to get the current price (in US dollars) of Bitcoin (BTC) and Ethereum (ETH) by using the API endpoints that the starter code supplied."
   ]
  },
  {
   "cell_type": "code",
   "execution_count": 6,
   "metadata": {},
   "outputs": [
    {
     "name": "stdout",
     "output_type": "stream",
     "text": [
      "{\n",
      "    \"data\": {\n",
      "        \"1\": {\n",
      "            \"circulating_supply\": 18913581,\n",
      "            \"id\": 1,\n",
      "            \"last_updated\": 1640728869,\n",
      "            \"max_supply\": 21000000,\n",
      "            \"name\": \"Bitcoin\",\n",
      "            \"quotes\": {\n",
      "                \"USD\": {\n",
      "                    \"market_cap\": 902056031708,\n",
      "                    \"percent_change_1h\": -0.477501888580545,\n",
      "                    \"percent_change_24h\": -6.84696806915482,\n",
      "                    \"percent_change_7d\": 1.11692637193413,\n",
      "                    \"percentage_change_1h\": -0.477501888580545,\n",
      "                    \"percentage_change_24h\": -6.84696806915482,\n",
      "                    \"percentage_change_7d\": 1.11692637193413,\n",
      "                    \"price\": 47643.0,\n",
      "                    \"volume_24h\": 29541923459\n",
      "                }\n",
      "            },\n",
      "            \"rank\": 1,\n",
      "            \"symbol\": \"BTC\",\n",
      "            \"total_supply\": 18913581,\n",
      "            \"website_slug\": \"bitcoin\"\n",
      "        }\n",
      "    },\n",
      "    \"metadata\": {\n",
      "        \"error\": null,\n",
      "        \"num_cryptocurrencies\": 3105,\n",
      "        \"timestamp\": 1640728869\n",
      "    }\n",
      "}\n"
     ]
    }
   ],
   "source": [
    "# Using the Python requests library, make an API call to access the current price of BTC\n",
    "\n",
    "btc_response = requests.get(btc_url).json()\n",
    "\n",
    "# Use the json.dumps function to review the response data from the API call\n",
    "# Use the indent and sort_keys parameters to make the response object readable\n",
    "\n",
    "print(json.dumps(btc_response, indent=4, sort_keys=True))\n"
   ]
  },
  {
   "cell_type": "code",
   "execution_count": 7,
   "metadata": {},
   "outputs": [
    {
     "name": "stdout",
     "output_type": "stream",
     "text": [
      "{\n",
      "    \"data\": {\n",
      "        \"1027\": {\n",
      "            \"circulating_supply\": 118930594,\n",
      "            \"id\": 1027,\n",
      "            \"last_updated\": 1640729022,\n",
      "            \"max_supply\": 0,\n",
      "            \"name\": \"Ethereum\",\n",
      "            \"quotes\": {\n",
      "                \"USD\": {\n",
      "                    \"market_cap\": 453872891244,\n",
      "                    \"percent_change_1h\": -0.438251788581718,\n",
      "                    \"percent_change_24h\": -6.36405580035972,\n",
      "                    \"percent_change_7d\": -3.46037731266792,\n",
      "                    \"percentage_change_1h\": -0.438251788581718,\n",
      "                    \"percentage_change_24h\": -6.36405580035972,\n",
      "                    \"percentage_change_7d\": -3.46037731266792,\n",
      "                    \"price\": 3813.78,\n",
      "                    \"volume_24h\": 18197286986\n",
      "                }\n",
      "            },\n",
      "            \"rank\": 2,\n",
      "            \"symbol\": \"ETH\",\n",
      "            \"total_supply\": 118930594,\n",
      "            \"website_slug\": \"ethereum\"\n",
      "        }\n",
      "    },\n",
      "    \"metadata\": {\n",
      "        \"error\": null,\n",
      "        \"num_cryptocurrencies\": 3105,\n",
      "        \"timestamp\": 1640729022\n",
      "    }\n",
      "}\n"
     ]
    }
   ],
   "source": [
    "# Using the Python requests library, make an API call to access the current price ETH\n",
    "\n",
    "eth_response = requests.get(eth_url).json()\n",
    "\n",
    "# Use the json.dumps function to review the response data from the API call\n",
    "# Use the indent and sort_keys parameters to make the response object readable\n",
    "\n",
    "print(json.dumps(eth_response, indent=4, sort_keys=True))\n"
   ]
  },
  {
   "cell_type": "markdown",
   "metadata": {},
   "source": [
    "#### Step 3: Navigate the JSON response object to access the current price of each coin, and store each in a variable."
   ]
  },
  {
   "cell_type": "code",
   "execution_count": 8,
   "metadata": {},
   "outputs": [
    {
     "name": "stdout",
     "output_type": "stream",
     "text": [
      "The price for Bitcoin is $47643.0\n"
     ]
    }
   ],
   "source": [
    "# Navigate the BTC response object to access the current price of BTC\n",
    "\n",
    "btc_price = btc_response['data']['1']['quotes']['USD']['price']\n",
    "\n",
    "# Print the current price of BTC\n",
    "\n",
    "print(f\"The price for Bitcoin is ${btc_price}\")\n"
   ]
  },
  {
   "cell_type": "code",
   "execution_count": 9,
   "metadata": {},
   "outputs": [
    {
     "name": "stdout",
     "output_type": "stream",
     "text": [
      "The price for Ethereum is $3813.78\n"
     ]
    }
   ],
   "source": [
    "# Navigate the BTC response object to access the current price of ETH\n",
    "\n",
    "eth_price = eth_response['data']['1027']['quotes']['USD']['price']\n",
    "\n",
    "# Print the current price of ETH\n",
    "\n",
    "print(f\"The price for Ethereum is ${eth_price}\")\n",
    "\n"
   ]
  },
  {
   "cell_type": "markdown",
   "metadata": {},
   "source": [
    "### Step 4: Calculate the value, in US dollars, of the current amount of each cryptocurrency and of the entire cryptocurrency wallet."
   ]
  },
  {
   "cell_type": "code",
   "execution_count": 10,
   "metadata": {},
   "outputs": [
    {
     "name": "stdout",
     "output_type": "stream",
     "text": [
      "The value for the holding in Bitcoin is $57171.6\n"
     ]
    }
   ],
   "source": [
    "# Compute the current value of the BTC holding \n",
    "btc_value = btc_coins * btc_price\n",
    "\n",
    "\n",
    "# Print current value of your holding in BTC\n",
    "\n",
    "print(f\"The value for the holding in Bitcoin is ${btc_value}\")\n",
    "\n"
   ]
  },
  {
   "cell_type": "code",
   "execution_count": 11,
   "metadata": {},
   "outputs": [
    {
     "name": "stdout",
     "output_type": "stream",
     "text": [
      "The value for the holding in Ethereum is $20213.034\n"
     ]
    }
   ],
   "source": [
    "# Compute the current value of the ETH holding \n",
    "eth_value = eth_coins * eth_price\n",
    "\n",
    "# Print current value of your holding in ETH\n",
    "\n",
    "print(f\"The value for the holding in Ethereum is ${eth_value}\")\n",
    "\n"
   ]
  },
  {
   "cell_type": "code",
   "execution_count": 12,
   "metadata": {},
   "outputs": [
    {
     "name": "stdout",
     "output_type": "stream",
     "text": [
      "The value for the cryotocurrency wallet is $77384.63399999999\n"
     ]
    }
   ],
   "source": [
    "# Compute the total value of the cryptocurrency wallet\n",
    "# Add the value of the BTC holding to the value of the ETH holding\n",
    "total_crypto_wallet = eth_value + btc_value\n",
    "\n",
    "# Print current cryptocurrency wallet balance\n",
    "\n",
    "print(f\"The value for the cryotocurrency wallet is ${total_crypto_wallet}\")\n"
   ]
  },
  {
   "cell_type": "markdown",
   "metadata": {},
   "source": [
    "### Evaluate the Stock and Bond Holdings by Using the Alpaca SDK\n",
    "\n",
    "In this section, you’ll determine the current value of a member’s stock and bond holdings. You’ll make an API call to Alpaca via the Alpaca SDK to get the current closing prices of the SPDR S&P 500 ETF Trust (ticker: SPY) and of the iShares Core US Aggregate Bond ETF (ticker: AGG). For the prototype, assume that the member holds 110 shares of SPY, which represents the stock portion of their portfolio, and 200 shares of AGG, which represents the bond portion. To do all this, complete the following steps:\n",
    "\n",
    "1. In the `Starter_Code` folder, create an environment file (`.env`) to store the values of your Alpaca API key and Alpaca secret key.\n",
    "\n",
    "2. Set the variables for the Alpaca API and secret keys. Using the Alpaca SDK, create the Alpaca `tradeapi.REST` object. In this object, include the parameters for the Alpaca API key, the secret key, and the version number.\n",
    "\n",
    "3. Set the following parameters for the Alpaca API call:\n",
    "\n",
    "    - `tickers`: Use the tickers for the member’s stock and bond holdings.\n",
    "\n",
    "    - `timeframe`: Use a time frame of one day.\n",
    "\n",
    "    - `start_date` and `end_date`: Use the same date for these parameters, and format them with the date of the previous weekday (or `2020-08-07`). This is because you want the one closing price for the most-recent trading day.\n",
    "\n",
    "4. Get the current closing prices for `SPY` and `AGG` by using the Alpaca `get_barset` function. Format the response as a Pandas DataFrame by including the `df` property at the end of the `get_barset` function.\n",
    "\n",
    "5. Navigating the Alpaca response DataFrame, select the `SPY` and `AGG` closing prices, and store them as variables.\n",
    "\n",
    "6. Calculate the value, in US dollars, of the current amount of shares in each of the stock and bond portions of the portfolio, and print the results.\n"
   ]
  },
  {
   "cell_type": "markdown",
   "metadata": {},
   "source": [
    "#### Review the total number of shares held in both (SPY) and (AGG)."
   ]
  },
  {
   "cell_type": "code",
   "execution_count": 13,
   "metadata": {},
   "outputs": [],
   "source": [
    "# Current amount of shares held in both the stock (SPY) and bond (AGG) portion of the portfolio.\n",
    "spy_shares = 110\n",
    "agg_shares = 200\n"
   ]
  },
  {
   "cell_type": "markdown",
   "metadata": {},
   "source": [
    "#### Step 1: In the `Starter_Code` folder, create an environment file (`.env`) to store the values of your Alpaca API key and Alpaca secret key."
   ]
  },
  {
   "cell_type": "markdown",
   "metadata": {},
   "source": [
    "#### Step 2: Set the variables for the Alpaca API and secret keys. Using the Alpaca SDK, create the Alpaca `tradeapi.REST` object. In this object, include the parameters for the Alpaca API key, the secret key, and the version number."
   ]
  },
  {
   "cell_type": "code",
   "execution_count": 14,
   "metadata": {},
   "outputs": [],
   "source": [
    "# Set the variables for the Alpaca API and secret keys\n",
    "\n",
    "alpaca_api_key = os.getenv(\"ALPACA_API_KEY\")\n",
    "alpaca_secret_key = os.getenv(\"ALPACA_SECRET_KEY\")\n",
    "\n",
    "# Create the Alpaca tradeapi.REST object\n",
    "\n",
    "alpaca = tradeapi.REST(\n",
    "    alpaca_api_key,\n",
    "    alpaca_secret_key,\n",
    "    api_version=\"v2\")\n"
   ]
  },
  {
   "cell_type": "markdown",
   "metadata": {},
   "source": [
    "#### Step 3: Set the following parameters for the Alpaca API call:\n",
    "\n",
    "- `tickers`: Use the tickers for the member’s stock and bond holdings.\n",
    "\n",
    "- `timeframe`: Use a time frame of one day.\n",
    "\n",
    "- `start_date` and `end_date`: Use the same date for these parameters, and format them with the date of the previous weekday (or `2020-08-07`). This is because you want the one closing price for the most-recent trading day.\n"
   ]
  },
  {
   "cell_type": "code",
   "execution_count": 15,
   "metadata": {},
   "outputs": [],
   "source": [
    "# Set the tickers for both the bond and stock portion of the portfolio\n",
    "\n",
    "tickers = [\"SPY\", \"AGG\"]\n",
    "\n",
    "# Set timeframe to 1D \n",
    "\n",
    "timeframe = \"1D\"\n",
    "\n",
    "# Format current date as ISO format\n",
    "# Set both the start and end date at the date of your prior weekday \n",
    "# This will give you the closing price of the previous trading day\n",
    "# Alternatively you can use a start and end date of 2020-08-07\n",
    "\n",
    "start_date = pd.Timestamp(\"2020-08-07\").isoformat()\n",
    "\n",
    "end_date = pd.Timestamp(\"2020-08-07\").isoformat()\n"
   ]
  },
  {
   "cell_type": "markdown",
   "metadata": {},
   "source": [
    "#### Step 4: Get the current closing prices for `SPY` and `AGG` by using the Alpaca `get_barset` function. Format the response as a Pandas DataFrame by including the `df` property at the end of the `get_barset` function."
   ]
  },
  {
   "cell_type": "code",
   "execution_count": 16,
   "metadata": {},
   "outputs": [
    {
     "data": {
      "text/html": [
       "<div>\n",
       "<style scoped>\n",
       "    .dataframe tbody tr th:only-of-type {\n",
       "        vertical-align: middle;\n",
       "    }\n",
       "\n",
       "    .dataframe tbody tr th {\n",
       "        vertical-align: top;\n",
       "    }\n",
       "\n",
       "    .dataframe thead tr th {\n",
       "        text-align: left;\n",
       "    }\n",
       "\n",
       "    .dataframe thead tr:last-of-type th {\n",
       "        text-align: right;\n",
       "    }\n",
       "</style>\n",
       "<table border=\"1\" class=\"dataframe\">\n",
       "  <thead>\n",
       "    <tr>\n",
       "      <th></th>\n",
       "      <th colspan=\"5\" halign=\"left\">AGG</th>\n",
       "      <th colspan=\"5\" halign=\"left\">SPY</th>\n",
       "    </tr>\n",
       "    <tr>\n",
       "      <th></th>\n",
       "      <th>open</th>\n",
       "      <th>high</th>\n",
       "      <th>low</th>\n",
       "      <th>close</th>\n",
       "      <th>volume</th>\n",
       "      <th>open</th>\n",
       "      <th>high</th>\n",
       "      <th>low</th>\n",
       "      <th>close</th>\n",
       "      <th>volume</th>\n",
       "    </tr>\n",
       "    <tr>\n",
       "      <th>time</th>\n",
       "      <th></th>\n",
       "      <th></th>\n",
       "      <th></th>\n",
       "      <th></th>\n",
       "      <th></th>\n",
       "      <th></th>\n",
       "      <th></th>\n",
       "      <th></th>\n",
       "      <th></th>\n",
       "      <th></th>\n",
       "    </tr>\n",
       "  </thead>\n",
       "  <tbody>\n",
       "    <tr>\n",
       "      <th>2021-08-06 00:00:00-04:00</th>\n",
       "      <td>115.93</td>\n",
       "      <td>116.0200</td>\n",
       "      <td>115.780</td>\n",
       "      <td>115.79</td>\n",
       "      <td>3125122</td>\n",
       "      <td>442.10</td>\n",
       "      <td>442.9400</td>\n",
       "      <td>441.80</td>\n",
       "      <td>442.52</td>\n",
       "      <td>40274051</td>\n",
       "    </tr>\n",
       "    <tr>\n",
       "      <th>2021-08-09 00:00:00-04:00</th>\n",
       "      <td>115.89</td>\n",
       "      <td>115.9600</td>\n",
       "      <td>115.580</td>\n",
       "      <td>115.59</td>\n",
       "      <td>5003990</td>\n",
       "      <td>442.45</td>\n",
       "      <td>442.7950</td>\n",
       "      <td>441.31</td>\n",
       "      <td>442.14</td>\n",
       "      <td>32740524</td>\n",
       "    </tr>\n",
       "    <tr>\n",
       "      <th>2021-08-10 00:00:00-04:00</th>\n",
       "      <td>115.65</td>\n",
       "      <td>115.6500</td>\n",
       "      <td>115.435</td>\n",
       "      <td>115.44</td>\n",
       "      <td>6692325</td>\n",
       "      <td>442.61</td>\n",
       "      <td>443.4400</td>\n",
       "      <td>441.88</td>\n",
       "      <td>442.66</td>\n",
       "      <td>39129442</td>\n",
       "    </tr>\n",
       "    <tr>\n",
       "      <th>2021-08-11 00:00:00-04:00</th>\n",
       "      <td>115.46</td>\n",
       "      <td>115.7000</td>\n",
       "      <td>115.340</td>\n",
       "      <td>115.55</td>\n",
       "      <td>6423130</td>\n",
       "      <td>443.80</td>\n",
       "      <td>443.8820</td>\n",
       "      <td>442.62</td>\n",
       "      <td>443.74</td>\n",
       "      <td>35841235</td>\n",
       "    </tr>\n",
       "    <tr>\n",
       "      <th>2021-08-12 00:00:00-04:00</th>\n",
       "      <td>115.49</td>\n",
       "      <td>115.5799</td>\n",
       "      <td>115.400</td>\n",
       "      <td>115.54</td>\n",
       "      <td>4248390</td>\n",
       "      <td>443.62</td>\n",
       "      <td>445.2572</td>\n",
       "      <td>442.66</td>\n",
       "      <td>445.08</td>\n",
       "      <td>34892086</td>\n",
       "    </tr>\n",
       "  </tbody>\n",
       "</table>\n",
       "</div>"
      ],
      "text/plain": [
       "                              AGG                                         SPY  \\\n",
       "                             open      high      low   close   volume    open   \n",
       "time                                                                            \n",
       "2021-08-06 00:00:00-04:00  115.93  116.0200  115.780  115.79  3125122  442.10   \n",
       "2021-08-09 00:00:00-04:00  115.89  115.9600  115.580  115.59  5003990  442.45   \n",
       "2021-08-10 00:00:00-04:00  115.65  115.6500  115.435  115.44  6692325  442.61   \n",
       "2021-08-11 00:00:00-04:00  115.46  115.7000  115.340  115.55  6423130  443.80   \n",
       "2021-08-12 00:00:00-04:00  115.49  115.5799  115.400  115.54  4248390  443.62   \n",
       "\n",
       "                                                               \n",
       "                               high     low   close    volume  \n",
       "time                                                           \n",
       "2021-08-06 00:00:00-04:00  442.9400  441.80  442.52  40274051  \n",
       "2021-08-09 00:00:00-04:00  442.7950  441.31  442.14  32740524  \n",
       "2021-08-10 00:00:00-04:00  443.4400  441.88  442.66  39129442  \n",
       "2021-08-11 00:00:00-04:00  443.8820  442.62  443.74  35841235  \n",
       "2021-08-12 00:00:00-04:00  445.2572  442.66  445.08  34892086  "
      ]
     },
     "execution_count": 16,
     "metadata": {},
     "output_type": "execute_result"
    }
   ],
   "source": [
    "# Use the Alpaca get_barset function to get current closing prices the portfolio\n",
    "# Be sure to set the `df` property after the function to format the response object as a DataFrame\n",
    "\n",
    "alpaca_df = alpaca.get_barset(\n",
    "    tickers,\n",
    "    timeframe,\n",
    "    start = start_date,\n",
    "    end = end_date\n",
    ").df\n",
    "\n",
    "# Review the first 5 rows of the Alpaca DataFrame\n",
    "\n",
    "alpaca_df.head()\n"
   ]
  },
  {
   "cell_type": "markdown",
   "metadata": {},
   "source": [
    "#### Step 5: Navigating the Alpaca response DataFrame, select the `SPY` and `AGG` closing prices, and store them as variables."
   ]
  },
  {
   "cell_type": "code",
   "execution_count": 17,
   "metadata": {},
   "outputs": [
    {
     "name": "stdout",
     "output_type": "stream",
     "text": [
      "115.79\n"
     ]
    }
   ],
   "source": [
    "# Access the closing price for AGG from the Alpaca DataFrame\n",
    "# Converting the value to a floating point number\n",
    "\n",
    "agg_close_price = (alpaca_df[\"AGG\"][\"close\"][0])\n",
    "\n",
    "# Print the AGG closing price\n",
    "\n",
    "print(agg_close_price)\n"
   ]
  },
  {
   "cell_type": "code",
   "execution_count": 18,
   "metadata": {},
   "outputs": [
    {
     "name": "stdout",
     "output_type": "stream",
     "text": [
      "442.52\n"
     ]
    }
   ],
   "source": [
    "# Access the closing price for SPY from the Alpaca DataFrame\n",
    "# Converting the value to a floating point number\n",
    "\n",
    "spy_close_price = (alpaca_df[\"SPY\"][\"close\"][0])\n",
    "\n",
    "# Print the SPY closing price\n",
    "\n",
    "print(spy_close_price)\n"
   ]
  },
  {
   "cell_type": "markdown",
   "metadata": {},
   "source": [
    "#### Step 6: Calculate the value, in US dollars, of the current amount of shares in each of the stock and bond portions of the portfolio, and print the results."
   ]
  },
  {
   "cell_type": "code",
   "execution_count": 19,
   "metadata": {},
   "outputs": [
    {
     "name": "stdout",
     "output_type": "stream",
     "text": [
      "23158.0\n"
     ]
    }
   ],
   "source": [
    "# Calculate the current value of the bond portion of the portfolio\n",
    "\n",
    "agg_value = agg_close_price * agg_shares\n",
    "\n",
    "# Print the current value of the bond portfolio\n",
    "\n",
    "print(agg_value)\n"
   ]
  },
  {
   "cell_type": "code",
   "execution_count": 20,
   "metadata": {},
   "outputs": [
    {
     "name": "stdout",
     "output_type": "stream",
     "text": [
      "12736.900000000001\n"
     ]
    }
   ],
   "source": [
    "# Calculate the current value of the stock portion of the portfolio\n",
    "\n",
    "spy_value = agg_close_price * spy_shares\n",
    "\n",
    "# Print the current value of the stock portfolio\n",
    "\n",
    "print(spy_value)\n"
   ]
  },
  {
   "cell_type": "code",
   "execution_count": 21,
   "metadata": {},
   "outputs": [
    {
     "name": "stdout",
     "output_type": "stream",
     "text": [
      "35894.9\n"
     ]
    }
   ],
   "source": [
    "# Calculate the total value of the stock and bond portion of the portfolio\n",
    "total_stocks_bonds = spy_value + agg_value\n",
    "\n",
    "# Print the current balance of the stock and bond portion of the portfolio\n",
    "\n",
    "print(total_stocks_bonds)\n"
   ]
  },
  {
   "cell_type": "code",
   "execution_count": 22,
   "metadata": {},
   "outputs": [
    {
     "name": "stdout",
     "output_type": "stream",
     "text": [
      "113279.53399999999\n"
     ]
    }
   ],
   "source": [
    "# Calculate the total value of the member's entire savings portfolio\n",
    "# Add the value of the cryptocurrency walled to the value of the total stocks and bonds\n",
    "\n",
    "total_portfolio = total_stocks_bonds + total_crypto_wallet\n",
    "\n",
    "# Print current cryptocurrency wallet balance\n",
    "\n",
    "print(total_portfolio)\n"
   ]
  },
  {
   "cell_type": "markdown",
   "metadata": {},
   "source": [
    "### Evaluate the Emergency Fund\n",
    "\n",
    "In this section, you’ll use the valuations for the cryptocurrency wallet and for the stock and bond portions of the portfolio to determine if the credit union member has enough savings to build an emergency fund into their financial plan. To do this, complete the following steps:\n",
    "\n",
    "1. Create a Python list named `savings_data` that has two elements. The first element contains the total value of the cryptocurrency wallet. The second element contains the total value of the stock and bond portions of the portfolio.\n",
    "\n",
    "2. Use the `savings_data` list to create a Pandas DataFrame named `savings_df`, and then display this DataFrame. The function to create the DataFrame should take the following three parameters:\n",
    "\n",
    "    - `savings_data`: Use the list that you just created.\n",
    "\n",
    "    - `columns`: Set this parameter equal to a Python list with a single value called `amount`.\n",
    "\n",
    "    - `index`: Set this parameter equal to a Python list with the values of `crypto` and `stock/bond`.\n",
    "\n",
    "3. Use the `savings_df` DataFrame to plot a pie chart that visualizes the composition of the member’s portfolio. The y-axis of the pie chart uses `amount`. Be sure to add a title.\n",
    "\n",
    "4. Using Python, determine if the current portfolio has enough to create an emergency fund as part of the member’s financial plan. Ideally, an emergency fund should equal to three times the member’s monthly income. To do this, implement the following steps:\n",
    "\n",
    "    1. Create a variable named `emergency_fund_value`, and set it equal to three times the value of the member’s `monthly_income` of $12000. (You set this earlier in Part 1).\n",
    "\n",
    "    2. Create a series of three if statements to determine if the member’s total portfolio is large enough to fund the emergency portfolio:\n",
    "\n",
    "        1. If the total portfolio value is greater than the emergency fund value, display a message congratulating the member for having enough money in this fund.\n",
    "\n",
    "        2. Else if the total portfolio value is equal to the emergency fund value, display a message congratulating the member on reaching this important financial goal.\n",
    "\n",
    "        3. Else the total portfolio is less than the emergency fund value, so display a message showing how many dollars away the member is from reaching the goal. (Subtract the total portfolio value from the emergency fund value.)\n"
   ]
  },
  {
   "cell_type": "markdown",
   "metadata": {},
   "source": [
    "#### Step 1: Create a Python list named `savings_data` that has two elements. The first element contains the total value of the cryptocurrency wallet. The second element contains the total value of the stock and bond portions of the portfolio."
   ]
  },
  {
   "cell_type": "code",
   "execution_count": 23,
   "metadata": {},
   "outputs": [
    {
     "data": {
      "text/plain": [
       "[77384.63399999999, 35894.9]"
      ]
     },
     "execution_count": 23,
     "metadata": {},
     "output_type": "execute_result"
    }
   ],
   "source": [
    "# Consolidate financial assets data into a Python list\n",
    "\n",
    "savings_data = [total_crypto_wallet, total_stocks_bonds]\n",
    "\n",
    "# Review the Python list savings_data\n",
    "\n",
    "savings_data\n"
   ]
  },
  {
   "cell_type": "markdown",
   "metadata": {},
   "source": [
    "#### Step 2: Use the `savings_data` list to create a Pandas DataFrame named `savings_df`, and then display this DataFrame. The function to create the DataFrame should take the following three parameters:\n",
    "\n",
    "- `savings_data`: Use the list that you just created.\n",
    "\n",
    "- `columns`: Set this parameter equal to a Python list with a single value called `amount`.\n",
    "\n",
    "- `index`: Set this parameter equal to a Python list with the values of `crypto` and `stock/bond`.\n"
   ]
  },
  {
   "cell_type": "code",
   "execution_count": 24,
   "metadata": {},
   "outputs": [
    {
     "data": {
      "text/html": [
       "<div>\n",
       "<style scoped>\n",
       "    .dataframe tbody tr th:only-of-type {\n",
       "        vertical-align: middle;\n",
       "    }\n",
       "\n",
       "    .dataframe tbody tr th {\n",
       "        vertical-align: top;\n",
       "    }\n",
       "\n",
       "    .dataframe thead th {\n",
       "        text-align: right;\n",
       "    }\n",
       "</style>\n",
       "<table border=\"1\" class=\"dataframe\">\n",
       "  <thead>\n",
       "    <tr style=\"text-align: right;\">\n",
       "      <th></th>\n",
       "      <th>amount</th>\n",
       "    </tr>\n",
       "  </thead>\n",
       "  <tbody>\n",
       "    <tr>\n",
       "      <th>crypto</th>\n",
       "      <td>77384.634</td>\n",
       "    </tr>\n",
       "    <tr>\n",
       "      <th>stock/bond</th>\n",
       "      <td>35894.900</td>\n",
       "    </tr>\n",
       "  </tbody>\n",
       "</table>\n",
       "</div>"
      ],
      "text/plain": [
       "               amount\n",
       "crypto      77384.634\n",
       "stock/bond  35894.900"
      ]
     },
     "execution_count": 24,
     "metadata": {},
     "output_type": "execute_result"
    }
   ],
   "source": [
    "# Create a Pandas DataFrame called savings_df \n",
    "\n",
    "savings_df = pd.DataFrame(savings_data,\n",
    "    columns = [\"amount\"],\n",
    "    index = [\"crypto\", \"stock/bond\"])\n",
    "\n",
    "\n",
    "\n",
    "# Display the savings_df DataFrame\n",
    "\n",
    "savings_df\n"
   ]
  },
  {
   "cell_type": "markdown",
   "metadata": {},
   "source": [
    "#### Step 3: Use the `savings_df` DataFrame to plot a pie chart that visualizes the composition of the member’s portfolio. The y-axis of the pie chart uses `amount`. Be sure to add a title."
   ]
  },
  {
   "cell_type": "code",
   "execution_count": 25,
   "metadata": {},
   "outputs": [
    {
     "data": {
      "text/plain": [
       "<AxesSubplot:title={'center':'Savings Portfolio'}, ylabel='amount'>"
      ]
     },
     "execution_count": 25,
     "metadata": {},
     "output_type": "execute_result"
    },
    {
     "data": {
      "image/png": "[encoded data removed]",
      "text/plain": [
       "<Figure size 432x288 with 1 Axes>"
      ]
     },
     "metadata": {},
     "output_type": "display_data"
    }
   ],
   "source": [
    "# Plot the total value of the member's portfolio (crypto and stock/bond) in a pie chart\n",
    "\n",
    "savings_df.plot.pie(y = \"amount\", title = \"Savings Portfolio\")\n"
   ]
  },
  {
   "cell_type": "markdown",
   "metadata": {},
   "source": [
    "#### Step 4: Using Python, determine if the current portfolio has enough to create an emergency fund as part of the member’s financial plan. Ideally, an emergency fund should equal to three times the member’s monthly income. To do this, implement the following steps:\n",
    "\n",
    "Step 1. Create a variable named `emergency_fund_value`, and set it equal to three times the value of the member’s `monthly_income` of 12000. (You set this earlier in Part 1).\n",
    "\n",
    "Step 2. Create a series of three if statements to determine if the member’s total portfolio is large enough to fund the emergency portfolio:\n",
    "\n",
    "* If the total portfolio value is greater than the emergency fund value, display a message congratulating the member for having enough money in this fund.\n",
    "\n",
    "* Else if the total portfolio value is equal to the emergency fund value, display a message congratulating the member on reaching this important financial goal.\n",
    "\n",
    "* Else the total portfolio is less than the emergency fund value, so display a message showing how many dollars away the member is from reaching the goal. (Subtract the total portfolio value from the emergency fund value.)\n"
   ]
  },
  {
   "cell_type": "markdown",
   "metadata": {},
   "source": [
    "##### Step 4-1: Create a variable named `emergency_fund_value`, and set it equal to three times the value of the member’s `monthly_income` of 12000. (You set this earlier in Part 1)."
   ]
  },
  {
   "cell_type": "code",
   "execution_count": 26,
   "metadata": {},
   "outputs": [],
   "source": [
    "# Create a variable named emergency_fund_value\n",
    "\n",
    "emergency_fund_value = monthly_income * 3\n"
   ]
  },
  {
   "cell_type": "markdown",
   "metadata": {},
   "source": [
    "##### Step 4-2: Create a series of three if statements to determine if the member’s total portfolio is large enough to fund the emergency portfolio:\n",
    "\n",
    "* If the total portfolio value is greater than the emergency fund value, display a message congratulating the member for having enough money in this fund.\n",
    "\n",
    "* Else if the total portfolio value is equal to the emergency fund value, display a message congratulating the member on reaching this important financial goal.\n",
    "\n",
    "* Else the total portfolio is less than the emergency fund value, so display a message showing how many dollars away the member is from reaching the goal. (Subtract the total portfolio value from the emergency fund value.)"
   ]
  },
  {
   "cell_type": "code",
   "execution_count": 27,
   "metadata": {},
   "outputs": [
    {
     "name": "stdout",
     "output_type": "stream",
     "text": [
      "Congratulations! You have enough money in this fund.\n"
     ]
    }
   ],
   "source": [
    "# Evaluate the possibility of creating an emergency fund with 3 conditions:\n",
    "\n",
    "if total_portfolio > emergency_fund_value:\n",
    "    print(\"Congratulations! You have enough money in this fund.\")\n",
    "elif total_portfolio == emergency_fund_value:\n",
    "    print(\"Congratulations! You have reached your financial goal.\")\n",
    "else:\n",
    "    print(f\"You are ${emergency_fund_value - total_portfolio} away from your goal.\")\n",
    "    "
   ]
  },
  {
   "cell_type": "markdown",
   "metadata": {},
   "source": [
    "## Part 2: Create a Financial Planner for Retirement"
   ]
  },
  {
   "cell_type": "markdown",
   "metadata": {},
   "source": [
    "### Create the Monte Carlo Simulation\n",
    "\n",
    "In this section, you’ll use the MCForecastTools library to create a Monte Carlo simulation for the member’s savings portfolio. To do this, complete the following steps:\n",
    "\n",
    "1. Make an API call via the Alpaca SDK to get 3 years of historical closing prices for a traditional 60/40 portfolio split: 60% stocks (SPY) and 40% bonds (AGG).\n",
    "\n",
    "2. Run a Monte Carlo simulation of 500 samples and 30 years for the 60/40 portfolio, and then plot the results.The following image shows the overlay line plot resulting from a simulation with these characteristics. However, because a random number generator is used to run each live Monte Carlo simulation, your image will differ slightly from this exact image:\n",
    "\n",
    "![A screenshot depicts the resulting plot.](Images/5-4-monte-carlo-line-plot.png)\n",
    "\n",
    "3. Plot the probability distribution of the Monte Carlo simulation. Plot the probability distribution of the Monte Carlo simulation. The following image shows the histogram plot resulting from a simulation with these characteristics. However, because a random number generator is used to run each live Monte Carlo simulation, your image will differ slightly from this exact image:\n",
    "\n",
    "![A screenshot depicts the histogram plot.](Images/5-4-monte-carlo-histogram.png)\n",
    "\n",
    "4. Generate the summary statistics for the Monte Carlo simulation.\n",
    "\n"
   ]
  },
  {
   "cell_type": "markdown",
   "metadata": {},
   "source": [
    "#### Step 1: Make an API call via the Alpaca SDK to get 3 years of historical closing prices for a traditional 60/40 portfolio split: 60% stocks (SPY) and 40% bonds (AGG)."
   ]
  },
  {
   "cell_type": "code",
   "execution_count": 28,
   "metadata": {},
   "outputs": [],
   "source": [
    "# Set start and end dates of 3 years back from your current date\n",
    "# Alternatively, you can use an end date of 2020-08-07 and work 3 years back from that date \n",
    "\n",
    "start_date_2 = pd.Timestamp(\"2017-08-07\").isoformat()\n",
    "\n",
    "# Set number of rows to 1000 to retrieve the maximum amount of rows\n",
    "\n",
    "limit_rows = 1000\n"
   ]
  },
  {
   "cell_type": "code",
   "execution_count": 29,
   "metadata": {},
   "outputs": [
    {
     "data": {
      "text/html": [
       "<div>\n",
       "<style scoped>\n",
       "    .dataframe tbody tr th:only-of-type {\n",
       "        vertical-align: middle;\n",
       "    }\n",
       "\n",
       "    .dataframe tbody tr th {\n",
       "        vertical-align: top;\n",
       "    }\n",
       "\n",
       "    .dataframe thead tr th {\n",
       "        text-align: left;\n",
       "    }\n",
       "\n",
       "    .dataframe thead tr:last-of-type th {\n",
       "        text-align: right;\n",
       "    }\n",
       "</style>\n",
       "<table border=\"1\" class=\"dataframe\">\n",
       "  <thead>\n",
       "    <tr>\n",
       "      <th></th>\n",
       "      <th colspan=\"5\" halign=\"left\">AGG</th>\n",
       "      <th colspan=\"5\" halign=\"left\">SPY</th>\n",
       "    </tr>\n",
       "    <tr>\n",
       "      <th></th>\n",
       "      <th>open</th>\n",
       "      <th>high</th>\n",
       "      <th>low</th>\n",
       "      <th>close</th>\n",
       "      <th>volume</th>\n",
       "      <th>open</th>\n",
       "      <th>high</th>\n",
       "      <th>low</th>\n",
       "      <th>close</th>\n",
       "      <th>volume</th>\n",
       "    </tr>\n",
       "    <tr>\n",
       "      <th>time</th>\n",
       "      <th></th>\n",
       "      <th></th>\n",
       "      <th></th>\n",
       "      <th></th>\n",
       "      <th></th>\n",
       "      <th></th>\n",
       "      <th></th>\n",
       "      <th></th>\n",
       "      <th></th>\n",
       "      <th></th>\n",
       "    </tr>\n",
       "  </thead>\n",
       "  <tbody>\n",
       "    <tr>\n",
       "      <th>2018-01-09 00:00:00-05:00</th>\n",
       "      <td>108.91</td>\n",
       "      <td>108.91</td>\n",
       "      <td>108.690</td>\n",
       "      <td>108.7100</td>\n",
       "      <td>1991045</td>\n",
       "      <td>274.40</td>\n",
       "      <td>275.25</td>\n",
       "      <td>274.09</td>\n",
       "      <td>274.53</td>\n",
       "      <td>40421422</td>\n",
       "    </tr>\n",
       "    <tr>\n",
       "      <th>2018-01-10 00:00:00-05:00</th>\n",
       "      <td>108.48</td>\n",
       "      <td>108.72</td>\n",
       "      <td>108.430</td>\n",
       "      <td>108.7100</td>\n",
       "      <td>3272935</td>\n",
       "      <td>273.69</td>\n",
       "      <td>274.42</td>\n",
       "      <td>272.92</td>\n",
       "      <td>274.10</td>\n",
       "      <td>41575815</td>\n",
       "    </tr>\n",
       "    <tr>\n",
       "      <th>2018-01-11 00:00:00-05:00</th>\n",
       "      <td>108.66</td>\n",
       "      <td>108.86</td>\n",
       "      <td>108.610</td>\n",
       "      <td>108.7700</td>\n",
       "      <td>2652838</td>\n",
       "      <td>274.75</td>\n",
       "      <td>276.09</td>\n",
       "      <td>274.56</td>\n",
       "      <td>276.08</td>\n",
       "      <td>39159808</td>\n",
       "    </tr>\n",
       "    <tr>\n",
       "      <th>2018-01-12 00:00:00-05:00</th>\n",
       "      <td>108.64</td>\n",
       "      <td>108.83</td>\n",
       "      <td>108.630</td>\n",
       "      <td>108.7401</td>\n",
       "      <td>2950016</td>\n",
       "      <td>276.42</td>\n",
       "      <td>278.11</td>\n",
       "      <td>276.27</td>\n",
       "      <td>277.91</td>\n",
       "      <td>53855427</td>\n",
       "    </tr>\n",
       "    <tr>\n",
       "      <th>2018-01-16 00:00:00-05:00</th>\n",
       "      <td>108.87</td>\n",
       "      <td>108.98</td>\n",
       "      <td>108.715</td>\n",
       "      <td>108.7600</td>\n",
       "      <td>6011248</td>\n",
       "      <td>279.35</td>\n",
       "      <td>280.09</td>\n",
       "      <td>276.18</td>\n",
       "      <td>276.96</td>\n",
       "      <td>70240852</td>\n",
       "    </tr>\n",
       "  </tbody>\n",
       "</table>\n",
       "</div>"
      ],
      "text/plain": [
       "                              AGG                                         SPY  \\\n",
       "                             open    high      low     close   volume    open   \n",
       "time                                                                            \n",
       "2018-01-09 00:00:00-05:00  108.91  108.91  108.690  108.7100  1991045  274.40   \n",
       "2018-01-10 00:00:00-05:00  108.48  108.72  108.430  108.7100  3272935  273.69   \n",
       "2018-01-11 00:00:00-05:00  108.66  108.86  108.610  108.7700  2652838  274.75   \n",
       "2018-01-12 00:00:00-05:00  108.64  108.83  108.630  108.7401  2950016  276.42   \n",
       "2018-01-16 00:00:00-05:00  108.87  108.98  108.715  108.7600  6011248  279.35   \n",
       "\n",
       "                                                             \n",
       "                             high     low   close    volume  \n",
       "time                                                         \n",
       "2018-01-09 00:00:00-05:00  275.25  274.09  274.53  40421422  \n",
       "2018-01-10 00:00:00-05:00  274.42  272.92  274.10  41575815  \n",
       "2018-01-11 00:00:00-05:00  276.09  274.56  276.08  39159808  \n",
       "2018-01-12 00:00:00-05:00  278.11  276.27  277.91  53855427  \n",
       "2018-01-16 00:00:00-05:00  280.09  276.18  276.96  70240852  "
      ]
     },
     "metadata": {},
     "output_type": "display_data"
    },
    {
     "data": {
      "text/html": [
       "<div>\n",
       "<style scoped>\n",
       "    .dataframe tbody tr th:only-of-type {\n",
       "        vertical-align: middle;\n",
       "    }\n",
       "\n",
       "    .dataframe tbody tr th {\n",
       "        vertical-align: top;\n",
       "    }\n",
       "\n",
       "    .dataframe thead tr th {\n",
       "        text-align: left;\n",
       "    }\n",
       "\n",
       "    .dataframe thead tr:last-of-type th {\n",
       "        text-align: right;\n",
       "    }\n",
       "</style>\n",
       "<table border=\"1\" class=\"dataframe\">\n",
       "  <thead>\n",
       "    <tr>\n",
       "      <th></th>\n",
       "      <th colspan=\"5\" halign=\"left\">AGG</th>\n",
       "      <th colspan=\"5\" halign=\"left\">SPY</th>\n",
       "    </tr>\n",
       "    <tr>\n",
       "      <th></th>\n",
       "      <th>open</th>\n",
       "      <th>high</th>\n",
       "      <th>low</th>\n",
       "      <th>close</th>\n",
       "      <th>volume</th>\n",
       "      <th>open</th>\n",
       "      <th>high</th>\n",
       "      <th>low</th>\n",
       "      <th>close</th>\n",
       "      <th>volume</th>\n",
       "    </tr>\n",
       "    <tr>\n",
       "      <th>time</th>\n",
       "      <th></th>\n",
       "      <th></th>\n",
       "      <th></th>\n",
       "      <th></th>\n",
       "      <th></th>\n",
       "      <th></th>\n",
       "      <th></th>\n",
       "      <th></th>\n",
       "      <th></th>\n",
       "      <th></th>\n",
       "    </tr>\n",
       "  </thead>\n",
       "  <tbody>\n",
       "    <tr>\n",
       "      <th>2021-12-21 00:00:00-05:00</th>\n",
       "      <td>114.07</td>\n",
       "      <td>114.275</td>\n",
       "      <td>113.97</td>\n",
       "      <td>114.23</td>\n",
       "      <td>12469324</td>\n",
       "      <td>458.57</td>\n",
       "      <td>463.21</td>\n",
       "      <td>456.31</td>\n",
       "      <td>463.035</td>\n",
       "      <td>62360339</td>\n",
       "    </tr>\n",
       "    <tr>\n",
       "      <th>2021-12-22 00:00:00-05:00</th>\n",
       "      <td>114.33</td>\n",
       "      <td>114.350</td>\n",
       "      <td>114.17</td>\n",
       "      <td>114.34</td>\n",
       "      <td>5736004</td>\n",
       "      <td>462.79</td>\n",
       "      <td>467.81</td>\n",
       "      <td>462.58</td>\n",
       "      <td>467.690</td>\n",
       "      <td>50038091</td>\n",
       "    </tr>\n",
       "    <tr>\n",
       "      <th>2021-12-23 00:00:00-05:00</th>\n",
       "      <td>114.29</td>\n",
       "      <td>114.310</td>\n",
       "      <td>114.07</td>\n",
       "      <td>114.19</td>\n",
       "      <td>5304915</td>\n",
       "      <td>468.75</td>\n",
       "      <td>472.19</td>\n",
       "      <td>468.64</td>\n",
       "      <td>470.580</td>\n",
       "      <td>47149529</td>\n",
       "    </tr>\n",
       "    <tr>\n",
       "      <th>2021-12-27 00:00:00-05:00</th>\n",
       "      <td>114.15</td>\n",
       "      <td>114.300</td>\n",
       "      <td>114.13</td>\n",
       "      <td>114.27</td>\n",
       "      <td>5069840</td>\n",
       "      <td>472.03</td>\n",
       "      <td>477.31</td>\n",
       "      <td>472.01</td>\n",
       "      <td>477.270</td>\n",
       "      <td>46260198</td>\n",
       "    </tr>\n",
       "    <tr>\n",
       "      <th>2021-12-28 00:00:00-05:00</th>\n",
       "      <td>114.43</td>\n",
       "      <td>114.450</td>\n",
       "      <td>114.17</td>\n",
       "      <td>114.22</td>\n",
       "      <td>4892072</td>\n",
       "      <td>477.72</td>\n",
       "      <td>478.81</td>\n",
       "      <td>476.06</td>\n",
       "      <td>476.890</td>\n",
       "      <td>37370466</td>\n",
       "    </tr>\n",
       "  </tbody>\n",
       "</table>\n",
       "</div>"
      ],
      "text/plain": [
       "                              AGG                                        SPY  \\\n",
       "                             open     high     low   close    volume    open   \n",
       "time                                                                           \n",
       "2021-12-21 00:00:00-05:00  114.07  114.275  113.97  114.23  12469324  458.57   \n",
       "2021-12-22 00:00:00-05:00  114.33  114.350  114.17  114.34   5736004  462.79   \n",
       "2021-12-23 00:00:00-05:00  114.29  114.310  114.07  114.19   5304915  468.75   \n",
       "2021-12-27 00:00:00-05:00  114.15  114.300  114.13  114.27   5069840  472.03   \n",
       "2021-12-28 00:00:00-05:00  114.43  114.450  114.17  114.22   4892072  477.72   \n",
       "\n",
       "                                                              \n",
       "                             high     low    close    volume  \n",
       "time                                                          \n",
       "2021-12-21 00:00:00-05:00  463.21  456.31  463.035  62360339  \n",
       "2021-12-22 00:00:00-05:00  467.81  462.58  467.690  50038091  \n",
       "2021-12-23 00:00:00-05:00  472.19  468.64  470.580  47149529  \n",
       "2021-12-27 00:00:00-05:00  477.31  472.01  477.270  46260198  \n",
       "2021-12-28 00:00:00-05:00  478.81  476.06  476.890  37370466  "
      ]
     },
     "metadata": {},
     "output_type": "display_data"
    }
   ],
   "source": [
    "# Use the Alpaca get_barset function to make the API call to get the 3 years worth of pricing data\n",
    "# The tickers and timeframe parameters should have been set in Part 1 of this activity \n",
    "# The start and end dates should be updated with the information set above\n",
    "# Remember to add the df property to the end of the call so the response is returned as a DataFrame\n",
    "\n",
    "alpaca_df_2 = alpaca.get_barset(\n",
    "    tickers,\n",
    "    timeframe,\n",
    "    start = start_date_2,\n",
    "    end = end_date,\n",
    "    limit = limit_rows\n",
    ").df\n",
    "\n",
    "# Display both the first and last five rows of the DataFrame\n",
    "\n",
    "display(alpaca_df_2.head())\n",
    "\n",
    "display(alpaca_df_2.tail())\n"
   ]
  },
  {
   "cell_type": "markdown",
   "metadata": {},
   "source": [
    "#### Step 2: Run a Monte Carlo simulation of 500 samples and 30 years for the 60/40 portfolio, and then plot the results."
   ]
  },
  {
   "cell_type": "code",
   "execution_count": 42,
   "metadata": {},
   "outputs": [
    {
     "data": {
      "text/html": [
       "<div>\n",
       "<style scoped>\n",
       "    .dataframe tbody tr th:only-of-type {\n",
       "        vertical-align: middle;\n",
       "    }\n",
       "\n",
       "    .dataframe tbody tr th {\n",
       "        vertical-align: top;\n",
       "    }\n",
       "\n",
       "    .dataframe thead tr th {\n",
       "        text-align: left;\n",
       "    }\n",
       "\n",
       "    .dataframe thead tr:last-of-type th {\n",
       "        text-align: right;\n",
       "    }\n",
       "</style>\n",
       "<table border=\"1\" class=\"dataframe\">\n",
       "  <thead>\n",
       "    <tr>\n",
       "      <th></th>\n",
       "      <th colspan=\"6\" halign=\"left\">AGG</th>\n",
       "      <th colspan=\"6\" halign=\"left\">SPY</th>\n",
       "    </tr>\n",
       "    <tr>\n",
       "      <th></th>\n",
       "      <th>open</th>\n",
       "      <th>high</th>\n",
       "      <th>low</th>\n",
       "      <th>close</th>\n",
       "      <th>volume</th>\n",
       "      <th>daily_return</th>\n",
       "      <th>open</th>\n",
       "      <th>high</th>\n",
       "      <th>low</th>\n",
       "      <th>close</th>\n",
       "      <th>volume</th>\n",
       "      <th>daily_return</th>\n",
       "    </tr>\n",
       "    <tr>\n",
       "      <th>time</th>\n",
       "      <th></th>\n",
       "      <th></th>\n",
       "      <th></th>\n",
       "      <th></th>\n",
       "      <th></th>\n",
       "      <th></th>\n",
       "      <th></th>\n",
       "      <th></th>\n",
       "      <th></th>\n",
       "      <th></th>\n",
       "      <th></th>\n",
       "      <th></th>\n",
       "    </tr>\n",
       "  </thead>\n",
       "  <tbody>\n",
       "    <tr>\n",
       "      <th>2018-01-09 00:00:00-05:00</th>\n",
       "      <td>108.91</td>\n",
       "      <td>108.91</td>\n",
       "      <td>108.690</td>\n",
       "      <td>108.7100</td>\n",
       "      <td>1991045</td>\n",
       "      <td>NaN</td>\n",
       "      <td>274.40</td>\n",
       "      <td>275.25</td>\n",
       "      <td>274.09</td>\n",
       "      <td>274.53</td>\n",
       "      <td>40421422</td>\n",
       "      <td>NaN</td>\n",
       "    </tr>\n",
       "    <tr>\n",
       "      <th>2018-01-10 00:00:00-05:00</th>\n",
       "      <td>108.48</td>\n",
       "      <td>108.72</td>\n",
       "      <td>108.430</td>\n",
       "      <td>108.7100</td>\n",
       "      <td>3272935</td>\n",
       "      <td>0.000000</td>\n",
       "      <td>273.69</td>\n",
       "      <td>274.42</td>\n",
       "      <td>272.92</td>\n",
       "      <td>274.10</td>\n",
       "      <td>41575815</td>\n",
       "      <td>-0.001566</td>\n",
       "    </tr>\n",
       "    <tr>\n",
       "      <th>2018-01-11 00:00:00-05:00</th>\n",
       "      <td>108.66</td>\n",
       "      <td>108.86</td>\n",
       "      <td>108.610</td>\n",
       "      <td>108.7700</td>\n",
       "      <td>2652838</td>\n",
       "      <td>0.000552</td>\n",
       "      <td>274.75</td>\n",
       "      <td>276.09</td>\n",
       "      <td>274.56</td>\n",
       "      <td>276.08</td>\n",
       "      <td>39159808</td>\n",
       "      <td>0.007224</td>\n",
       "    </tr>\n",
       "    <tr>\n",
       "      <th>2018-01-12 00:00:00-05:00</th>\n",
       "      <td>108.64</td>\n",
       "      <td>108.83</td>\n",
       "      <td>108.630</td>\n",
       "      <td>108.7401</td>\n",
       "      <td>2950016</td>\n",
       "      <td>-0.000275</td>\n",
       "      <td>276.42</td>\n",
       "      <td>278.11</td>\n",
       "      <td>276.27</td>\n",
       "      <td>277.91</td>\n",
       "      <td>53855427</td>\n",
       "      <td>0.006629</td>\n",
       "    </tr>\n",
       "    <tr>\n",
       "      <th>2018-01-16 00:00:00-05:00</th>\n",
       "      <td>108.87</td>\n",
       "      <td>108.98</td>\n",
       "      <td>108.715</td>\n",
       "      <td>108.7600</td>\n",
       "      <td>6011248</td>\n",
       "      <td>0.000183</td>\n",
       "      <td>279.35</td>\n",
       "      <td>280.09</td>\n",
       "      <td>276.18</td>\n",
       "      <td>276.96</td>\n",
       "      <td>70240852</td>\n",
       "      <td>-0.003418</td>\n",
       "    </tr>\n",
       "  </tbody>\n",
       "</table>\n",
       "</div>"
      ],
      "text/plain": [
       "                              AGG                                      \\\n",
       "                             open    high      low     close   volume   \n",
       "time                                                                    \n",
       "2018-01-09 00:00:00-05:00  108.91  108.91  108.690  108.7100  1991045   \n",
       "2018-01-10 00:00:00-05:00  108.48  108.72  108.430  108.7100  3272935   \n",
       "2018-01-11 00:00:00-05:00  108.66  108.86  108.610  108.7700  2652838   \n",
       "2018-01-12 00:00:00-05:00  108.64  108.83  108.630  108.7401  2950016   \n",
       "2018-01-16 00:00:00-05:00  108.87  108.98  108.715  108.7600  6011248   \n",
       "\n",
       "                                           SPY                          \\\n",
       "                          daily_return    open    high     low   close   \n",
       "time                                                                     \n",
       "2018-01-09 00:00:00-05:00          NaN  274.40  275.25  274.09  274.53   \n",
       "2018-01-10 00:00:00-05:00     0.000000  273.69  274.42  272.92  274.10   \n",
       "2018-01-11 00:00:00-05:00     0.000552  274.75  276.09  274.56  276.08   \n",
       "2018-01-12 00:00:00-05:00    -0.000275  276.42  278.11  276.27  277.91   \n",
       "2018-01-16 00:00:00-05:00     0.000183  279.35  280.09  276.18  276.96   \n",
       "\n",
       "                                                  \n",
       "                             volume daily_return  \n",
       "time                                              \n",
       "2018-01-09 00:00:00-05:00  40421422          NaN  \n",
       "2018-01-10 00:00:00-05:00  41575815    -0.001566  \n",
       "2018-01-11 00:00:00-05:00  39159808     0.007224  \n",
       "2018-01-12 00:00:00-05:00  53855427     0.006629  \n",
       "2018-01-16 00:00:00-05:00  70240852    -0.003418  "
      ]
     },
     "execution_count": 42,
     "metadata": {},
     "output_type": "execute_result"
    }
   ],
   "source": [
    "# Configure the Monte Carlo simulation to forecast 30 years cumulative returns\n",
    "# The weights should be split 40% to AGG and 60% to SPY.\n",
    "# Run 500 samples.\n",
    "\n",
    "MC_thirty_year = MCSimulation(\n",
    "  portfolio_data = alpaca_df_2,\n",
    "  weights = [.60,.40],\n",
    "  num_simulation = 500,\n",
    "  num_trading_days = 252*30\n",
    ")\n",
    "\n",
    "# Review the simulation input data\n",
    "\n",
    "MC_thirty_year.portfolio_data.head()\n"
   ]
  },
  {
   "cell_type": "code",
   "execution_count": 43,
   "metadata": {},
   "outputs": [
    {
     "name": "stdout",
     "output_type": "stream",
     "text": [
      "Running Monte Carlo simulation number 0.\n",
      "Running Monte Carlo simulation number 10.\n",
      "Running Monte Carlo simulation number 20.\n",
      "Running Monte Carlo simulation number 30.\n",
      "Running Monte Carlo simulation number 40.\n",
      "Running Monte Carlo simulation number 50.\n",
      "Running Monte Carlo simulation number 60.\n",
      "Running Monte Carlo simulation number 70.\n",
      "Running Monte Carlo simulation number 80.\n",
      "Running Monte Carlo simulation number 90.\n",
      "Running Monte Carlo simulation number 100.\n"
     ]
    },
    {
     "name": "stderr",
     "output_type": "stream",
     "text": [
      "/Users/Chance/Desktop/Fintech_Challenges/Assignment_5/Challenge_5/MCForecastTools.py:117: PerformanceWarning: DataFrame is highly fragmented.  This is usually the result of calling `frame.insert` many times, which has poor performance.  Consider joining all columns at once using pd.concat(axis=1) instead.  To get a de-fragmented frame, use `newframe = frame.copy()`\n",
      "  portfolio_cumulative_returns[n] = (1 + sim_df.fillna(0)).cumprod()\n"
     ]
    },
    {
     "name": "stdout",
     "output_type": "stream",
     "text": [
      "Running Monte Carlo simulation number 110.\n",
      "Running Monte Carlo simulation number 120.\n",
      "Running Monte Carlo simulation number 130.\n",
      "Running Monte Carlo simulation number 140.\n",
      "Running Monte Carlo simulation number 150.\n",
      "Running Monte Carlo simulation number 160.\n",
      "Running Monte Carlo simulation number 170.\n",
      "Running Monte Carlo simulation number 180.\n",
      "Running Monte Carlo simulation number 190.\n",
      "Running Monte Carlo simulation number 200.\n",
      "Running Monte Carlo simulation number 210.\n",
      "Running Monte Carlo simulation number 220.\n",
      "Running Monte Carlo simulation number 230.\n",
      "Running Monte Carlo simulation number 240.\n",
      "Running Monte Carlo simulation number 250.\n",
      "Running Monte Carlo simulation number 260.\n",
      "Running Monte Carlo simulation number 270.\n",
      "Running Monte Carlo simulation number 280.\n",
      "Running Monte Carlo simulation number 290.\n",
      "Running Monte Carlo simulation number 300.\n",
      "Running Monte Carlo simulation number 310.\n",
      "Running Monte Carlo simulation number 320.\n",
      "Running Monte Carlo simulation number 330.\n",
      "Running Monte Carlo simulation number 340.\n",
      "Running Monte Carlo simulation number 350.\n",
      "Running Monte Carlo simulation number 360.\n",
      "Running Monte Carlo simulation number 370.\n",
      "Running Monte Carlo simulation number 380.\n",
      "Running Monte Carlo simulation number 390.\n",
      "Running Monte Carlo simulation number 400.\n",
      "Running Monte Carlo simulation number 410.\n",
      "Running Monte Carlo simulation number 420.\n",
      "Running Monte Carlo simulation number 430.\n",
      "Running Monte Carlo simulation number 440.\n",
      "Running Monte Carlo simulation number 450.\n",
      "Running Monte Carlo simulation number 460.\n",
      "Running Monte Carlo simulation number 470.\n",
      "Running Monte Carlo simulation number 480.\n",
      "Running Monte Carlo simulation number 490.\n"
     ]
    },
    {
     "data": {
      "text/html": [
       "<div>\n",
       "<style scoped>\n",
       "    .dataframe tbody tr th:only-of-type {\n",
       "        vertical-align: middle;\n",
       "    }\n",
       "\n",
       "    .dataframe tbody tr th {\n",
       "        vertical-align: top;\n",
       "    }\n",
       "\n",
       "    .dataframe thead th {\n",
       "        text-align: right;\n",
       "    }\n",
       "</style>\n",
       "<table border=\"1\" class=\"dataframe\">\n",
       "  <thead>\n",
       "    <tr style=\"text-align: right;\">\n",
       "      <th></th>\n",
       "      <th>0</th>\n",
       "      <th>1</th>\n",
       "      <th>2</th>\n",
       "      <th>3</th>\n",
       "      <th>4</th>\n",
       "      <th>5</th>\n",
       "      <th>6</th>\n",
       "      <th>7</th>\n",
       "      <th>8</th>\n",
       "      <th>9</th>\n",
       "      <th>...</th>\n",
       "      <th>490</th>\n",
       "      <th>491</th>\n",
       "      <th>492</th>\n",
       "      <th>493</th>\n",
       "      <th>494</th>\n",
       "      <th>495</th>\n",
       "      <th>496</th>\n",
       "      <th>497</th>\n",
       "      <th>498</th>\n",
       "      <th>499</th>\n",
       "    </tr>\n",
       "  </thead>\n",
       "  <tbody>\n",
       "    <tr>\n",
       "      <th>0</th>\n",
       "      <td>1.000000</td>\n",
       "      <td>1.000000</td>\n",
       "      <td>1.000000</td>\n",
       "      <td>1.000000</td>\n",
       "      <td>1.000000</td>\n",
       "      <td>1.000000</td>\n",
       "      <td>1.000000</td>\n",
       "      <td>1.000000</td>\n",
       "      <td>1.000000</td>\n",
       "      <td>1.000000</td>\n",
       "      <td>...</td>\n",
       "      <td>1.000000</td>\n",
       "      <td>1.000000</td>\n",
       "      <td>1.000000</td>\n",
       "      <td>1.000000</td>\n",
       "      <td>1.000000</td>\n",
       "      <td>1.000000</td>\n",
       "      <td>1.000000</td>\n",
       "      <td>1.000000</td>\n",
       "      <td>1.000000</td>\n",
       "      <td>1.000000</td>\n",
       "    </tr>\n",
       "    <tr>\n",
       "      <th>1</th>\n",
       "      <td>1.002633</td>\n",
       "      <td>1.011349</td>\n",
       "      <td>1.003096</td>\n",
       "      <td>1.000917</td>\n",
       "      <td>0.993407</td>\n",
       "      <td>1.000153</td>\n",
       "      <td>0.995673</td>\n",
       "      <td>0.992813</td>\n",
       "      <td>1.015333</td>\n",
       "      <td>0.988668</td>\n",
       "      <td>...</td>\n",
       "      <td>1.000545</td>\n",
       "      <td>0.986499</td>\n",
       "      <td>0.999772</td>\n",
       "      <td>1.000617</td>\n",
       "      <td>0.998484</td>\n",
       "      <td>0.992035</td>\n",
       "      <td>1.000819</td>\n",
       "      <td>0.998933</td>\n",
       "      <td>0.998719</td>\n",
       "      <td>1.000486</td>\n",
       "    </tr>\n",
       "    <tr>\n",
       "      <th>2</th>\n",
       "      <td>1.000546</td>\n",
       "      <td>1.005887</td>\n",
       "      <td>0.997706</td>\n",
       "      <td>1.007140</td>\n",
       "      <td>0.985141</td>\n",
       "      <td>1.000484</td>\n",
       "      <td>0.999720</td>\n",
       "      <td>0.996079</td>\n",
       "      <td>1.017656</td>\n",
       "      <td>0.989277</td>\n",
       "      <td>...</td>\n",
       "      <td>0.997312</td>\n",
       "      <td>0.982739</td>\n",
       "      <td>1.001406</td>\n",
       "      <td>0.992787</td>\n",
       "      <td>0.992057</td>\n",
       "      <td>0.998892</td>\n",
       "      <td>1.000680</td>\n",
       "      <td>1.002492</td>\n",
       "      <td>0.999659</td>\n",
       "      <td>1.000353</td>\n",
       "    </tr>\n",
       "    <tr>\n",
       "      <th>3</th>\n",
       "      <td>1.005848</td>\n",
       "      <td>1.002066</td>\n",
       "      <td>1.004473</td>\n",
       "      <td>1.000890</td>\n",
       "      <td>0.983208</td>\n",
       "      <td>1.001283</td>\n",
       "      <td>0.999436</td>\n",
       "      <td>1.003473</td>\n",
       "      <td>1.013417</td>\n",
       "      <td>0.992533</td>\n",
       "      <td>...</td>\n",
       "      <td>0.999223</td>\n",
       "      <td>0.978923</td>\n",
       "      <td>0.994817</td>\n",
       "      <td>0.985390</td>\n",
       "      <td>0.990469</td>\n",
       "      <td>0.998445</td>\n",
       "      <td>0.991408</td>\n",
       "      <td>1.005359</td>\n",
       "      <td>0.997945</td>\n",
       "      <td>0.993670</td>\n",
       "    </tr>\n",
       "    <tr>\n",
       "      <th>4</th>\n",
       "      <td>1.012063</td>\n",
       "      <td>0.991460</td>\n",
       "      <td>1.010508</td>\n",
       "      <td>0.991463</td>\n",
       "      <td>0.984542</td>\n",
       "      <td>1.010295</td>\n",
       "      <td>0.994963</td>\n",
       "      <td>1.002270</td>\n",
       "      <td>1.009479</td>\n",
       "      <td>0.998659</td>\n",
       "      <td>...</td>\n",
       "      <td>0.994650</td>\n",
       "      <td>0.982166</td>\n",
       "      <td>0.993529</td>\n",
       "      <td>0.987913</td>\n",
       "      <td>0.986799</td>\n",
       "      <td>0.997077</td>\n",
       "      <td>0.996153</td>\n",
       "      <td>1.005187</td>\n",
       "      <td>0.998760</td>\n",
       "      <td>0.998611</td>\n",
       "    </tr>\n",
       "    <tr>\n",
       "      <th>...</th>\n",
       "      <td>...</td>\n",
       "      <td>...</td>\n",
       "      <td>...</td>\n",
       "      <td>...</td>\n",
       "      <td>...</td>\n",
       "      <td>...</td>\n",
       "      <td>...</td>\n",
       "      <td>...</td>\n",
       "      <td>...</td>\n",
       "      <td>...</td>\n",
       "      <td>...</td>\n",
       "      <td>...</td>\n",
       "      <td>...</td>\n",
       "      <td>...</td>\n",
       "      <td>...</td>\n",
       "      <td>...</td>\n",
       "      <td>...</td>\n",
       "      <td>...</td>\n",
       "      <td>...</td>\n",
       "      <td>...</td>\n",
       "      <td>...</td>\n",
       "    </tr>\n",
       "    <tr>\n",
       "      <th>7556</th>\n",
       "      <td>4.542066</td>\n",
       "      <td>9.490319</td>\n",
       "      <td>5.698724</td>\n",
       "      <td>5.682363</td>\n",
       "      <td>7.315920</td>\n",
       "      <td>14.655420</td>\n",
       "      <td>3.280971</td>\n",
       "      <td>5.810284</td>\n",
       "      <td>4.301603</td>\n",
       "      <td>7.754855</td>\n",
       "      <td>...</td>\n",
       "      <td>4.246949</td>\n",
       "      <td>5.996781</td>\n",
       "      <td>10.664993</td>\n",
       "      <td>8.341594</td>\n",
       "      <td>6.019619</td>\n",
       "      <td>3.000820</td>\n",
       "      <td>11.552711</td>\n",
       "      <td>10.798363</td>\n",
       "      <td>3.487470</td>\n",
       "      <td>8.420799</td>\n",
       "    </tr>\n",
       "    <tr>\n",
       "      <th>7557</th>\n",
       "      <td>4.536133</td>\n",
       "      <td>9.510554</td>\n",
       "      <td>5.770320</td>\n",
       "      <td>5.684925</td>\n",
       "      <td>7.343527</td>\n",
       "      <td>14.581021</td>\n",
       "      <td>3.289036</td>\n",
       "      <td>5.854671</td>\n",
       "      <td>4.353547</td>\n",
       "      <td>7.752532</td>\n",
       "      <td>...</td>\n",
       "      <td>4.248010</td>\n",
       "      <td>5.971844</td>\n",
       "      <td>10.615122</td>\n",
       "      <td>8.355770</td>\n",
       "      <td>6.016936</td>\n",
       "      <td>3.012181</td>\n",
       "      <td>11.498277</td>\n",
       "      <td>10.869268</td>\n",
       "      <td>3.478379</td>\n",
       "      <td>8.419932</td>\n",
       "    </tr>\n",
       "    <tr>\n",
       "      <th>7558</th>\n",
       "      <td>4.524435</td>\n",
       "      <td>9.566421</td>\n",
       "      <td>5.772249</td>\n",
       "      <td>5.693350</td>\n",
       "      <td>7.336378</td>\n",
       "      <td>14.629328</td>\n",
       "      <td>3.309317</td>\n",
       "      <td>5.827903</td>\n",
       "      <td>4.339086</td>\n",
       "      <td>7.701240</td>\n",
       "      <td>...</td>\n",
       "      <td>4.255914</td>\n",
       "      <td>5.922358</td>\n",
       "      <td>10.590545</td>\n",
       "      <td>8.287368</td>\n",
       "      <td>6.039392</td>\n",
       "      <td>3.011722</td>\n",
       "      <td>11.523313</td>\n",
       "      <td>10.824617</td>\n",
       "      <td>3.470010</td>\n",
       "      <td>8.419013</td>\n",
       "    </tr>\n",
       "    <tr>\n",
       "      <th>7559</th>\n",
       "      <td>4.517222</td>\n",
       "      <td>9.593136</td>\n",
       "      <td>5.774896</td>\n",
       "      <td>5.673427</td>\n",
       "      <td>7.372017</td>\n",
       "      <td>14.557808</td>\n",
       "      <td>3.308114</td>\n",
       "      <td>5.833468</td>\n",
       "      <td>4.349721</td>\n",
       "      <td>7.680519</td>\n",
       "      <td>...</td>\n",
       "      <td>4.211259</td>\n",
       "      <td>5.952132</td>\n",
       "      <td>10.644381</td>\n",
       "      <td>8.288328</td>\n",
       "      <td>6.066673</td>\n",
       "      <td>3.010785</td>\n",
       "      <td>11.553547</td>\n",
       "      <td>10.815290</td>\n",
       "      <td>3.464646</td>\n",
       "      <td>8.468146</td>\n",
       "    </tr>\n",
       "    <tr>\n",
       "      <th>7560</th>\n",
       "      <td>4.478530</td>\n",
       "      <td>9.604771</td>\n",
       "      <td>5.763904</td>\n",
       "      <td>5.672605</td>\n",
       "      <td>7.398682</td>\n",
       "      <td>14.616164</td>\n",
       "      <td>3.291543</td>\n",
       "      <td>5.842163</td>\n",
       "      <td>4.352897</td>\n",
       "      <td>7.680633</td>\n",
       "      <td>...</td>\n",
       "      <td>4.254288</td>\n",
       "      <td>5.995253</td>\n",
       "      <td>10.674178</td>\n",
       "      <td>8.257966</td>\n",
       "      <td>6.147591</td>\n",
       "      <td>3.001761</td>\n",
       "      <td>11.539377</td>\n",
       "      <td>10.846270</td>\n",
       "      <td>3.477142</td>\n",
       "      <td>8.478049</td>\n",
       "    </tr>\n",
       "  </tbody>\n",
       "</table>\n",
       "<p>7561 rows × 500 columns</p>\n",
       "</div>"
      ],
      "text/plain": [
       "           0         1         2         3         4          5         6    \\\n",
       "0     1.000000  1.000000  1.000000  1.000000  1.000000   1.000000  1.000000   \n",
       "1     1.002633  1.011349  1.003096  1.000917  0.993407   1.000153  0.995673   \n",
       "2     1.000546  1.005887  0.997706  1.007140  0.985141   1.000484  0.999720   \n",
       "3     1.005848  1.002066  1.004473  1.000890  0.983208   1.001283  0.999436   \n",
       "4     1.012063  0.991460  1.010508  0.991463  0.984542   1.010295  0.994963   \n",
       "...        ...       ...       ...       ...       ...        ...       ...   \n",
       "7556  4.542066  9.490319  5.698724  5.682363  7.315920  14.655420  3.280971   \n",
       "7557  4.536133  9.510554  5.770320  5.684925  7.343527  14.581021  3.289036   \n",
       "7558  4.524435  9.566421  5.772249  5.693350  7.336378  14.629328  3.309317   \n",
       "7559  4.517222  9.593136  5.774896  5.673427  7.372017  14.557808  3.308114   \n",
       "7560  4.478530  9.604771  5.763904  5.672605  7.398682  14.616164  3.291543   \n",
       "\n",
       "           7         8         9    ...       490       491        492  \\\n",
       "0     1.000000  1.000000  1.000000  ...  1.000000  1.000000   1.000000   \n",
       "1     0.992813  1.015333  0.988668  ...  1.000545  0.986499   0.999772   \n",
       "2     0.996079  1.017656  0.989277  ...  0.997312  0.982739   1.001406   \n",
       "3     1.003473  1.013417  0.992533  ...  0.999223  0.978923   0.994817   \n",
       "4     1.002270  1.009479  0.998659  ...  0.994650  0.982166   0.993529   \n",
       "...        ...       ...       ...  ...       ...       ...        ...   \n",
       "7556  5.810284  4.301603  7.754855  ...  4.246949  5.996781  10.664993   \n",
       "7557  5.854671  4.353547  7.752532  ...  4.248010  5.971844  10.615122   \n",
       "7558  5.827903  4.339086  7.701240  ...  4.255914  5.922358  10.590545   \n",
       "7559  5.833468  4.349721  7.680519  ...  4.211259  5.952132  10.644381   \n",
       "7560  5.842163  4.352897  7.680633  ...  4.254288  5.995253  10.674178   \n",
       "\n",
       "           493       494       495        496        497       498       499  \n",
       "0     1.000000  1.000000  1.000000   1.000000   1.000000  1.000000  1.000000  \n",
       "1     1.000617  0.998484  0.992035   1.000819   0.998933  0.998719  1.000486  \n",
       "2     0.992787  0.992057  0.998892   1.000680   1.002492  0.999659  1.000353  \n",
       "3     0.985390  0.990469  0.998445   0.991408   1.005359  0.997945  0.993670  \n",
       "4     0.987913  0.986799  0.997077   0.996153   1.005187  0.998760  0.998611  \n",
       "...        ...       ...       ...        ...        ...       ...       ...  \n",
       "7556  8.341594  6.019619  3.000820  11.552711  10.798363  3.487470  8.420799  \n",
       "7557  8.355770  6.016936  3.012181  11.498277  10.869268  3.478379  8.419932  \n",
       "7558  8.287368  6.039392  3.011722  11.523313  10.824617  3.470010  8.419013  \n",
       "7559  8.288328  6.066673  3.010785  11.553547  10.815290  3.464646  8.468146  \n",
       "7560  8.257966  6.147591  3.001761  11.539377  10.846270  3.477142  8.478049  \n",
       "\n",
       "[7561 rows x 500 columns]"
      ]
     },
     "execution_count": 43,
     "metadata": {},
     "output_type": "execute_result"
    }
   ],
   "source": [
    "# Run the Monte Carlo simulation to forecast 30 years cumulative returns\n",
    "\n",
    "MC_thirty_year.calc_cumulative_return()\n"
   ]
  },
  {
   "cell_type": "code",
   "execution_count": 44,
   "metadata": {},
   "outputs": [
    {
     "data": {
      "text/plain": [
       "<AxesSubplot:title={'center':'500 Simulations of Cumulative Portfolio Return Trajectories Over the Next 7560 Trading Days.'}>"
      ]
     },
     "execution_count": 44,
     "metadata": {},
     "output_type": "execute_result"
    },
    {
     "data": {
      "image/png": "[encoded data removed]",
      "text/plain": [
       "<Figure size 432x288 with 1 Axes>"
      ]
     },
     "metadata": {
      "needs_background": "light"
     },
     "output_type": "display_data"
    }
   ],
   "source": [
    "# Visualize the 30-year Monte Carlo simulation by creating an\n",
    "# overlay line plot\n",
    "\n",
    "MC_sim_line_plot = MC_thirty_year.plot_simulation()\n",
    "\n",
    "MC_sim_line_plot\n"
   ]
  },
  {
   "cell_type": "markdown",
   "metadata": {},
   "source": [
    "#### Step 3: Plot the probability distribution of the Monte Carlo simulation."
   ]
  },
  {
   "cell_type": "code",
   "execution_count": 45,
   "metadata": {},
   "outputs": [
    {
     "data": {
      "text/plain": [
       "<AxesSubplot:title={'center':'Distribution of Final Cumuluative Returns Across All 500 Simulations'}, ylabel='Frequency'>"
      ]
     },
     "execution_count": 45,
     "metadata": {},
     "output_type": "execute_result"
    },
    {
     "data": {
      "image/png": "[encoded data removed]",
      "text/plain": [
       "<Figure size 432x288 with 1 Axes>"
      ]
     },
     "metadata": {
      "needs_background": "light"
     },
     "output_type": "display_data"
    }
   ],
   "source": [
    "# Visualize the probability distribution of the 30-year Monte Carlo simulation \n",
    "# by plotting a histogram\n",
    "\n",
    "MC_sim_dist_plot = MC_thirty_year.plot_distribution()\n",
    "\n",
    "MC_sim_dist_plot\n"
   ]
  },
  {
   "cell_type": "markdown",
   "metadata": {},
   "source": [
    "#### Step 4: Generate the summary statistics for the Monte Carlo simulation."
   ]
  },
  {
   "cell_type": "code",
   "execution_count": 46,
   "metadata": {},
   "outputs": [
    {
     "name": "stdout",
     "output_type": "stream",
     "text": [
      "count           500.000000\n",
      "mean              8.919752\n",
      "std               4.973601\n",
      "min               2.226523\n",
      "25%               5.606476\n",
      "50%               7.815106\n",
      "75%              10.934617\n",
      "max              45.137864\n",
      "95% CI Lower      3.076513\n",
      "95% CI Upper     22.060754\n",
      "Name: 7560, dtype: float64\n"
     ]
    }
   ],
   "source": [
    "# Generate summary statistics from the 30-year Monte Carlo simulation results\n",
    "# Save the results as a variable\n",
    "\n",
    "MC_summary_statistics = MC_thirty_year.summarize_cumulative_return()\n",
    "\n",
    "# Review the 30-year Monte Carlo summary statistics\n",
    "\n",
    "print(MC_summary_statistics)"
   ]
  },
  {
   "cell_type": "markdown",
   "metadata": {},
   "source": [
    "### Analyze the Retirement Portfolio Forecasts\n",
    "\n",
    "Using the current value of only the stock and bond portion of the member's portfolio and the summary statistics that you generated from the Monte Carlo simulation, answer the following question in your Jupyter notebook:\n",
    "\n",
    "-  What are the lower and upper bounds for the expected value of the portfolio with a 95% confidence interval?\n"
   ]
  },
  {
   "cell_type": "code",
   "execution_count": 47,
   "metadata": {},
   "outputs": [
    {
     "name": "stdout",
     "output_type": "stream",
     "text": [
      "35894.9\n"
     ]
    }
   ],
   "source": [
    "# Print the current balance of the stock and bond portion of the members portfolio\n",
    "\n",
    "print(total_stocks_bonds)\n"
   ]
  },
  {
   "cell_type": "code",
   "execution_count": 48,
   "metadata": {},
   "outputs": [
    {
     "name": "stdout",
     "output_type": "stream",
     "text": [
      "There is a 95% chance that an initial investment of $35894.9 in the portfolio over the next 30 years will end within in the range of $ 110431.12 and $ 791868.54.\n"
     ]
    }
   ],
   "source": [
    "# Use the lower and upper `95%` confidence intervals to calculate the range of the possible outcomes for the current stock/bond portfolio\n",
    "\n",
    "ci_lower_thirty_cumulative_return = MC_summary_statistics[8] * total_stocks_bonds\n",
    "ci_upper_thirty_cumulative_return = MC_summary_statistics[9] * total_stocks_bonds\n",
    "\n",
    "# Print the result of your calculations\n",
    "\n",
    "print(f\"There is a 95% chance that an initial investment of ${total_stocks_bonds} in the portfolio\"\n",
    "  f\" over the next 30 years will end within in the range of\"\n",
    "  f\" ${ci_lower_thirty_cumulative_return: .2f} and ${ci_upper_thirty_cumulative_return: .2f}.\")\n"
   ]
  },
  {
   "cell_type": "markdown",
   "metadata": {},
   "source": [
    "### Forecast Cumulative Returns in 10 Years\n",
    "\n",
    "The CTO of the credit union is impressed with your work on these planning tools but wonders if 30 years is a long time to wait until retirement. So, your next task is to adjust the retirement portfolio and run a new Monte Carlo simulation to find out if the changes will allow members to retire earlier.\n",
    "\n",
    "For this new Monte Carlo simulation, do the following: \n",
    "\n",
    "- Forecast the cumulative returns for 10 years from now. Because of the shortened investment horizon (30 years to 10 years), the portfolio needs to invest more heavily in the riskier asset&mdash;that is, stock&mdash;to help accumulate wealth for retirement. \n",
    "\n",
    "- Adjust the weights of the retirement portfolio so that the composition for the Monte Carlo simulation consists of 20% bonds and 80% stocks. \n",
    "\n",
    "- Run the simulation over 500 samples, and use the same data that the API call to Alpaca generated.\n",
    "\n",
    "- Based on the new Monte Carlo simulation, answer the following questions in your Jupyter notebook:\n",
    "\n",
    "    - Using the current value of only the stock and bond portion of the member's portfolio and the summary statistics that you generated from the new Monte Carlo simulation, what are the lower and upper bounds for the expected value of the portfolio (with the new weights) with a 95% confidence interval?\n",
    "\n",
    "    - Will weighting the portfolio more heavily toward stocks allow the credit union members to retire after only 10 years?\n"
   ]
  },
  {
   "cell_type": "code",
   "execution_count": 49,
   "metadata": {},
   "outputs": [
    {
     "data": {
      "text/html": [
       "<div>\n",
       "<style scoped>\n",
       "    .dataframe tbody tr th:only-of-type {\n",
       "        vertical-align: middle;\n",
       "    }\n",
       "\n",
       "    .dataframe tbody tr th {\n",
       "        vertical-align: top;\n",
       "    }\n",
       "\n",
       "    .dataframe thead tr th {\n",
       "        text-align: left;\n",
       "    }\n",
       "\n",
       "    .dataframe thead tr:last-of-type th {\n",
       "        text-align: right;\n",
       "    }\n",
       "</style>\n",
       "<table border=\"1\" class=\"dataframe\">\n",
       "  <thead>\n",
       "    <tr>\n",
       "      <th></th>\n",
       "      <th colspan=\"6\" halign=\"left\">AGG</th>\n",
       "      <th colspan=\"6\" halign=\"left\">SPY</th>\n",
       "    </tr>\n",
       "    <tr>\n",
       "      <th></th>\n",
       "      <th>open</th>\n",
       "      <th>high</th>\n",
       "      <th>low</th>\n",
       "      <th>close</th>\n",
       "      <th>volume</th>\n",
       "      <th>daily_return</th>\n",
       "      <th>open</th>\n",
       "      <th>high</th>\n",
       "      <th>low</th>\n",
       "      <th>close</th>\n",
       "      <th>volume</th>\n",
       "      <th>daily_return</th>\n",
       "    </tr>\n",
       "    <tr>\n",
       "      <th>time</th>\n",
       "      <th></th>\n",
       "      <th></th>\n",
       "      <th></th>\n",
       "      <th></th>\n",
       "      <th></th>\n",
       "      <th></th>\n",
       "      <th></th>\n",
       "      <th></th>\n",
       "      <th></th>\n",
       "      <th></th>\n",
       "      <th></th>\n",
       "      <th></th>\n",
       "    </tr>\n",
       "  </thead>\n",
       "  <tbody>\n",
       "    <tr>\n",
       "      <th>2018-01-09 00:00:00-05:00</th>\n",
       "      <td>108.91</td>\n",
       "      <td>108.91</td>\n",
       "      <td>108.690</td>\n",
       "      <td>108.7100</td>\n",
       "      <td>1991045</td>\n",
       "      <td>NaN</td>\n",
       "      <td>274.40</td>\n",
       "      <td>275.25</td>\n",
       "      <td>274.09</td>\n",
       "      <td>274.53</td>\n",
       "      <td>40421422</td>\n",
       "      <td>NaN</td>\n",
       "    </tr>\n",
       "    <tr>\n",
       "      <th>2018-01-10 00:00:00-05:00</th>\n",
       "      <td>108.48</td>\n",
       "      <td>108.72</td>\n",
       "      <td>108.430</td>\n",
       "      <td>108.7100</td>\n",
       "      <td>3272935</td>\n",
       "      <td>0.000000</td>\n",
       "      <td>273.69</td>\n",
       "      <td>274.42</td>\n",
       "      <td>272.92</td>\n",
       "      <td>274.10</td>\n",
       "      <td>41575815</td>\n",
       "      <td>-0.001566</td>\n",
       "    </tr>\n",
       "    <tr>\n",
       "      <th>2018-01-11 00:00:00-05:00</th>\n",
       "      <td>108.66</td>\n",
       "      <td>108.86</td>\n",
       "      <td>108.610</td>\n",
       "      <td>108.7700</td>\n",
       "      <td>2652838</td>\n",
       "      <td>0.000552</td>\n",
       "      <td>274.75</td>\n",
       "      <td>276.09</td>\n",
       "      <td>274.56</td>\n",
       "      <td>276.08</td>\n",
       "      <td>39159808</td>\n",
       "      <td>0.007224</td>\n",
       "    </tr>\n",
       "    <tr>\n",
       "      <th>2018-01-12 00:00:00-05:00</th>\n",
       "      <td>108.64</td>\n",
       "      <td>108.83</td>\n",
       "      <td>108.630</td>\n",
       "      <td>108.7401</td>\n",
       "      <td>2950016</td>\n",
       "      <td>-0.000275</td>\n",
       "      <td>276.42</td>\n",
       "      <td>278.11</td>\n",
       "      <td>276.27</td>\n",
       "      <td>277.91</td>\n",
       "      <td>53855427</td>\n",
       "      <td>0.006629</td>\n",
       "    </tr>\n",
       "    <tr>\n",
       "      <th>2018-01-16 00:00:00-05:00</th>\n",
       "      <td>108.87</td>\n",
       "      <td>108.98</td>\n",
       "      <td>108.715</td>\n",
       "      <td>108.7600</td>\n",
       "      <td>6011248</td>\n",
       "      <td>0.000183</td>\n",
       "      <td>279.35</td>\n",
       "      <td>280.09</td>\n",
       "      <td>276.18</td>\n",
       "      <td>276.96</td>\n",
       "      <td>70240852</td>\n",
       "      <td>-0.003418</td>\n",
       "    </tr>\n",
       "  </tbody>\n",
       "</table>\n",
       "</div>"
      ],
      "text/plain": [
       "                              AGG                                      \\\n",
       "                             open    high      low     close   volume   \n",
       "time                                                                    \n",
       "2018-01-09 00:00:00-05:00  108.91  108.91  108.690  108.7100  1991045   \n",
       "2018-01-10 00:00:00-05:00  108.48  108.72  108.430  108.7100  3272935   \n",
       "2018-01-11 00:00:00-05:00  108.66  108.86  108.610  108.7700  2652838   \n",
       "2018-01-12 00:00:00-05:00  108.64  108.83  108.630  108.7401  2950016   \n",
       "2018-01-16 00:00:00-05:00  108.87  108.98  108.715  108.7600  6011248   \n",
       "\n",
       "                                           SPY                          \\\n",
       "                          daily_return    open    high     low   close   \n",
       "time                                                                     \n",
       "2018-01-09 00:00:00-05:00          NaN  274.40  275.25  274.09  274.53   \n",
       "2018-01-10 00:00:00-05:00     0.000000  273.69  274.42  272.92  274.10   \n",
       "2018-01-11 00:00:00-05:00     0.000552  274.75  276.09  274.56  276.08   \n",
       "2018-01-12 00:00:00-05:00    -0.000275  276.42  278.11  276.27  277.91   \n",
       "2018-01-16 00:00:00-05:00     0.000183  279.35  280.09  276.18  276.96   \n",
       "\n",
       "                                                  \n",
       "                             volume daily_return  \n",
       "time                                              \n",
       "2018-01-09 00:00:00-05:00  40421422          NaN  \n",
       "2018-01-10 00:00:00-05:00  41575815    -0.001566  \n",
       "2018-01-11 00:00:00-05:00  39159808     0.007224  \n",
       "2018-01-12 00:00:00-05:00  53855427     0.006629  \n",
       "2018-01-16 00:00:00-05:00  70240852    -0.003418  "
      ]
     },
     "execution_count": 49,
     "metadata": {},
     "output_type": "execute_result"
    }
   ],
   "source": [
    "# Configure a Monte Carlo simulation to forecast 10 years cumulative returns\n",
    "# The weights should be split 20% to AGG and 80% to SPY.\n",
    "# Run 500 samples.\n",
    "\n",
    "MC_ten_year = MCSimulation(\n",
    "  portfolio_data = alpaca_df_2,\n",
    "  weights = [.80,.20],\n",
    "  num_simulation = 500,\n",
    "  num_trading_days = 252*10\n",
    ")\n",
    "\n",
    "# Review the simulation input data\n",
    "\n",
    "MC_ten_year.portfolio_data.head()\n"
   ]
  },
  {
   "cell_type": "code",
   "execution_count": 50,
   "metadata": {},
   "outputs": [
    {
     "name": "stdout",
     "output_type": "stream",
     "text": [
      "Running Monte Carlo simulation number 0.\n",
      "Running Monte Carlo simulation number 10.\n",
      "Running Monte Carlo simulation number 20.\n",
      "Running Monte Carlo simulation number 30.\n",
      "Running Monte Carlo simulation number 40.\n",
      "Running Monte Carlo simulation number 50.\n",
      "Running Monte Carlo simulation number 60.\n",
      "Running Monte Carlo simulation number 70.\n",
      "Running Monte Carlo simulation number 80.\n",
      "Running Monte Carlo simulation number 90.\n",
      "Running Monte Carlo simulation number 100.\n"
     ]
    },
    {
     "name": "stderr",
     "output_type": "stream",
     "text": [
      "/Users/Chance/Desktop/Fintech_Challenges/Assignment_5/Challenge_5/MCForecastTools.py:117: PerformanceWarning: DataFrame is highly fragmented.  This is usually the result of calling `frame.insert` many times, which has poor performance.  Consider joining all columns at once using pd.concat(axis=1) instead.  To get a de-fragmented frame, use `newframe = frame.copy()`\n",
      "  portfolio_cumulative_returns[n] = (1 + sim_df.fillna(0)).cumprod()\n"
     ]
    },
    {
     "name": "stdout",
     "output_type": "stream",
     "text": [
      "Running Monte Carlo simulation number 110.\n",
      "Running Monte Carlo simulation number 120.\n",
      "Running Monte Carlo simulation number 130.\n",
      "Running Monte Carlo simulation number 140.\n",
      "Running Monte Carlo simulation number 150.\n",
      "Running Monte Carlo simulation number 160.\n",
      "Running Monte Carlo simulation number 170.\n",
      "Running Monte Carlo simulation number 180.\n",
      "Running Monte Carlo simulation number 190.\n",
      "Running Monte Carlo simulation number 200.\n",
      "Running Monte Carlo simulation number 210.\n",
      "Running Monte Carlo simulation number 220.\n",
      "Running Monte Carlo simulation number 230.\n",
      "Running Monte Carlo simulation number 240.\n",
      "Running Monte Carlo simulation number 250.\n",
      "Running Monte Carlo simulation number 260.\n",
      "Running Monte Carlo simulation number 270.\n",
      "Running Monte Carlo simulation number 280.\n",
      "Running Monte Carlo simulation number 290.\n",
      "Running Monte Carlo simulation number 300.\n",
      "Running Monte Carlo simulation number 310.\n",
      "Running Monte Carlo simulation number 320.\n",
      "Running Monte Carlo simulation number 330.\n",
      "Running Monte Carlo simulation number 340.\n",
      "Running Monte Carlo simulation number 350.\n",
      "Running Monte Carlo simulation number 360.\n",
      "Running Monte Carlo simulation number 370.\n",
      "Running Monte Carlo simulation number 380.\n",
      "Running Monte Carlo simulation number 390.\n",
      "Running Monte Carlo simulation number 400.\n",
      "Running Monte Carlo simulation number 410.\n",
      "Running Monte Carlo simulation number 420.\n",
      "Running Monte Carlo simulation number 430.\n",
      "Running Monte Carlo simulation number 440.\n",
      "Running Monte Carlo simulation number 450.\n",
      "Running Monte Carlo simulation number 460.\n",
      "Running Monte Carlo simulation number 470.\n",
      "Running Monte Carlo simulation number 480.\n",
      "Running Monte Carlo simulation number 490.\n"
     ]
    },
    {
     "data": {
      "text/html": [
       "<div>\n",
       "<style scoped>\n",
       "    .dataframe tbody tr th:only-of-type {\n",
       "        vertical-align: middle;\n",
       "    }\n",
       "\n",
       "    .dataframe tbody tr th {\n",
       "        vertical-align: top;\n",
       "    }\n",
       "\n",
       "    .dataframe thead th {\n",
       "        text-align: right;\n",
       "    }\n",
       "</style>\n",
       "<table border=\"1\" class=\"dataframe\">\n",
       "  <thead>\n",
       "    <tr style=\"text-align: right;\">\n",
       "      <th></th>\n",
       "      <th>0</th>\n",
       "      <th>1</th>\n",
       "      <th>2</th>\n",
       "      <th>3</th>\n",
       "      <th>4</th>\n",
       "      <th>5</th>\n",
       "      <th>6</th>\n",
       "      <th>7</th>\n",
       "      <th>8</th>\n",
       "      <th>9</th>\n",
       "      <th>...</th>\n",
       "      <th>490</th>\n",
       "      <th>491</th>\n",
       "      <th>492</th>\n",
       "      <th>493</th>\n",
       "      <th>494</th>\n",
       "      <th>495</th>\n",
       "      <th>496</th>\n",
       "      <th>497</th>\n",
       "      <th>498</th>\n",
       "      <th>499</th>\n",
       "    </tr>\n",
       "  </thead>\n",
       "  <tbody>\n",
       "    <tr>\n",
       "      <th>0</th>\n",
       "      <td>1.000000</td>\n",
       "      <td>1.000000</td>\n",
       "      <td>1.000000</td>\n",
       "      <td>1.000000</td>\n",
       "      <td>1.000000</td>\n",
       "      <td>1.000000</td>\n",
       "      <td>1.000000</td>\n",
       "      <td>1.000000</td>\n",
       "      <td>1.000000</td>\n",
       "      <td>1.000000</td>\n",
       "      <td>...</td>\n",
       "      <td>1.000000</td>\n",
       "      <td>1.000000</td>\n",
       "      <td>1.000000</td>\n",
       "      <td>1.000000</td>\n",
       "      <td>1.000000</td>\n",
       "      <td>1.000000</td>\n",
       "      <td>1.000000</td>\n",
       "      <td>1.000000</td>\n",
       "      <td>1.000000</td>\n",
       "      <td>1.000000</td>\n",
       "    </tr>\n",
       "    <tr>\n",
       "      <th>1</th>\n",
       "      <td>1.001394</td>\n",
       "      <td>0.995753</td>\n",
       "      <td>0.999642</td>\n",
       "      <td>1.003765</td>\n",
       "      <td>1.000866</td>\n",
       "      <td>1.001482</td>\n",
       "      <td>1.000486</td>\n",
       "      <td>0.994708</td>\n",
       "      <td>1.005060</td>\n",
       "      <td>1.004655</td>\n",
       "      <td>...</td>\n",
       "      <td>0.998032</td>\n",
       "      <td>1.006131</td>\n",
       "      <td>1.000833</td>\n",
       "      <td>0.999174</td>\n",
       "      <td>0.999385</td>\n",
       "      <td>0.995888</td>\n",
       "      <td>0.996193</td>\n",
       "      <td>1.001427</td>\n",
       "      <td>1.002023</td>\n",
       "      <td>1.000814</td>\n",
       "    </tr>\n",
       "    <tr>\n",
       "      <th>2</th>\n",
       "      <td>0.995190</td>\n",
       "      <td>1.000762</td>\n",
       "      <td>0.999167</td>\n",
       "      <td>1.006554</td>\n",
       "      <td>0.999314</td>\n",
       "      <td>0.995584</td>\n",
       "      <td>1.003222</td>\n",
       "      <td>0.992129</td>\n",
       "      <td>1.011563</td>\n",
       "      <td>1.007053</td>\n",
       "      <td>...</td>\n",
       "      <td>0.999122</td>\n",
       "      <td>1.008230</td>\n",
       "      <td>0.999423</td>\n",
       "      <td>1.005856</td>\n",
       "      <td>0.999256</td>\n",
       "      <td>0.998203</td>\n",
       "      <td>0.995286</td>\n",
       "      <td>1.003133</td>\n",
       "      <td>0.999229</td>\n",
       "      <td>0.998184</td>\n",
       "    </tr>\n",
       "    <tr>\n",
       "      <th>3</th>\n",
       "      <td>0.991365</td>\n",
       "      <td>1.000445</td>\n",
       "      <td>1.004088</td>\n",
       "      <td>1.010595</td>\n",
       "      <td>1.004648</td>\n",
       "      <td>0.990826</td>\n",
       "      <td>1.002757</td>\n",
       "      <td>0.995168</td>\n",
       "      <td>1.007595</td>\n",
       "      <td>1.004785</td>\n",
       "      <td>...</td>\n",
       "      <td>0.998925</td>\n",
       "      <td>1.004133</td>\n",
       "      <td>1.006380</td>\n",
       "      <td>0.999900</td>\n",
       "      <td>0.999262</td>\n",
       "      <td>0.998834</td>\n",
       "      <td>0.990421</td>\n",
       "      <td>0.994495</td>\n",
       "      <td>0.993857</td>\n",
       "      <td>1.000249</td>\n",
       "    </tr>\n",
       "    <tr>\n",
       "      <th>4</th>\n",
       "      <td>0.997235</td>\n",
       "      <td>1.008453</td>\n",
       "      <td>1.007169</td>\n",
       "      <td>1.007595</td>\n",
       "      <td>1.013447</td>\n",
       "      <td>0.994341</td>\n",
       "      <td>1.005433</td>\n",
       "      <td>0.995760</td>\n",
       "      <td>1.006593</td>\n",
       "      <td>1.005949</td>\n",
       "      <td>...</td>\n",
       "      <td>1.004841</td>\n",
       "      <td>1.002145</td>\n",
       "      <td>1.009413</td>\n",
       "      <td>0.997524</td>\n",
       "      <td>0.999156</td>\n",
       "      <td>1.002836</td>\n",
       "      <td>0.986001</td>\n",
       "      <td>0.994358</td>\n",
       "      <td>0.994585</td>\n",
       "      <td>1.001017</td>\n",
       "    </tr>\n",
       "    <tr>\n",
       "      <th>...</th>\n",
       "      <td>...</td>\n",
       "      <td>...</td>\n",
       "      <td>...</td>\n",
       "      <td>...</td>\n",
       "      <td>...</td>\n",
       "      <td>...</td>\n",
       "      <td>...</td>\n",
       "      <td>...</td>\n",
       "      <td>...</td>\n",
       "      <td>...</td>\n",
       "      <td>...</td>\n",
       "      <td>...</td>\n",
       "      <td>...</td>\n",
       "      <td>...</td>\n",
       "      <td>...</td>\n",
       "      <td>...</td>\n",
       "      <td>...</td>\n",
       "      <td>...</td>\n",
       "      <td>...</td>\n",
       "      <td>...</td>\n",
       "      <td>...</td>\n",
       "    </tr>\n",
       "    <tr>\n",
       "      <th>2516</th>\n",
       "      <td>1.663470</td>\n",
       "      <td>1.670044</td>\n",
       "      <td>1.707934</td>\n",
       "      <td>1.213054</td>\n",
       "      <td>1.268616</td>\n",
       "      <td>1.592214</td>\n",
       "      <td>1.679303</td>\n",
       "      <td>1.484315</td>\n",
       "      <td>1.068891</td>\n",
       "      <td>1.723296</td>\n",
       "      <td>...</td>\n",
       "      <td>1.547016</td>\n",
       "      <td>1.481162</td>\n",
       "      <td>1.770351</td>\n",
       "      <td>1.737463</td>\n",
       "      <td>1.281582</td>\n",
       "      <td>1.403063</td>\n",
       "      <td>1.264682</td>\n",
       "      <td>1.200755</td>\n",
       "      <td>1.418330</td>\n",
       "      <td>1.804087</td>\n",
       "    </tr>\n",
       "    <tr>\n",
       "      <th>2517</th>\n",
       "      <td>1.656623</td>\n",
       "      <td>1.664150</td>\n",
       "      <td>1.706321</td>\n",
       "      <td>1.219141</td>\n",
       "      <td>1.267387</td>\n",
       "      <td>1.588378</td>\n",
       "      <td>1.678471</td>\n",
       "      <td>1.487867</td>\n",
       "      <td>1.071302</td>\n",
       "      <td>1.716094</td>\n",
       "      <td>...</td>\n",
       "      <td>1.546799</td>\n",
       "      <td>1.483009</td>\n",
       "      <td>1.770163</td>\n",
       "      <td>1.749235</td>\n",
       "      <td>1.283049</td>\n",
       "      <td>1.397904</td>\n",
       "      <td>1.268155</td>\n",
       "      <td>1.201798</td>\n",
       "      <td>1.414248</td>\n",
       "      <td>1.813589</td>\n",
       "    </tr>\n",
       "    <tr>\n",
       "      <th>2518</th>\n",
       "      <td>1.658483</td>\n",
       "      <td>1.665451</td>\n",
       "      <td>1.719373</td>\n",
       "      <td>1.221367</td>\n",
       "      <td>1.261188</td>\n",
       "      <td>1.587063</td>\n",
       "      <td>1.692500</td>\n",
       "      <td>1.494492</td>\n",
       "      <td>1.071490</td>\n",
       "      <td>1.723348</td>\n",
       "      <td>...</td>\n",
       "      <td>1.542434</td>\n",
       "      <td>1.469147</td>\n",
       "      <td>1.776621</td>\n",
       "      <td>1.751615</td>\n",
       "      <td>1.284446</td>\n",
       "      <td>1.398741</td>\n",
       "      <td>1.271148</td>\n",
       "      <td>1.193019</td>\n",
       "      <td>1.411137</td>\n",
       "      <td>1.804435</td>\n",
       "    </tr>\n",
       "    <tr>\n",
       "      <th>2519</th>\n",
       "      <td>1.654319</td>\n",
       "      <td>1.654015</td>\n",
       "      <td>1.715623</td>\n",
       "      <td>1.221213</td>\n",
       "      <td>1.257663</td>\n",
       "      <td>1.585518</td>\n",
       "      <td>1.686657</td>\n",
       "      <td>1.487946</td>\n",
       "      <td>1.070946</td>\n",
       "      <td>1.727106</td>\n",
       "      <td>...</td>\n",
       "      <td>1.546591</td>\n",
       "      <td>1.457718</td>\n",
       "      <td>1.772570</td>\n",
       "      <td>1.750873</td>\n",
       "      <td>1.288245</td>\n",
       "      <td>1.392332</td>\n",
       "      <td>1.268343</td>\n",
       "      <td>1.196046</td>\n",
       "      <td>1.411575</td>\n",
       "      <td>1.803352</td>\n",
       "    </tr>\n",
       "    <tr>\n",
       "      <th>2520</th>\n",
       "      <td>1.645856</td>\n",
       "      <td>1.654366</td>\n",
       "      <td>1.719810</td>\n",
       "      <td>1.223272</td>\n",
       "      <td>1.253185</td>\n",
       "      <td>1.586392</td>\n",
       "      <td>1.679908</td>\n",
       "      <td>1.484855</td>\n",
       "      <td>1.068650</td>\n",
       "      <td>1.720751</td>\n",
       "      <td>...</td>\n",
       "      <td>1.545891</td>\n",
       "      <td>1.460370</td>\n",
       "      <td>1.772635</td>\n",
       "      <td>1.748948</td>\n",
       "      <td>1.282157</td>\n",
       "      <td>1.393271</td>\n",
       "      <td>1.269968</td>\n",
       "      <td>1.195136</td>\n",
       "      <td>1.416299</td>\n",
       "      <td>1.794426</td>\n",
       "    </tr>\n",
       "  </tbody>\n",
       "</table>\n",
       "<p>2521 rows × 500 columns</p>\n",
       "</div>"
      ],
      "text/plain": [
       "           0         1         2         3         4         5         6    \\\n",
       "0     1.000000  1.000000  1.000000  1.000000  1.000000  1.000000  1.000000   \n",
       "1     1.001394  0.995753  0.999642  1.003765  1.000866  1.001482  1.000486   \n",
       "2     0.995190  1.000762  0.999167  1.006554  0.999314  0.995584  1.003222   \n",
       "3     0.991365  1.000445  1.004088  1.010595  1.004648  0.990826  1.002757   \n",
       "4     0.997235  1.008453  1.007169  1.007595  1.013447  0.994341  1.005433   \n",
       "...        ...       ...       ...       ...       ...       ...       ...   \n",
       "2516  1.663470  1.670044  1.707934  1.213054  1.268616  1.592214  1.679303   \n",
       "2517  1.656623  1.664150  1.706321  1.219141  1.267387  1.588378  1.678471   \n",
       "2518  1.658483  1.665451  1.719373  1.221367  1.261188  1.587063  1.692500   \n",
       "2519  1.654319  1.654015  1.715623  1.221213  1.257663  1.585518  1.686657   \n",
       "2520  1.645856  1.654366  1.719810  1.223272  1.253185  1.586392  1.679908   \n",
       "\n",
       "           7         8         9    ...       490       491       492  \\\n",
       "0     1.000000  1.000000  1.000000  ...  1.000000  1.000000  1.000000   \n",
       "1     0.994708  1.005060  1.004655  ...  0.998032  1.006131  1.000833   \n",
       "2     0.992129  1.011563  1.007053  ...  0.999122  1.008230  0.999423   \n",
       "3     0.995168  1.007595  1.004785  ...  0.998925  1.004133  1.006380   \n",
       "4     0.995760  1.006593  1.005949  ...  1.004841  1.002145  1.009413   \n",
       "...        ...       ...       ...  ...       ...       ...       ...   \n",
       "2516  1.484315  1.068891  1.723296  ...  1.547016  1.481162  1.770351   \n",
       "2517  1.487867  1.071302  1.716094  ...  1.546799  1.483009  1.770163   \n",
       "2518  1.494492  1.071490  1.723348  ...  1.542434  1.469147  1.776621   \n",
       "2519  1.487946  1.070946  1.727106  ...  1.546591  1.457718  1.772570   \n",
       "2520  1.484855  1.068650  1.720751  ...  1.545891  1.460370  1.772635   \n",
       "\n",
       "           493       494       495       496       497       498       499  \n",
       "0     1.000000  1.000000  1.000000  1.000000  1.000000  1.000000  1.000000  \n",
       "1     0.999174  0.999385  0.995888  0.996193  1.001427  1.002023  1.000814  \n",
       "2     1.005856  0.999256  0.998203  0.995286  1.003133  0.999229  0.998184  \n",
       "3     0.999900  0.999262  0.998834  0.990421  0.994495  0.993857  1.000249  \n",
       "4     0.997524  0.999156  1.002836  0.986001  0.994358  0.994585  1.001017  \n",
       "...        ...       ...       ...       ...       ...       ...       ...  \n",
       "2516  1.737463  1.281582  1.403063  1.264682  1.200755  1.418330  1.804087  \n",
       "2517  1.749235  1.283049  1.397904  1.268155  1.201798  1.414248  1.813589  \n",
       "2518  1.751615  1.284446  1.398741  1.271148  1.193019  1.411137  1.804435  \n",
       "2519  1.750873  1.288245  1.392332  1.268343  1.196046  1.411575  1.803352  \n",
       "2520  1.748948  1.282157  1.393271  1.269968  1.195136  1.416299  1.794426  \n",
       "\n",
       "[2521 rows x 500 columns]"
      ]
     },
     "execution_count": 50,
     "metadata": {},
     "output_type": "execute_result"
    }
   ],
   "source": [
    "# Run the Monte Carlo simulation to forecast 10 years cumulative returns\n",
    "\n",
    "MC_ten_year.calc_cumulative_return()\n"
   ]
  },
  {
   "cell_type": "code",
   "execution_count": 51,
   "metadata": {},
   "outputs": [
    {
     "data": {
      "text/plain": [
       "<AxesSubplot:title={'center':'500 Simulations of Cumulative Portfolio Return Trajectories Over the Next 2520 Trading Days.'}>"
      ]
     },
     "execution_count": 51,
     "metadata": {},
     "output_type": "execute_result"
    },
    {
     "data": {
      "image/png": "[encoded data removed]",
      "text/plain": [
       "<Figure size 432x288 with 1 Axes>"
      ]
     },
     "metadata": {
      "needs_background": "light"
     },
     "output_type": "display_data"
    }
   ],
   "source": [
    "# Visualize the 10-year Monte Carlo simulation by creating an\n",
    "# overlay line plot\n",
    "\n",
    "MC_sim_line_plot_2 = MC_ten_year.plot_simulation()\n",
    "\n",
    "MC_sim_line_plot_2"
   ]
  },
  {
   "cell_type": "code",
   "execution_count": 52,
   "metadata": {},
   "outputs": [
    {
     "data": {
      "text/plain": [
       "<AxesSubplot:title={'center':'Distribution of Final Cumuluative Returns Across All 500 Simulations'}, ylabel='Frequency'>"
      ]
     },
     "execution_count": 52,
     "metadata": {},
     "output_type": "execute_result"
    },
    {
     "data": {
      "image/png": "[encoded data removed]",
      "text/plain": [
       "<Figure size 432x288 with 1 Axes>"
      ]
     },
     "metadata": {
      "needs_background": "light"
     },
     "output_type": "display_data"
    }
   ],
   "source": [
    "# Visualize the probability distribution of the 10-year Monte Carlo simulation \n",
    "# by plotting a histogram\n",
    "\n",
    "MC_sim_dist_plot_2 = MC_ten_year.plot_distribution()\n",
    "\n",
    "MC_sim_dist_plot_2"
   ]
  },
  {
   "cell_type": "code",
   "execution_count": 53,
   "metadata": {},
   "outputs": [
    {
     "data": {
      "text/plain": [
       "count           500.000000\n",
       "mean              1.547165\n",
       "std               0.286376\n",
       "min               0.930021\n",
       "25%               1.340088\n",
       "50%               1.541434\n",
       "75%               1.721785\n",
       "max               2.558775\n",
       "95% CI Lower      1.030556\n",
       "95% CI Upper      2.145604\n",
       "Name: 2520, dtype: float64"
      ]
     },
     "execution_count": 53,
     "metadata": {},
     "output_type": "execute_result"
    }
   ],
   "source": [
    "# Generate summary statistics from the 10-year Monte Carlo simulation results\n",
    "# Save the results as a variable\n",
    "\n",
    "MC_summary_statistics_2 = MC_ten_year.summarize_cumulative_return()\n",
    "\n",
    "# Review the 10-year Monte Carlo summary statistics\n",
    "\n",
    "MC_summary_statistics_2"
   ]
  },
  {
   "cell_type": "markdown",
   "metadata": {},
   "source": [
    "### Answer the following questions:"
   ]
  },
  {
   "cell_type": "markdown",
   "metadata": {},
   "source": [
    "#### Question: Using the current value of only the stock and bond portion of the member's portfolio and the summary statistics that you generated from the new Monte Carlo simulation, what are the lower and upper bounds for the expected value of the portfolio (with the new weights) with a 95% confidence interval?"
   ]
  },
  {
   "cell_type": "code",
   "execution_count": 54,
   "metadata": {},
   "outputs": [
    {
     "name": "stdout",
     "output_type": "stream",
     "text": [
      "35894.9\n"
     ]
    }
   ],
   "source": [
    "# Print the current balance of the stock and bond portion of the members portfolio\n",
    "\n",
    "print(total_stocks_bonds)\n"
   ]
  },
  {
   "cell_type": "code",
   "execution_count": 55,
   "metadata": {},
   "outputs": [
    {
     "name": "stdout",
     "output_type": "stream",
     "text": [
      "There is a 95% chance that an initial investment of $35894.9 in the portfolio over the next 10 years will end within in the range of $ 36991.71 and $ 77016.25.\n"
     ]
    }
   ],
   "source": [
    "# Use the lower and upper `95%` confidence intervals to calculate the range of the possible outcomes for the current stock/bond portfolio\n",
    "ci_lower_ten_cumulative_return = MC_summary_statistics_2[8] * total_stocks_bonds\n",
    "ci_upper_ten_cumulative_return = MC_summary_statistics_2[9] * total_stocks_bonds\n",
    "\n",
    "# Print the result of your calculations\n",
    "\n",
    "print(f\"There is a 95% chance that an initial investment of ${total_stocks_bonds} in the portfolio\"\n",
    "  f\" over the next 10 years will end within in the range of\"\n",
    "  f\" ${ci_lower_ten_cumulative_return: .2f} and ${ci_upper_ten_cumulative_return: .2f}.\")\n"
   ]
  },
  {
   "cell_type": "markdown",
   "metadata": {},
   "source": [
    "#### Question: Will weighting the portfolio more heavily to stocks allow the credit union members to retire after only 10 years?"
   ]
  },
  {
   "cell_type": "raw",
   "metadata": {},
   "source": [
    "**Answer** # YOUR ANSWER HERE"
   ]
  },
  {
   "cell_type": "code",
   "execution_count": null,
   "metadata": {},
   "outputs": [],
   "source": []
  }
 ],
 "metadata": {
  "kernelspec": {
   "display_name": "Python (dev)",
   "language": "python",
   "name": "dev"
  },
  "language_info": {
   "codemirror_mode": {
    "name": "ipython",
    "version": 3
   },
   "file_extension": ".py",
   "mimetype": "text/x-python",
   "name": "python",
   "nbconvert_exporter": "python",
   "pygments_lexer": "ipython3",
   "version": "3.7.11"
  }
 },
 "nbformat": 4,
 "nbformat_minor": 4
}
