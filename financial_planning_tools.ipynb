{
 "cells": [
  {
   "cell_type": "markdown",
   "metadata": {},
   "source": [
    "# Financial Planning with APIs and Simulations\n",
    "\n",
    "In this Challenge, you’ll create two financial analysis tools by using a single Jupyter notebook:\n",
    "\n",
    "Part 1: A financial planner for emergencies. The members will be able to use this tool to visualize their current savings. The members can then determine if they have enough reserves for an emergency fund.\n",
    "\n",
    "Part 2: A financial planner for retirement. This tool will forecast the performance of their retirement portfolio in 30 years. To do this, the tool will make an Alpaca API call via the Alpaca SDK to get historical price data for use in Monte Carlo simulations.\n",
    "\n",
    "You’ll use the information from the Monte Carlo simulation to answer questions about the portfolio in your Jupyter notebook.\n",
    "\n"
   ]
  },
  {
   "cell_type": "code",
   "execution_count": 1,
   "metadata": {},
   "outputs": [],
   "source": [
    "# Import the required libraries and dependencies\n",
    "import os\n",
    "import requests\n",
    "import json\n",
    "import pandas as pd\n",
    "from dotenv import load_dotenv\n",
    "import alpaca_trade_api as tradeapi\n",
    "from MCForecastTools import MCSimulation\n",
    "\n",
    "%matplotlib inline"
   ]
  },
  {
   "cell_type": "code",
   "execution_count": 2,
   "metadata": {},
   "outputs": [
    {
     "data": {
      "text/plain": [
       "True"
      ]
     },
     "execution_count": 2,
     "metadata": {},
     "output_type": "execute_result"
    }
   ],
   "source": [
    "# Load the environment variables from the .env file\n",
    "#by calling the load_dotenv function\n",
    "load_dotenv()"
   ]
  },
  {
   "cell_type": "markdown",
   "metadata": {},
   "source": [
    "## Part 1: Create a Financial Planner for Emergencies"
   ]
  },
  {
   "cell_type": "markdown",
   "metadata": {},
   "source": [
    "### Evaluate the Cryptocurrency Wallet by Using the Requests Library\n",
    "\n",
    "In this section, you’ll determine the current value of a member’s cryptocurrency wallet. You’ll collect the current prices for the Bitcoin and Ethereum cryptocurrencies by using the Python Requests library. For the prototype, you’ll assume that the member holds the 1.2 Bitcoins (BTC) and 5.3 Ethereum coins (ETH). To do all this, complete the following steps:\n",
    "\n",
    "1. Create a variable named `monthly_income`, and set its value to `12000`.\n",
    "\n",
    "2. Use the Requests library to get the current price (in US dollars) of Bitcoin (BTC) and Ethereum (ETH) by using the API endpoints that the starter code supplies.\n",
    "\n",
    "3. Navigate the JSON response object to access the current price of each coin, and store each in a variable.\n",
    "\n",
    "    > **Hint** Note the specific identifier for each cryptocurrency in the API JSON response. The Bitcoin identifier is `1`, and the Ethereum identifier is `1027`.\n",
    "\n",
    "4. Calculate the value, in US dollars, of the current amount of each cryptocurrency and of the entire cryptocurrency wallet.\n",
    "\n"
   ]
  },
  {
   "cell_type": "code",
   "execution_count": 3,
   "metadata": {},
   "outputs": [],
   "source": [
    "# The current number of coins for each cryptocurrency asset held in the portfolio.\n",
    "btc_coins = 1.2\n",
    "eth_coins = 5.3"
   ]
  },
  {
   "cell_type": "markdown",
   "metadata": {},
   "source": [
    "#### Step 1: Create a variable named `monthly_income`, and set its value to `12000`."
   ]
  },
  {
   "cell_type": "code",
   "execution_count": 4,
   "metadata": {},
   "outputs": [],
   "source": [
    "# The monthly amount for the member's household income\n",
    "\n",
    "monthly_income = 12000\n"
   ]
  },
  {
   "cell_type": "markdown",
   "metadata": {},
   "source": [
    "#### Review the endpoint URLs for the API calls to Free Crypto API in order to get the current pricing information for both BTC and ETH."
   ]
  },
  {
   "cell_type": "code",
   "execution_count": 1,
   "metadata": {},
   "outputs": [],
   "source": [
    "# The Free Crypto API Call endpoint URLs for the held cryptocurrency assets\n",
    "btc_url = \"https://api.alternative.me/v2/ticker/Bitcoin/?convert=USD\"\n",
    "eth_url = \"https://api.alternative.me/v2/ticker/Ethereum/?convert=USD\""
   ]
  },
  {
   "cell_type": "markdown",
   "metadata": {},
   "source": [
    "#### Step 2. Use the Requests library to get the current price (in US dollars) of Bitcoin (BTC) and Ethereum (ETH) by using the API endpoints that the starter code supplied."
   ]
  },
  {
   "cell_type": "code",
   "execution_count": 6,
   "metadata": {},
   "outputs": [
    {
     "name": "stdout",
     "output_type": "stream",
     "text": [
      "{\n",
      "    \"data\": {\n",
      "        \"1\": {\n",
      "            \"circulating_supply\": 18921031,\n",
      "            \"id\": 1,\n",
      "            \"last_updated\": 1641426416,\n",
      "            \"max_supply\": 21000000,\n",
      "            \"name\": \"Bitcoin\",\n",
      "            \"quotes\": {\n",
      "                \"USD\": {\n",
      "                    \"market_cap\": 825612163979,\n",
      "                    \"percent_change_1h\": 1.0536522846679,\n",
      "                    \"percent_change_24h\": -4.80783051731501,\n",
      "                    \"percent_change_7d\": -8.3901401604539,\n",
      "                    \"percentage_change_1h\": 1.0536522846679,\n",
      "                    \"percentage_change_24h\": -4.80783051731501,\n",
      "                    \"percentage_change_7d\": -8.3901401604539,\n",
      "                    \"price\": 43721.0,\n",
      "                    \"volume_24h\": 31797836996\n",
      "                }\n",
      "            },\n",
      "            \"rank\": 1,\n",
      "            \"symbol\": \"BTC\",\n",
      "            \"total_supply\": 18921031,\n",
      "            \"website_slug\": \"bitcoin\"\n",
      "        }\n",
      "    },\n",
      "    \"metadata\": {\n",
      "        \"error\": null,\n",
      "        \"num_cryptocurrencies\": 3105,\n",
      "        \"timestamp\": 1641426416\n",
      "    }\n",
      "}\n"
     ]
    }
   ],
   "source": [
    "# Using the Python requests library, make an API call to access the current price of BTC\n",
    "\n",
    "btc_response = requests.get(btc_url).json()\n",
    "\n",
    "# Use the json.dumps function to review the response data from the API call\n",
    "# Use the indent and sort_keys parameters to make the response object readable\n",
    "\n",
    "print(json.dumps(btc_response, indent=4, sort_keys=True))\n"
   ]
  },
  {
   "cell_type": "code",
   "execution_count": 7,
   "metadata": {},
   "outputs": [
    {
     "name": "stdout",
     "output_type": "stream",
     "text": [
      "{\n",
      "    \"data\": {\n",
      "        \"1027\": {\n",
      "            \"circulating_supply\": 119040327,\n",
      "            \"id\": 1027,\n",
      "            \"last_updated\": 1641426532,\n",
      "            \"max_supply\": 0,\n",
      "            \"name\": \"Ethereum\",\n",
      "            \"quotes\": {\n",
      "                \"USD\": {\n",
      "                    \"market_cap\": 423898821435,\n",
      "                    \"percent_change_1h\": 1.25811009736812,\n",
      "                    \"percent_change_24h\": -6.16312969774182,\n",
      "                    \"percent_change_7d\": -6.42970529233932,\n",
      "                    \"percentage_change_1h\": 1.25811009736812,\n",
      "                    \"percentage_change_24h\": -6.16312969774182,\n",
      "                    \"percentage_change_7d\": -6.42970529233932,\n",
      "                    \"price\": 3562.56,\n",
      "                    \"volume_24h\": 18652056925\n",
      "                }\n",
      "            },\n",
      "            \"rank\": 2,\n",
      "            \"symbol\": \"ETH\",\n",
      "            \"total_supply\": 119040327,\n",
      "            \"website_slug\": \"ethereum\"\n",
      "        }\n",
      "    },\n",
      "    \"metadata\": {\n",
      "        \"error\": null,\n",
      "        \"num_cryptocurrencies\": 3105,\n",
      "        \"timestamp\": 1641426532\n",
      "    }\n",
      "}\n"
     ]
    }
   ],
   "source": [
    "# Using the Python requests library, make an API call to access the current price ETH\n",
    "\n",
    "eth_response = requests.get(eth_url).json()\n",
    "\n",
    "# Use the json.dumps function to review the response data from the API call\n",
    "# Use the indent and sort_keys parameters to make the response object readable\n",
    "\n",
    "print(json.dumps(eth_response, indent=4, sort_keys=True))\n"
   ]
  },
  {
   "cell_type": "markdown",
   "metadata": {},
   "source": [
    "#### Step 3: Navigate the JSON response object to access the current price of each coin, and store each in a variable."
   ]
  },
  {
   "cell_type": "code",
   "execution_count": 8,
   "metadata": {},
   "outputs": [
    {
     "name": "stdout",
     "output_type": "stream",
     "text": [
      "The price for Bitcoin is $43721.0\n"
     ]
    }
   ],
   "source": [
    "# Navigate the BTC response object to access the current price of BTC\n",
    "\n",
    "btc_price = btc_response['data']['1']['quotes']['USD']['price']\n",
    "\n",
    "# Print the current price of BTC\n",
    "\n",
    "print(f\"The price for Bitcoin is ${btc_price}\")\n"
   ]
  },
  {
   "cell_type": "code",
   "execution_count": 9,
   "metadata": {},
   "outputs": [
    {
     "name": "stdout",
     "output_type": "stream",
     "text": [
      "The price for Ethereum is $3562.56\n"
     ]
    }
   ],
   "source": [
    "# Navigate the BTC response object to access the current price of ETH\n",
    "\n",
    "eth_price = eth_response['data']['1027']['quotes']['USD']['price']\n",
    "\n",
    "# Print the current price of ETH\n",
    "\n",
    "print(f\"The price for Ethereum is ${eth_price}\")\n",
    "\n"
   ]
  },
  {
   "cell_type": "markdown",
   "metadata": {},
   "source": [
    "### Step 4: Calculate the value, in US dollars, of the current amount of each cryptocurrency and of the entire cryptocurrency wallet."
   ]
  },
  {
   "cell_type": "code",
   "execution_count": 10,
   "metadata": {},
   "outputs": [
    {
     "name": "stdout",
     "output_type": "stream",
     "text": [
      "The value for the holding in Bitcoin is $52465.2\n"
     ]
    }
   ],
   "source": [
    "# Compute the current value of the BTC holding \n",
    "btc_value = btc_coins * btc_price\n",
    "\n",
    "\n",
    "# Print current value of your holding in BTC\n",
    "\n",
    "print(f\"The value for the holding in Bitcoin is ${btc_value}\")\n",
    "\n"
   ]
  },
  {
   "cell_type": "code",
   "execution_count": 11,
   "metadata": {},
   "outputs": [
    {
     "name": "stdout",
     "output_type": "stream",
     "text": [
      "The value for the holding in Ethereum is $18881.568\n"
     ]
    }
   ],
   "source": [
    "# Compute the current value of the ETH holding \n",
    "eth_value = eth_coins * eth_price\n",
    "\n",
    "# Print current value of your holding in ETH\n",
    "\n",
    "print(f\"The value for the holding in Ethereum is ${eth_value}\")\n",
    "\n"
   ]
  },
  {
   "cell_type": "code",
   "execution_count": 12,
   "metadata": {},
   "outputs": [
    {
     "name": "stdout",
     "output_type": "stream",
     "text": [
      "The value for the cryotocurrency wallet is $71346.768\n"
     ]
    }
   ],
   "source": [
    "# Compute the total value of the cryptocurrency wallet\n",
    "# Add the value of the BTC holding to the value of the ETH holding\n",
    "total_crypto_wallet = eth_value + btc_value\n",
    "\n",
    "# Print current cryptocurrency wallet balance\n",
    "\n",
    "print(f\"The value for the cryotocurrency wallet is ${total_crypto_wallet}\")\n"
   ]
  },
  {
   "cell_type": "markdown",
   "metadata": {},
   "source": [
    "### Evaluate the Stock and Bond Holdings by Using the Alpaca SDK\n",
    "\n",
    "In this section, you’ll determine the current value of a member’s stock and bond holdings. You’ll make an API call to Alpaca via the Alpaca SDK to get the current closing prices of the SPDR S&P 500 ETF Trust (ticker: SPY) and of the iShares Core US Aggregate Bond ETF (ticker: AGG). For the prototype, assume that the member holds 110 shares of SPY, which represents the stock portion of their portfolio, and 200 shares of AGG, which represents the bond portion. To do all this, complete the following steps:\n",
    "\n",
    "1. In the `Starter_Code` folder, create an environment file (`.env`) to store the values of your Alpaca API key and Alpaca secret key.\n",
    "\n",
    "2. Set the variables for the Alpaca API and secret keys. Using the Alpaca SDK, create the Alpaca `tradeapi.REST` object. In this object, include the parameters for the Alpaca API key, the secret key, and the version number.\n",
    "\n",
    "3. Set the following parameters for the Alpaca API call:\n",
    "\n",
    "    - `tickers`: Use the tickers for the member’s stock and bond holdings.\n",
    "\n",
    "    - `timeframe`: Use a time frame of one day.\n",
    "\n",
    "    - `start_date` and `end_date`: Use the same date for these parameters, and format them with the date of the previous weekday (or `2020-08-07`). This is because you want the one closing price for the most-recent trading day.\n",
    "\n",
    "4. Get the current closing prices for `SPY` and `AGG` by using the Alpaca `get_barset` function. Format the response as a Pandas DataFrame by including the `df` property at the end of the `get_barset` function.\n",
    "\n",
    "5. Navigating the Alpaca response DataFrame, select the `SPY` and `AGG` closing prices, and store them as variables.\n",
    "\n",
    "6. Calculate the value, in US dollars, of the current amount of shares in each of the stock and bond portions of the portfolio, and print the results.\n"
   ]
  },
  {
   "cell_type": "markdown",
   "metadata": {},
   "source": [
    "#### Review the total number of shares held in both (SPY) and (AGG)."
   ]
  },
  {
   "cell_type": "code",
   "execution_count": 13,
   "metadata": {},
   "outputs": [],
   "source": [
    "# Current amount of shares held in both the stock (SPY) and bond (AGG) portion of the portfolio.\n",
    "spy_shares = 110\n",
    "agg_shares = 200\n"
   ]
  },
  {
   "cell_type": "markdown",
   "metadata": {},
   "source": [
    "#### Step 1: In the `Starter_Code` folder, create an environment file (`.env`) to store the values of your Alpaca API key and Alpaca secret key."
   ]
  },
  {
   "cell_type": "markdown",
   "metadata": {},
   "source": [
    "#### Step 2: Set the variables for the Alpaca API and secret keys. Using the Alpaca SDK, create the Alpaca `tradeapi.REST` object. In this object, include the parameters for the Alpaca API key, the secret key, and the version number."
   ]
  },
  {
   "cell_type": "code",
   "execution_count": 14,
   "metadata": {},
   "outputs": [],
   "source": [
    "# Set the variables for the Alpaca API and secret keys\n",
    "\n",
    "alpaca_api_key = os.getenv(\"ALPACA_API_KEY\")\n",
    "alpaca_secret_key = os.getenv(\"ALPACA_SECRET_KEY\")\n",
    "\n",
    "# Create the Alpaca tradeapi.REST object\n",
    "\n",
    "alpaca = tradeapi.REST(\n",
    "    alpaca_api_key,\n",
    "    alpaca_secret_key,\n",
    "    api_version=\"v2\")\n"
   ]
  },
  {
   "cell_type": "markdown",
   "metadata": {},
   "source": [
    "#### Step 3: Set the following parameters for the Alpaca API call:\n",
    "\n",
    "- `tickers`: Use the tickers for the member’s stock and bond holdings.\n",
    "\n",
    "- `timeframe`: Use a time frame of one day.\n",
    "\n",
    "- `start_date` and `end_date`: Use the same date for these parameters, and format them with the date of the previous weekday (or `2020-08-07`). This is because you want the one closing price for the most-recent trading day.\n"
   ]
  },
  {
   "cell_type": "code",
   "execution_count": 15,
   "metadata": {},
   "outputs": [],
   "source": [
    "# Set the tickers for both the bond and stock portion of the portfolio\n",
    "\n",
    "tickers = [\"SPY\", \"AGG\"]\n",
    "\n",
    "# Set timeframe to 1D \n",
    "\n",
    "timeframe = \"1D\"\n",
    "\n",
    "# Format current date as ISO format\n",
    "# Set both the start and end date at the date of your prior weekday \n",
    "# This will give you the closing price of the previous trading day\n",
    "# Alternatively you can use a start and end date of 2020-08-07\n",
    "\n",
    "start_date = pd.Timestamp(\"2020-08-07\").isoformat()\n",
    "\n",
    "end_date = pd.Timestamp(\"2020-08-07\").isoformat()\n"
   ]
  },
  {
   "cell_type": "markdown",
   "metadata": {},
   "source": [
    "#### Step 4: Get the current closing prices for `SPY` and `AGG` by using the Alpaca `get_barset` function. Format the response as a Pandas DataFrame by including the `df` property at the end of the `get_barset` function."
   ]
  },
  {
   "cell_type": "code",
   "execution_count": 16,
   "metadata": {},
   "outputs": [
    {
     "data": {
      "text/html": [
       "<div>\n",
       "<style scoped>\n",
       "    .dataframe tbody tr th:only-of-type {\n",
       "        vertical-align: middle;\n",
       "    }\n",
       "\n",
       "    .dataframe tbody tr th {\n",
       "        vertical-align: top;\n",
       "    }\n",
       "\n",
       "    .dataframe thead tr th {\n",
       "        text-align: left;\n",
       "    }\n",
       "\n",
       "    .dataframe thead tr:last-of-type th {\n",
       "        text-align: right;\n",
       "    }\n",
       "</style>\n",
       "<table border=\"1\" class=\"dataframe\">\n",
       "  <thead>\n",
       "    <tr>\n",
       "      <th></th>\n",
       "      <th colspan=\"5\" halign=\"left\">AGG</th>\n",
       "      <th colspan=\"5\" halign=\"left\">SPY</th>\n",
       "    </tr>\n",
       "    <tr>\n",
       "      <th></th>\n",
       "      <th>open</th>\n",
       "      <th>high</th>\n",
       "      <th>low</th>\n",
       "      <th>close</th>\n",
       "      <th>volume</th>\n",
       "      <th>open</th>\n",
       "      <th>high</th>\n",
       "      <th>low</th>\n",
       "      <th>close</th>\n",
       "      <th>volume</th>\n",
       "    </tr>\n",
       "    <tr>\n",
       "      <th>time</th>\n",
       "      <th></th>\n",
       "      <th></th>\n",
       "      <th></th>\n",
       "      <th></th>\n",
       "      <th></th>\n",
       "      <th></th>\n",
       "      <th></th>\n",
       "      <th></th>\n",
       "      <th></th>\n",
       "      <th></th>\n",
       "    </tr>\n",
       "  </thead>\n",
       "  <tbody>\n",
       "    <tr>\n",
       "      <th>2022-01-05 00:00:00-05:00</th>\n",
       "      <td>113.34</td>\n",
       "      <td>113.36</td>\n",
       "      <td>112.9</td>\n",
       "      <td>112.93</td>\n",
       "      <td>7686662</td>\n",
       "      <td>477.16</td>\n",
       "      <td>477.98</td>\n",
       "      <td>468.2801</td>\n",
       "      <td>468.38</td>\n",
       "      <td>87411658</td>\n",
       "    </tr>\n",
       "  </tbody>\n",
       "</table>\n",
       "</div>"
      ],
      "text/plain": [
       "                              AGG                                     SPY  \\\n",
       "                             open    high    low   close   volume    open   \n",
       "time                                                                        \n",
       "2022-01-05 00:00:00-05:00  113.34  113.36  112.9  112.93  7686662  477.16   \n",
       "\n",
       "                                                               \n",
       "                             high       low   close    volume  \n",
       "time                                                           \n",
       "2022-01-05 00:00:00-05:00  477.98  468.2801  468.38  87411658  "
      ]
     },
     "execution_count": 16,
     "metadata": {},
     "output_type": "execute_result"
    }
   ],
   "source": [
    "# Use the Alpaca get_barset function to get current closing prices the portfolio\n",
    "# Be sure to set the `df` property after the function to format the response object as a DataFrame\n",
    "\n",
    "limit_rows = 1\n",
    "\n",
    "alpaca_df = alpaca.get_barset(\n",
    "    tickers,\n",
    "    timeframe,\n",
    "    start = start_date,\n",
    "    end = end_date,\n",
    "    limit = limit_rows\n",
    ").df\n",
    "\n",
    "# Review the first 5 rows of the Alpaca DataFrame\n",
    "\n",
    "alpaca_df.head()\n"
   ]
  },
  {
   "cell_type": "markdown",
   "metadata": {},
   "source": [
    "#### Step 5: Navigating the Alpaca response DataFrame, select the `SPY` and `AGG` closing prices, and store them as variables."
   ]
  },
  {
   "cell_type": "code",
   "execution_count": 17,
   "metadata": {},
   "outputs": [
    {
     "name": "stdout",
     "output_type": "stream",
     "text": [
      "112.93\n"
     ]
    }
   ],
   "source": [
    "# Access the closing price for AGG from the Alpaca DataFrame\n",
    "# Converting the value to a floating point number\n",
    "\n",
    "agg_close_price = (alpaca_df[\"AGG\"][\"close\"][0])\n",
    "\n",
    "# Print the AGG closing price\n",
    "\n",
    "print(agg_close_price)\n"
   ]
  },
  {
   "cell_type": "code",
   "execution_count": 18,
   "metadata": {},
   "outputs": [
    {
     "name": "stdout",
     "output_type": "stream",
     "text": [
      "468.38\n"
     ]
    }
   ],
   "source": [
    "# Access the closing price for SPY from the Alpaca DataFrame\n",
    "# Converting the value to a floating point number\n",
    "\n",
    "spy_close_price = (alpaca_df[\"SPY\"][\"close\"][0])\n",
    "\n",
    "# Print the SPY closing price\n",
    "\n",
    "print(spy_close_price)\n"
   ]
  },
  {
   "cell_type": "markdown",
   "metadata": {},
   "source": [
    "#### Step 6: Calculate the value, in US dollars, of the current amount of shares in each of the stock and bond portions of the portfolio, and print the results."
   ]
  },
  {
   "cell_type": "code",
   "execution_count": 19,
   "metadata": {},
   "outputs": [
    {
     "name": "stdout",
     "output_type": "stream",
     "text": [
      "22586.0\n"
     ]
    }
   ],
   "source": [
    "# Calculate the current value of the bond portion of the portfolio\n",
    "\n",
    "agg_value = agg_close_price * agg_shares\n",
    "\n",
    "# Print the current value of the bond portfolio\n",
    "\n",
    "print(agg_value)\n"
   ]
  },
  {
   "cell_type": "code",
   "execution_count": 20,
   "metadata": {},
   "outputs": [
    {
     "name": "stdout",
     "output_type": "stream",
     "text": [
      "12422.300000000001\n"
     ]
    }
   ],
   "source": [
    "# Calculate the current value of the stock portion of the portfolio\n",
    "\n",
    "spy_value = agg_close_price * spy_shares\n",
    "\n",
    "# Print the current value of the stock portfolio\n",
    "\n",
    "print(spy_value)\n"
   ]
  },
  {
   "cell_type": "code",
   "execution_count": 21,
   "metadata": {},
   "outputs": [
    {
     "name": "stdout",
     "output_type": "stream",
     "text": [
      "35008.3\n"
     ]
    }
   ],
   "source": [
    "# Calculate the total value of the stock and bond portion of the portfolio\n",
    "total_stocks_bonds = spy_value + agg_value\n",
    "\n",
    "# Print the current balance of the stock and bond portion of the portfolio\n",
    "\n",
    "print(total_stocks_bonds)\n"
   ]
  },
  {
   "cell_type": "code",
   "execution_count": 22,
   "metadata": {},
   "outputs": [
    {
     "name": "stdout",
     "output_type": "stream",
     "text": [
      "106355.068\n"
     ]
    }
   ],
   "source": [
    "# Calculate the total value of the member's entire savings portfolio\n",
    "# Add the value of the cryptocurrency walled to the value of the total stocks and bonds\n",
    "\n",
    "total_portfolio = total_stocks_bonds + total_crypto_wallet\n",
    "\n",
    "# Print current cryptocurrency wallet balance\n",
    "\n",
    "print(total_portfolio)\n"
   ]
  },
  {
   "cell_type": "markdown",
   "metadata": {},
   "source": [
    "### Evaluate the Emergency Fund\n",
    "\n",
    "In this section, you’ll use the valuations for the cryptocurrency wallet and for the stock and bond portions of the portfolio to determine if the credit union member has enough savings to build an emergency fund into their financial plan. To do this, complete the following steps:\n",
    "\n",
    "1. Create a Python list named `savings_data` that has two elements. The first element contains the total value of the cryptocurrency wallet. The second element contains the total value of the stock and bond portions of the portfolio.\n",
    "\n",
    "2. Use the `savings_data` list to create a Pandas DataFrame named `savings_df`, and then display this DataFrame. The function to create the DataFrame should take the following three parameters:\n",
    "\n",
    "    - `savings_data`: Use the list that you just created.\n",
    "\n",
    "    - `columns`: Set this parameter equal to a Python list with a single value called `amount`.\n",
    "\n",
    "    - `index`: Set this parameter equal to a Python list with the values of `crypto` and `stock/bond`.\n",
    "\n",
    "3. Use the `savings_df` DataFrame to plot a pie chart that visualizes the composition of the member’s portfolio. The y-axis of the pie chart uses `amount`. Be sure to add a title.\n",
    "\n",
    "4. Using Python, determine if the current portfolio has enough to create an emergency fund as part of the member’s financial plan. Ideally, an emergency fund should equal to three times the member’s monthly income. To do this, implement the following steps:\n",
    "\n",
    "    1. Create a variable named `emergency_fund_value`, and set it equal to three times the value of the member’s `monthly_income` of $12000. (You set this earlier in Part 1).\n",
    "\n",
    "    2. Create a series of three if statements to determine if the member’s total portfolio is large enough to fund the emergency portfolio:\n",
    "\n",
    "        1. If the total portfolio value is greater than the emergency fund value, display a message congratulating the member for having enough money in this fund.\n",
    "\n",
    "        2. Else if the total portfolio value is equal to the emergency fund value, display a message congratulating the member on reaching this important financial goal.\n",
    "\n",
    "        3. Else the total portfolio is less than the emergency fund value, so display a message showing how many dollars away the member is from reaching the goal. (Subtract the total portfolio value from the emergency fund value.)\n"
   ]
  },
  {
   "cell_type": "markdown",
   "metadata": {},
   "source": [
    "#### Step 1: Create a Python list named `savings_data` that has two elements. The first element contains the total value of the cryptocurrency wallet. The second element contains the total value of the stock and bond portions of the portfolio."
   ]
  },
  {
   "cell_type": "code",
   "execution_count": 23,
   "metadata": {},
   "outputs": [
    {
     "data": {
      "text/plain": [
       "[71346.768, 35008.3]"
      ]
     },
     "execution_count": 23,
     "metadata": {},
     "output_type": "execute_result"
    }
   ],
   "source": [
    "# Consolidate financial assets data into a Python list\n",
    "\n",
    "savings_data = [total_crypto_wallet, total_stocks_bonds]\n",
    "\n",
    "# Review the Python list savings_data\n",
    "\n",
    "savings_data\n"
   ]
  },
  {
   "cell_type": "markdown",
   "metadata": {},
   "source": [
    "#### Step 2: Use the `savings_data` list to create a Pandas DataFrame named `savings_df`, and then display this DataFrame. The function to create the DataFrame should take the following three parameters:\n",
    "\n",
    "- `savings_data`: Use the list that you just created.\n",
    "\n",
    "- `columns`: Set this parameter equal to a Python list with a single value called `amount`.\n",
    "\n",
    "- `index`: Set this parameter equal to a Python list with the values of `crypto` and `stock/bond`.\n"
   ]
  },
  {
   "cell_type": "code",
   "execution_count": 24,
   "metadata": {},
   "outputs": [
    {
     "data": {
      "text/html": [
       "<div>\n",
       "<style scoped>\n",
       "    .dataframe tbody tr th:only-of-type {\n",
       "        vertical-align: middle;\n",
       "    }\n",
       "\n",
       "    .dataframe tbody tr th {\n",
       "        vertical-align: top;\n",
       "    }\n",
       "\n",
       "    .dataframe thead th {\n",
       "        text-align: right;\n",
       "    }\n",
       "</style>\n",
       "<table border=\"1\" class=\"dataframe\">\n",
       "  <thead>\n",
       "    <tr style=\"text-align: right;\">\n",
       "      <th></th>\n",
       "      <th>amount</th>\n",
       "    </tr>\n",
       "  </thead>\n",
       "  <tbody>\n",
       "    <tr>\n",
       "      <th>crypto</th>\n",
       "      <td>71346.768</td>\n",
       "    </tr>\n",
       "    <tr>\n",
       "      <th>stock/bond</th>\n",
       "      <td>35008.300</td>\n",
       "    </tr>\n",
       "  </tbody>\n",
       "</table>\n",
       "</div>"
      ],
      "text/plain": [
       "               amount\n",
       "crypto      71346.768\n",
       "stock/bond  35008.300"
      ]
     },
     "execution_count": 24,
     "metadata": {},
     "output_type": "execute_result"
    }
   ],
   "source": [
    "# Create a Pandas DataFrame called savings_df \n",
    "\n",
    "savings_df = pd.DataFrame(savings_data,\n",
    "    columns = [\"amount\"],\n",
    "    index = [\"crypto\", \"stock/bond\"])\n",
    "\n",
    "\n",
    "\n",
    "# Display the savings_df DataFrame\n",
    "\n",
    "savings_df\n"
   ]
  },
  {
   "cell_type": "markdown",
   "metadata": {},
   "source": [
    "#### Step 3: Use the `savings_df` DataFrame to plot a pie chart that visualizes the composition of the member’s portfolio. The y-axis of the pie chart uses `amount`. Be sure to add a title."
   ]
  },
  {
   "cell_type": "code",
   "execution_count": 25,
   "metadata": {},
   "outputs": [
    {
     "data": {
      "text/plain": [
       "<AxesSubplot:title={'center':'Savings Portfolio'}, ylabel='amount'>"
      ]
     },
     "execution_count": 25,
     "metadata": {},
     "output_type": "execute_result"
    },
    {
     "data": {
      "image/png": "[encoded data removed]",
      "text/plain": [
       "<Figure size 432x288 with 1 Axes>"
      ]
     },
     "metadata": {},
     "output_type": "display_data"
    }
   ],
   "source": [
    "# Plot the total value of the member's portfolio (crypto and stock/bond) in a pie chart\n",
    "\n",
    "savings_df.plot.pie(y = \"amount\", title = \"Savings Portfolio\")\n"
   ]
  },
  {
   "cell_type": "markdown",
   "metadata": {},
   "source": [
    "#### Step 4: Using Python, determine if the current portfolio has enough to create an emergency fund as part of the member’s financial plan. Ideally, an emergency fund should equal to three times the member’s monthly income. To do this, implement the following steps:\n",
    "\n",
    "Step 1. Create a variable named `emergency_fund_value`, and set it equal to three times the value of the member’s `monthly_income` of 12000. (You set this earlier in Part 1).\n",
    "\n",
    "Step 2. Create a series of three if statements to determine if the member’s total portfolio is large enough to fund the emergency portfolio:\n",
    "\n",
    "* If the total portfolio value is greater than the emergency fund value, display a message congratulating the member for having enough money in this fund.\n",
    "\n",
    "* Else if the total portfolio value is equal to the emergency fund value, display a message congratulating the member on reaching this important financial goal.\n",
    "\n",
    "* Else the total portfolio is less than the emergency fund value, so display a message showing how many dollars away the member is from reaching the goal. (Subtract the total portfolio value from the emergency fund value.)\n"
   ]
  },
  {
   "cell_type": "markdown",
   "metadata": {},
   "source": [
    "##### Step 4-1: Create a variable named `emergency_fund_value`, and set it equal to three times the value of the member’s `monthly_income` of 12000. (You set this earlier in Part 1)."
   ]
  },
  {
   "cell_type": "code",
   "execution_count": 26,
   "metadata": {},
   "outputs": [],
   "source": [
    "# Create a variable named emergency_fund_value\n",
    "\n",
    "emergency_fund_value = monthly_income * 3\n"
   ]
  },
  {
   "cell_type": "markdown",
   "metadata": {},
   "source": [
    "##### Step 4-2: Create a series of three if statements to determine if the member’s total portfolio is large enough to fund the emergency portfolio:\n",
    "\n",
    "* If the total portfolio value is greater than the emergency fund value, display a message congratulating the member for having enough money in this fund.\n",
    "\n",
    "* Else if the total portfolio value is equal to the emergency fund value, display a message congratulating the member on reaching this important financial goal.\n",
    "\n",
    "* Else the total portfolio is less than the emergency fund value, so display a message showing how many dollars away the member is from reaching the goal. (Subtract the total portfolio value from the emergency fund value.)"
   ]
  },
  {
   "cell_type": "code",
   "execution_count": 27,
   "metadata": {},
   "outputs": [
    {
     "name": "stdout",
     "output_type": "stream",
     "text": [
      "Congratulations! You have enough money in this fund.\n"
     ]
    }
   ],
   "source": [
    "# Evaluate the possibility of creating an emergency fund with 3 conditions:\n",
    "\n",
    "if total_portfolio > emergency_fund_value:\n",
    "    print(\"Congratulations! You have enough money in this fund.\")\n",
    "elif total_portfolio == emergency_fund_value:\n",
    "    print(\"Congratulations! You have reached your financial goal.\")\n",
    "else:\n",
    "    print(f\"You are ${emergency_fund_value - total_portfolio} away from your goal.\")\n",
    "    "
   ]
  },
  {
   "cell_type": "markdown",
   "metadata": {},
   "source": [
    "## Part 2: Create a Financial Planner for Retirement"
   ]
  },
  {
   "cell_type": "markdown",
   "metadata": {},
   "source": [
    "### Create the Monte Carlo Simulation\n",
    "\n",
    "In this section, you’ll use the MCForecastTools library to create a Monte Carlo simulation for the member’s savings portfolio. To do this, complete the following steps:\n",
    "\n",
    "1. Make an API call via the Alpaca SDK to get 3 years of historical closing prices for a traditional 60/40 portfolio split: 60% stocks (SPY) and 40% bonds (AGG).\n",
    "\n",
    "2. Run a Monte Carlo simulation of 500 samples and 30 years for the 60/40 portfolio, and then plot the results.The following image shows the overlay line plot resulting from a simulation with these characteristics. However, because a random number generator is used to run each live Monte Carlo simulation, your image will differ slightly from this exact image:\n",
    "\n",
    "![A screenshot depicts the resulting plot.](Images/5-4-monte-carlo-line-plot.png)\n",
    "\n",
    "3. Plot the probability distribution of the Monte Carlo simulation. Plot the probability distribution of the Monte Carlo simulation. The following image shows the histogram plot resulting from a simulation with these characteristics. However, because a random number generator is used to run each live Monte Carlo simulation, your image will differ slightly from this exact image:\n",
    "\n",
    "![A screenshot depicts the histogram plot.](Images/5-4-monte-carlo-histogram.png)\n",
    "\n",
    "4. Generate the summary statistics for the Monte Carlo simulation.\n",
    "\n"
   ]
  },
  {
   "cell_type": "markdown",
   "metadata": {},
   "source": [
    "#### Step 1: Make an API call via the Alpaca SDK to get 3 years of historical closing prices for a traditional 60/40 portfolio split: 60% stocks (SPY) and 40% bonds (AGG)."
   ]
  },
  {
   "cell_type": "code",
   "execution_count": 28,
   "metadata": {},
   "outputs": [],
   "source": [
    "# Set start and end dates of 3 years back from your current date\n",
    "# Alternatively, you can use an end date of 2020-08-07 and work 3 years back from that date \n",
    "\n",
    "start_date_2 = pd.Timestamp(\"2017-08-07\").isoformat()\n",
    "\n",
    "# Set number of rows to 1000 to retrieve the maximum amount of rows\n",
    "\n",
    "limit_rows = 1000\n"
   ]
  },
  {
   "cell_type": "code",
   "execution_count": 29,
   "metadata": {},
   "outputs": [
    {
     "data": {
      "text/html": [
       "<div>\n",
       "<style scoped>\n",
       "    .dataframe tbody tr th:only-of-type {\n",
       "        vertical-align: middle;\n",
       "    }\n",
       "\n",
       "    .dataframe tbody tr th {\n",
       "        vertical-align: top;\n",
       "    }\n",
       "\n",
       "    .dataframe thead tr th {\n",
       "        text-align: left;\n",
       "    }\n",
       "\n",
       "    .dataframe thead tr:last-of-type th {\n",
       "        text-align: right;\n",
       "    }\n",
       "</style>\n",
       "<table border=\"1\" class=\"dataframe\">\n",
       "  <thead>\n",
       "    <tr>\n",
       "      <th></th>\n",
       "      <th colspan=\"5\" halign=\"left\">AGG</th>\n",
       "      <th colspan=\"5\" halign=\"left\">SPY</th>\n",
       "    </tr>\n",
       "    <tr>\n",
       "      <th></th>\n",
       "      <th>open</th>\n",
       "      <th>high</th>\n",
       "      <th>low</th>\n",
       "      <th>close</th>\n",
       "      <th>volume</th>\n",
       "      <th>open</th>\n",
       "      <th>high</th>\n",
       "      <th>low</th>\n",
       "      <th>close</th>\n",
       "      <th>volume</th>\n",
       "    </tr>\n",
       "    <tr>\n",
       "      <th>time</th>\n",
       "      <th></th>\n",
       "      <th></th>\n",
       "      <th></th>\n",
       "      <th></th>\n",
       "      <th></th>\n",
       "      <th></th>\n",
       "      <th></th>\n",
       "      <th></th>\n",
       "      <th></th>\n",
       "      <th></th>\n",
       "    </tr>\n",
       "  </thead>\n",
       "  <tbody>\n",
       "    <tr>\n",
       "      <th>2018-01-17 00:00:00-05:00</th>\n",
       "      <td>108.73</td>\n",
       "      <td>108.8390</td>\n",
       "      <td>108.62</td>\n",
       "      <td>108.65</td>\n",
       "      <td>2880481.0</td>\n",
       "      <td>NaN</td>\n",
       "      <td>NaN</td>\n",
       "      <td>NaN</td>\n",
       "      <td>NaN</td>\n",
       "      <td>NaN</td>\n",
       "    </tr>\n",
       "    <tr>\n",
       "      <th>2018-01-18 00:00:00-05:00</th>\n",
       "      <td>108.43</td>\n",
       "      <td>108.5250</td>\n",
       "      <td>108.35</td>\n",
       "      <td>108.38</td>\n",
       "      <td>2681682.0</td>\n",
       "      <td>279.50</td>\n",
       "      <td>279.96</td>\n",
       "      <td>278.58</td>\n",
       "      <td>279.18</td>\n",
       "      <td>57402163.0</td>\n",
       "    </tr>\n",
       "    <tr>\n",
       "      <th>2018-01-19 00:00:00-05:00</th>\n",
       "      <td>108.40</td>\n",
       "      <td>108.4000</td>\n",
       "      <td>108.14</td>\n",
       "      <td>108.15</td>\n",
       "      <td>2751607.0</td>\n",
       "      <td>279.80</td>\n",
       "      <td>280.40</td>\n",
       "      <td>279.14</td>\n",
       "      <td>280.38</td>\n",
       "      <td>55178145.0</td>\n",
       "    </tr>\n",
       "    <tr>\n",
       "      <th>2018-01-22 00:00:00-05:00</th>\n",
       "      <td>108.22</td>\n",
       "      <td>108.2999</td>\n",
       "      <td>108.11</td>\n",
       "      <td>108.16</td>\n",
       "      <td>3020514.0</td>\n",
       "      <td>280.17</td>\n",
       "      <td>282.68</td>\n",
       "      <td>280.11</td>\n",
       "      <td>282.67</td>\n",
       "      <td>47776828.0</td>\n",
       "    </tr>\n",
       "    <tr>\n",
       "      <th>2018-01-23 00:00:00-05:00</th>\n",
       "      <td>108.33</td>\n",
       "      <td>108.4401</td>\n",
       "      <td>108.29</td>\n",
       "      <td>108.39</td>\n",
       "      <td>3488873.0</td>\n",
       "      <td>282.74</td>\n",
       "      <td>283.62</td>\n",
       "      <td>282.37</td>\n",
       "      <td>283.26</td>\n",
       "      <td>53406595.0</td>\n",
       "    </tr>\n",
       "  </tbody>\n",
       "</table>\n",
       "</div>"
      ],
      "text/plain": [
       "                              AGG                                       \\\n",
       "                             open      high     low   close     volume   \n",
       "time                                                                     \n",
       "2018-01-17 00:00:00-05:00  108.73  108.8390  108.62  108.65  2880481.0   \n",
       "2018-01-18 00:00:00-05:00  108.43  108.5250  108.35  108.38  2681682.0   \n",
       "2018-01-19 00:00:00-05:00  108.40  108.4000  108.14  108.15  2751607.0   \n",
       "2018-01-22 00:00:00-05:00  108.22  108.2999  108.11  108.16  3020514.0   \n",
       "2018-01-23 00:00:00-05:00  108.33  108.4401  108.29  108.39  3488873.0   \n",
       "\n",
       "                              SPY                                      \n",
       "                             open    high     low   close      volume  \n",
       "time                                                                   \n",
       "2018-01-17 00:00:00-05:00     NaN     NaN     NaN     NaN         NaN  \n",
       "2018-01-18 00:00:00-05:00  279.50  279.96  278.58  279.18  57402163.0  \n",
       "2018-01-19 00:00:00-05:00  279.80  280.40  279.14  280.38  55178145.0  \n",
       "2018-01-22 00:00:00-05:00  280.17  282.68  280.11  282.67  47776828.0  \n",
       "2018-01-23 00:00:00-05:00  282.74  283.62  282.37  283.26  53406595.0  "
      ]
     },
     "metadata": {},
     "output_type": "display_data"
    },
    {
     "data": {
      "text/html": [
       "<div>\n",
       "<style scoped>\n",
       "    .dataframe tbody tr th:only-of-type {\n",
       "        vertical-align: middle;\n",
       "    }\n",
       "\n",
       "    .dataframe tbody tr th {\n",
       "        vertical-align: top;\n",
       "    }\n",
       "\n",
       "    .dataframe thead tr th {\n",
       "        text-align: left;\n",
       "    }\n",
       "\n",
       "    .dataframe thead tr:last-of-type th {\n",
       "        text-align: right;\n",
       "    }\n",
       "</style>\n",
       "<table border=\"1\" class=\"dataframe\">\n",
       "  <thead>\n",
       "    <tr>\n",
       "      <th></th>\n",
       "      <th colspan=\"5\" halign=\"left\">AGG</th>\n",
       "      <th colspan=\"5\" halign=\"left\">SPY</th>\n",
       "    </tr>\n",
       "    <tr>\n",
       "      <th></th>\n",
       "      <th>open</th>\n",
       "      <th>high</th>\n",
       "      <th>low</th>\n",
       "      <th>close</th>\n",
       "      <th>volume</th>\n",
       "      <th>open</th>\n",
       "      <th>high</th>\n",
       "      <th>low</th>\n",
       "      <th>close</th>\n",
       "      <th>volume</th>\n",
       "    </tr>\n",
       "    <tr>\n",
       "      <th>time</th>\n",
       "      <th></th>\n",
       "      <th></th>\n",
       "      <th></th>\n",
       "      <th></th>\n",
       "      <th></th>\n",
       "      <th></th>\n",
       "      <th></th>\n",
       "      <th></th>\n",
       "      <th></th>\n",
       "      <th></th>\n",
       "    </tr>\n",
       "  </thead>\n",
       "  <tbody>\n",
       "    <tr>\n",
       "      <th>2021-12-30 00:00:00-05:00</th>\n",
       "      <td>113.99</td>\n",
       "      <td>114.1300</td>\n",
       "      <td>113.830</td>\n",
       "      <td>114.12</td>\n",
       "      <td>5044053.0</td>\n",
       "      <td>477.93</td>\n",
       "      <td>479.00</td>\n",
       "      <td>475.6700</td>\n",
       "      <td>476.15</td>\n",
       "      <td>44681636.0</td>\n",
       "    </tr>\n",
       "    <tr>\n",
       "      <th>2021-12-31 00:00:00-05:00</th>\n",
       "      <td>114.15</td>\n",
       "      <td>114.3100</td>\n",
       "      <td>114.060</td>\n",
       "      <td>114.09</td>\n",
       "      <td>6557778.0</td>\n",
       "      <td>475.64</td>\n",
       "      <td>476.86</td>\n",
       "      <td>474.6700</td>\n",
       "      <td>474.89</td>\n",
       "      <td>51212452.0</td>\n",
       "    </tr>\n",
       "    <tr>\n",
       "      <th>2022-01-03 00:00:00-05:00</th>\n",
       "      <td>113.67</td>\n",
       "      <td>113.6753</td>\n",
       "      <td>113.310</td>\n",
       "      <td>113.31</td>\n",
       "      <td>8906643.0</td>\n",
       "      <td>476.32</td>\n",
       "      <td>477.85</td>\n",
       "      <td>473.8500</td>\n",
       "      <td>477.76</td>\n",
       "      <td>56128214.0</td>\n",
       "    </tr>\n",
       "    <tr>\n",
       "      <th>2022-01-04 00:00:00-05:00</th>\n",
       "      <td>113.22</td>\n",
       "      <td>113.3000</td>\n",
       "      <td>113.075</td>\n",
       "      <td>113.29</td>\n",
       "      <td>7615698.0</td>\n",
       "      <td>479.22</td>\n",
       "      <td>479.98</td>\n",
       "      <td>475.5800</td>\n",
       "      <td>477.51</td>\n",
       "      <td>59093344.0</td>\n",
       "    </tr>\n",
       "    <tr>\n",
       "      <th>2022-01-05 00:00:00-05:00</th>\n",
       "      <td>113.34</td>\n",
       "      <td>113.3600</td>\n",
       "      <td>112.900</td>\n",
       "      <td>112.93</td>\n",
       "      <td>7686662.0</td>\n",
       "      <td>477.16</td>\n",
       "      <td>477.98</td>\n",
       "      <td>468.2801</td>\n",
       "      <td>468.38</td>\n",
       "      <td>87411658.0</td>\n",
       "    </tr>\n",
       "  </tbody>\n",
       "</table>\n",
       "</div>"
      ],
      "text/plain": [
       "                              AGG                                        \\\n",
       "                             open      high      low   close     volume   \n",
       "time                                                                      \n",
       "2021-12-30 00:00:00-05:00  113.99  114.1300  113.830  114.12  5044053.0   \n",
       "2021-12-31 00:00:00-05:00  114.15  114.3100  114.060  114.09  6557778.0   \n",
       "2022-01-03 00:00:00-05:00  113.67  113.6753  113.310  113.31  8906643.0   \n",
       "2022-01-04 00:00:00-05:00  113.22  113.3000  113.075  113.29  7615698.0   \n",
       "2022-01-05 00:00:00-05:00  113.34  113.3600  112.900  112.93  7686662.0   \n",
       "\n",
       "                              SPY                                        \n",
       "                             open    high       low   close      volume  \n",
       "time                                                                     \n",
       "2021-12-30 00:00:00-05:00  477.93  479.00  475.6700  476.15  44681636.0  \n",
       "2021-12-31 00:00:00-05:00  475.64  476.86  474.6700  474.89  51212452.0  \n",
       "2022-01-03 00:00:00-05:00  476.32  477.85  473.8500  477.76  56128214.0  \n",
       "2022-01-04 00:00:00-05:00  479.22  479.98  475.5800  477.51  59093344.0  \n",
       "2022-01-05 00:00:00-05:00  477.16  477.98  468.2801  468.38  87411658.0  "
      ]
     },
     "metadata": {},
     "output_type": "display_data"
    }
   ],
   "source": [
    "# Use the Alpaca get_barset function to make the API call to get the 3 years worth of pricing data\n",
    "# The tickers and timeframe parameters should have been set in Part 1 of this activity \n",
    "# The start and end dates should be updated with the information set above\n",
    "# Remember to add the df property to the end of the call so the response is returned as a DataFrame\n",
    "\n",
    "alpaca_df_2 = alpaca.get_barset(\n",
    "    tickers,\n",
    "    timeframe,\n",
    "    start = start_date_2,\n",
    "    end = end_date,\n",
    "    limit = limit_rows\n",
    ").df\n",
    "\n",
    "# Display both the first and last five rows of the DataFrame\n",
    "\n",
    "display(alpaca_df_2.head())\n",
    "\n",
    "display(alpaca_df_2.tail())\n"
   ]
  },
  {
   "cell_type": "markdown",
   "metadata": {},
   "source": [
    "#### Step 2: Run a Monte Carlo simulation of 500 samples and 30 years for the 60/40 portfolio, and then plot the results."
   ]
  },
  {
   "cell_type": "code",
   "execution_count": 30,
   "metadata": {},
   "outputs": [
    {
     "data": {
      "text/html": [
       "<div>\n",
       "<style scoped>\n",
       "    .dataframe tbody tr th:only-of-type {\n",
       "        vertical-align: middle;\n",
       "    }\n",
       "\n",
       "    .dataframe tbody tr th {\n",
       "        vertical-align: top;\n",
       "    }\n",
       "\n",
       "    .dataframe thead tr th {\n",
       "        text-align: left;\n",
       "    }\n",
       "\n",
       "    .dataframe thead tr:last-of-type th {\n",
       "        text-align: right;\n",
       "    }\n",
       "</style>\n",
       "<table border=\"1\" class=\"dataframe\">\n",
       "  <thead>\n",
       "    <tr>\n",
       "      <th></th>\n",
       "      <th colspan=\"6\" halign=\"left\">AGG</th>\n",
       "      <th colspan=\"6\" halign=\"left\">SPY</th>\n",
       "    </tr>\n",
       "    <tr>\n",
       "      <th></th>\n",
       "      <th>open</th>\n",
       "      <th>high</th>\n",
       "      <th>low</th>\n",
       "      <th>close</th>\n",
       "      <th>volume</th>\n",
       "      <th>daily_return</th>\n",
       "      <th>open</th>\n",
       "      <th>high</th>\n",
       "      <th>low</th>\n",
       "      <th>close</th>\n",
       "      <th>volume</th>\n",
       "      <th>daily_return</th>\n",
       "    </tr>\n",
       "    <tr>\n",
       "      <th>time</th>\n",
       "      <th></th>\n",
       "      <th></th>\n",
       "      <th></th>\n",
       "      <th></th>\n",
       "      <th></th>\n",
       "      <th></th>\n",
       "      <th></th>\n",
       "      <th></th>\n",
       "      <th></th>\n",
       "      <th></th>\n",
       "      <th></th>\n",
       "      <th></th>\n",
       "    </tr>\n",
       "  </thead>\n",
       "  <tbody>\n",
       "    <tr>\n",
       "      <th>2018-01-17 00:00:00-05:00</th>\n",
       "      <td>108.73</td>\n",
       "      <td>108.8390</td>\n",
       "      <td>108.62</td>\n",
       "      <td>108.65</td>\n",
       "      <td>2880481.0</td>\n",
       "      <td>NaN</td>\n",
       "      <td>NaN</td>\n",
       "      <td>NaN</td>\n",
       "      <td>NaN</td>\n",
       "      <td>NaN</td>\n",
       "      <td>NaN</td>\n",
       "      <td>NaN</td>\n",
       "    </tr>\n",
       "    <tr>\n",
       "      <th>2018-01-18 00:00:00-05:00</th>\n",
       "      <td>108.43</td>\n",
       "      <td>108.5250</td>\n",
       "      <td>108.35</td>\n",
       "      <td>108.38</td>\n",
       "      <td>2681682.0</td>\n",
       "      <td>-0.002485</td>\n",
       "      <td>279.50</td>\n",
       "      <td>279.96</td>\n",
       "      <td>278.58</td>\n",
       "      <td>279.18</td>\n",
       "      <td>57402163.0</td>\n",
       "      <td>NaN</td>\n",
       "    </tr>\n",
       "    <tr>\n",
       "      <th>2018-01-19 00:00:00-05:00</th>\n",
       "      <td>108.40</td>\n",
       "      <td>108.4000</td>\n",
       "      <td>108.14</td>\n",
       "      <td>108.15</td>\n",
       "      <td>2751607.0</td>\n",
       "      <td>-0.002122</td>\n",
       "      <td>279.80</td>\n",
       "      <td>280.40</td>\n",
       "      <td>279.14</td>\n",
       "      <td>280.38</td>\n",
       "      <td>55178145.0</td>\n",
       "      <td>0.004298</td>\n",
       "    </tr>\n",
       "    <tr>\n",
       "      <th>2018-01-22 00:00:00-05:00</th>\n",
       "      <td>108.22</td>\n",
       "      <td>108.2999</td>\n",
       "      <td>108.11</td>\n",
       "      <td>108.16</td>\n",
       "      <td>3020514.0</td>\n",
       "      <td>0.000092</td>\n",
       "      <td>280.17</td>\n",
       "      <td>282.68</td>\n",
       "      <td>280.11</td>\n",
       "      <td>282.67</td>\n",
       "      <td>47776828.0</td>\n",
       "      <td>0.008167</td>\n",
       "    </tr>\n",
       "    <tr>\n",
       "      <th>2018-01-23 00:00:00-05:00</th>\n",
       "      <td>108.33</td>\n",
       "      <td>108.4401</td>\n",
       "      <td>108.29</td>\n",
       "      <td>108.39</td>\n",
       "      <td>3488873.0</td>\n",
       "      <td>0.002126</td>\n",
       "      <td>282.74</td>\n",
       "      <td>283.62</td>\n",
       "      <td>282.37</td>\n",
       "      <td>283.26</td>\n",
       "      <td>53406595.0</td>\n",
       "      <td>0.002087</td>\n",
       "    </tr>\n",
       "  </tbody>\n",
       "</table>\n",
       "</div>"
      ],
      "text/plain": [
       "                              AGG                                       \\\n",
       "                             open      high     low   close     volume   \n",
       "time                                                                     \n",
       "2018-01-17 00:00:00-05:00  108.73  108.8390  108.62  108.65  2880481.0   \n",
       "2018-01-18 00:00:00-05:00  108.43  108.5250  108.35  108.38  2681682.0   \n",
       "2018-01-19 00:00:00-05:00  108.40  108.4000  108.14  108.15  2751607.0   \n",
       "2018-01-22 00:00:00-05:00  108.22  108.2999  108.11  108.16  3020514.0   \n",
       "2018-01-23 00:00:00-05:00  108.33  108.4401  108.29  108.39  3488873.0   \n",
       "\n",
       "                                           SPY                          \\\n",
       "                          daily_return    open    high     low   close   \n",
       "time                                                                     \n",
       "2018-01-17 00:00:00-05:00          NaN     NaN     NaN     NaN     NaN   \n",
       "2018-01-18 00:00:00-05:00    -0.002485  279.50  279.96  278.58  279.18   \n",
       "2018-01-19 00:00:00-05:00    -0.002122  279.80  280.40  279.14  280.38   \n",
       "2018-01-22 00:00:00-05:00     0.000092  280.17  282.68  280.11  282.67   \n",
       "2018-01-23 00:00:00-05:00     0.002126  282.74  283.62  282.37  283.26   \n",
       "\n",
       "                                                    \n",
       "                               volume daily_return  \n",
       "time                                                \n",
       "2018-01-17 00:00:00-05:00         NaN          NaN  \n",
       "2018-01-18 00:00:00-05:00  57402163.0          NaN  \n",
       "2018-01-19 00:00:00-05:00  55178145.0     0.004298  \n",
       "2018-01-22 00:00:00-05:00  47776828.0     0.008167  \n",
       "2018-01-23 00:00:00-05:00  53406595.0     0.002087  "
      ]
     },
     "execution_count": 30,
     "metadata": {},
     "output_type": "execute_result"
    }
   ],
   "source": [
    "# Configure the Monte Carlo simulation to forecast 30 years cumulative returns\n",
    "# The weights should be split 40% to AGG and 60% to SPY.\n",
    "# Run 500 samples.\n",
    "\n",
    "MC_thirty_year = MCSimulation(\n",
    "  portfolio_data = alpaca_df_2,\n",
    "  weights = [.60,.40],\n",
    "  num_simulation = 500,\n",
    "  num_trading_days = 252*30\n",
    ")\n",
    "\n",
    "# Review the simulation input data\n",
    "\n",
    "MC_thirty_year.portfolio_data.head()\n"
   ]
  },
  {
   "cell_type": "code",
   "execution_count": 31,
   "metadata": {},
   "outputs": [
    {
     "name": "stdout",
     "output_type": "stream",
     "text": [
      "Running Monte Carlo simulation number 0.\n",
      "Running Monte Carlo simulation number 10.\n",
      "Running Monte Carlo simulation number 20.\n",
      "Running Monte Carlo simulation number 30.\n",
      "Running Monte Carlo simulation number 40.\n",
      "Running Monte Carlo simulation number 50.\n",
      "Running Monte Carlo simulation number 60.\n",
      "Running Monte Carlo simulation number 70.\n",
      "Running Monte Carlo simulation number 80.\n",
      "Running Monte Carlo simulation number 90.\n",
      "Running Monte Carlo simulation number 100.\n"
     ]
    },
    {
     "name": "stderr",
     "output_type": "stream",
     "text": [
      "/Users/Chance/Desktop/Fintech_Challenges/Assignment_5/Challenge_5/MCForecastTools.py:117: PerformanceWarning: DataFrame is highly fragmented.  This is usually the result of calling `frame.insert` many times, which has poor performance.  Consider joining all columns at once using pd.concat(axis=1) instead.  To get a de-fragmented frame, use `newframe = frame.copy()`\n",
      "  portfolio_cumulative_returns[n] = (1 + sim_df.fillna(0)).cumprod()\n"
     ]
    },
    {
     "name": "stdout",
     "output_type": "stream",
     "text": [
      "Running Monte Carlo simulation number 110.\n",
      "Running Monte Carlo simulation number 120.\n",
      "Running Monte Carlo simulation number 130.\n",
      "Running Monte Carlo simulation number 140.\n",
      "Running Monte Carlo simulation number 150.\n",
      "Running Monte Carlo simulation number 160.\n",
      "Running Monte Carlo simulation number 170.\n",
      "Running Monte Carlo simulation number 180.\n",
      "Running Monte Carlo simulation number 190.\n",
      "Running Monte Carlo simulation number 200.\n",
      "Running Monte Carlo simulation number 210.\n",
      "Running Monte Carlo simulation number 220.\n",
      "Running Monte Carlo simulation number 230.\n",
      "Running Monte Carlo simulation number 240.\n",
      "Running Monte Carlo simulation number 250.\n",
      "Running Monte Carlo simulation number 260.\n",
      "Running Monte Carlo simulation number 270.\n",
      "Running Monte Carlo simulation number 280.\n",
      "Running Monte Carlo simulation number 290.\n",
      "Running Monte Carlo simulation number 300.\n",
      "Running Monte Carlo simulation number 310.\n",
      "Running Monte Carlo simulation number 320.\n",
      "Running Monte Carlo simulation number 330.\n",
      "Running Monte Carlo simulation number 340.\n",
      "Running Monte Carlo simulation number 350.\n",
      "Running Monte Carlo simulation number 360.\n",
      "Running Monte Carlo simulation number 370.\n",
      "Running Monte Carlo simulation number 380.\n",
      "Running Monte Carlo simulation number 390.\n",
      "Running Monte Carlo simulation number 400.\n",
      "Running Monte Carlo simulation number 410.\n",
      "Running Monte Carlo simulation number 420.\n",
      "Running Monte Carlo simulation number 430.\n",
      "Running Monte Carlo simulation number 440.\n",
      "Running Monte Carlo simulation number 450.\n",
      "Running Monte Carlo simulation number 460.\n",
      "Running Monte Carlo simulation number 470.\n",
      "Running Monte Carlo simulation number 480.\n",
      "Running Monte Carlo simulation number 490.\n"
     ]
    },
    {
     "data": {
      "text/html": [
       "<div>\n",
       "<style scoped>\n",
       "    .dataframe tbody tr th:only-of-type {\n",
       "        vertical-align: middle;\n",
       "    }\n",
       "\n",
       "    .dataframe tbody tr th {\n",
       "        vertical-align: top;\n",
       "    }\n",
       "\n",
       "    .dataframe thead th {\n",
       "        text-align: right;\n",
       "    }\n",
       "</style>\n",
       "<table border=\"1\" class=\"dataframe\">\n",
       "  <thead>\n",
       "    <tr style=\"text-align: right;\">\n",
       "      <th></th>\n",
       "      <th>0</th>\n",
       "      <th>1</th>\n",
       "      <th>2</th>\n",
       "      <th>3</th>\n",
       "      <th>4</th>\n",
       "      <th>5</th>\n",
       "      <th>6</th>\n",
       "      <th>7</th>\n",
       "      <th>8</th>\n",
       "      <th>9</th>\n",
       "      <th>...</th>\n",
       "      <th>490</th>\n",
       "      <th>491</th>\n",
       "      <th>492</th>\n",
       "      <th>493</th>\n",
       "      <th>494</th>\n",
       "      <th>495</th>\n",
       "      <th>496</th>\n",
       "      <th>497</th>\n",
       "      <th>498</th>\n",
       "      <th>499</th>\n",
       "    </tr>\n",
       "  </thead>\n",
       "  <tbody>\n",
       "    <tr>\n",
       "      <th>0</th>\n",
       "      <td>1.000000</td>\n",
       "      <td>1.000000</td>\n",
       "      <td>1.000000</td>\n",
       "      <td>1.000000</td>\n",
       "      <td>1.000000</td>\n",
       "      <td>1.000000</td>\n",
       "      <td>1.000000</td>\n",
       "      <td>1.000000</td>\n",
       "      <td>1.000000</td>\n",
       "      <td>1.000000</td>\n",
       "      <td>...</td>\n",
       "      <td>1.000000</td>\n",
       "      <td>1.000000</td>\n",
       "      <td>1.000000</td>\n",
       "      <td>1.000000</td>\n",
       "      <td>1.000000</td>\n",
       "      <td>1.000000</td>\n",
       "      <td>1.000000</td>\n",
       "      <td>1.000000</td>\n",
       "      <td>1.000000</td>\n",
       "      <td>1.000000</td>\n",
       "    </tr>\n",
       "    <tr>\n",
       "      <th>1</th>\n",
       "      <td>0.991449</td>\n",
       "      <td>1.003077</td>\n",
       "      <td>1.010148</td>\n",
       "      <td>0.990484</td>\n",
       "      <td>0.987495</td>\n",
       "      <td>0.997497</td>\n",
       "      <td>1.005529</td>\n",
       "      <td>0.987676</td>\n",
       "      <td>0.998328</td>\n",
       "      <td>1.001671</td>\n",
       "      <td>...</td>\n",
       "      <td>0.999518</td>\n",
       "      <td>0.994993</td>\n",
       "      <td>0.998701</td>\n",
       "      <td>0.994509</td>\n",
       "      <td>0.998216</td>\n",
       "      <td>1.005997</td>\n",
       "      <td>1.005089</td>\n",
       "      <td>0.998412</td>\n",
       "      <td>1.006051</td>\n",
       "      <td>0.998105</td>\n",
       "    </tr>\n",
       "    <tr>\n",
       "      <th>2</th>\n",
       "      <td>0.998693</td>\n",
       "      <td>1.007342</td>\n",
       "      <td>1.017281</td>\n",
       "      <td>0.994186</td>\n",
       "      <td>0.984077</td>\n",
       "      <td>1.004469</td>\n",
       "      <td>1.011655</td>\n",
       "      <td>0.978090</td>\n",
       "      <td>1.002618</td>\n",
       "      <td>0.993042</td>\n",
       "      <td>...</td>\n",
       "      <td>0.998787</td>\n",
       "      <td>1.001066</td>\n",
       "      <td>0.999022</td>\n",
       "      <td>0.997255</td>\n",
       "      <td>1.000640</td>\n",
       "      <td>1.009430</td>\n",
       "      <td>1.003622</td>\n",
       "      <td>1.001174</td>\n",
       "      <td>1.005256</td>\n",
       "      <td>0.997271</td>\n",
       "    </tr>\n",
       "    <tr>\n",
       "      <th>3</th>\n",
       "      <td>1.006677</td>\n",
       "      <td>1.018639</td>\n",
       "      <td>1.010008</td>\n",
       "      <td>0.993839</td>\n",
       "      <td>0.987920</td>\n",
       "      <td>1.000320</td>\n",
       "      <td>1.010287</td>\n",
       "      <td>0.983049</td>\n",
       "      <td>0.992833</td>\n",
       "      <td>0.999127</td>\n",
       "      <td>...</td>\n",
       "      <td>0.992297</td>\n",
       "      <td>0.993087</td>\n",
       "      <td>1.003611</td>\n",
       "      <td>1.005805</td>\n",
       "      <td>0.994872</td>\n",
       "      <td>0.992749</td>\n",
       "      <td>1.003263</td>\n",
       "      <td>0.996866</td>\n",
       "      <td>1.010660</td>\n",
       "      <td>1.006903</td>\n",
       "    </tr>\n",
       "    <tr>\n",
       "      <th>4</th>\n",
       "      <td>1.006085</td>\n",
       "      <td>1.032502</td>\n",
       "      <td>1.007516</td>\n",
       "      <td>0.989987</td>\n",
       "      <td>0.990022</td>\n",
       "      <td>0.989754</td>\n",
       "      <td>0.998016</td>\n",
       "      <td>0.981502</td>\n",
       "      <td>0.991913</td>\n",
       "      <td>1.006247</td>\n",
       "      <td>...</td>\n",
       "      <td>0.995111</td>\n",
       "      <td>0.985031</td>\n",
       "      <td>1.001657</td>\n",
       "      <td>1.010132</td>\n",
       "      <td>0.990972</td>\n",
       "      <td>0.993104</td>\n",
       "      <td>1.001193</td>\n",
       "      <td>0.995626</td>\n",
       "      <td>1.017921</td>\n",
       "      <td>1.008355</td>\n",
       "    </tr>\n",
       "    <tr>\n",
       "      <th>...</th>\n",
       "      <td>...</td>\n",
       "      <td>...</td>\n",
       "      <td>...</td>\n",
       "      <td>...</td>\n",
       "      <td>...</td>\n",
       "      <td>...</td>\n",
       "      <td>...</td>\n",
       "      <td>...</td>\n",
       "      <td>...</td>\n",
       "      <td>...</td>\n",
       "      <td>...</td>\n",
       "      <td>...</td>\n",
       "      <td>...</td>\n",
       "      <td>...</td>\n",
       "      <td>...</td>\n",
       "      <td>...</td>\n",
       "      <td>...</td>\n",
       "      <td>...</td>\n",
       "      <td>...</td>\n",
       "      <td>...</td>\n",
       "      <td>...</td>\n",
       "    </tr>\n",
       "    <tr>\n",
       "      <th>7556</th>\n",
       "      <td>6.467613</td>\n",
       "      <td>7.150497</td>\n",
       "      <td>9.306136</td>\n",
       "      <td>4.817308</td>\n",
       "      <td>7.265219</td>\n",
       "      <td>21.555501</td>\n",
       "      <td>18.986712</td>\n",
       "      <td>8.893316</td>\n",
       "      <td>7.162061</td>\n",
       "      <td>9.097654</td>\n",
       "      <td>...</td>\n",
       "      <td>12.455648</td>\n",
       "      <td>7.532029</td>\n",
       "      <td>6.086804</td>\n",
       "      <td>8.104461</td>\n",
       "      <td>3.948975</td>\n",
       "      <td>7.715016</td>\n",
       "      <td>1.769796</td>\n",
       "      <td>6.442868</td>\n",
       "      <td>3.730769</td>\n",
       "      <td>3.734783</td>\n",
       "    </tr>\n",
       "    <tr>\n",
       "      <th>7557</th>\n",
       "      <td>6.479531</td>\n",
       "      <td>7.109091</td>\n",
       "      <td>9.294565</td>\n",
       "      <td>4.810024</td>\n",
       "      <td>7.264216</td>\n",
       "      <td>21.645341</td>\n",
       "      <td>18.888641</td>\n",
       "      <td>8.969818</td>\n",
       "      <td>7.119730</td>\n",
       "      <td>9.126553</td>\n",
       "      <td>...</td>\n",
       "      <td>12.380310</td>\n",
       "      <td>7.600727</td>\n",
       "      <td>6.098518</td>\n",
       "      <td>8.111916</td>\n",
       "      <td>3.967873</td>\n",
       "      <td>7.702843</td>\n",
       "      <td>1.768687</td>\n",
       "      <td>6.503499</td>\n",
       "      <td>3.755281</td>\n",
       "      <td>3.736671</td>\n",
       "    </tr>\n",
       "    <tr>\n",
       "      <th>7558</th>\n",
       "      <td>6.451957</td>\n",
       "      <td>7.039049</td>\n",
       "      <td>9.361338</td>\n",
       "      <td>4.794980</td>\n",
       "      <td>7.267288</td>\n",
       "      <td>21.811484</td>\n",
       "      <td>18.779515</td>\n",
       "      <td>9.033663</td>\n",
       "      <td>7.148218</td>\n",
       "      <td>9.176596</td>\n",
       "      <td>...</td>\n",
       "      <td>12.403752</td>\n",
       "      <td>7.660655</td>\n",
       "      <td>6.039462</td>\n",
       "      <td>8.173694</td>\n",
       "      <td>4.010563</td>\n",
       "      <td>7.714818</td>\n",
       "      <td>1.761324</td>\n",
       "      <td>6.502280</td>\n",
       "      <td>3.768383</td>\n",
       "      <td>3.740592</td>\n",
       "    </tr>\n",
       "    <tr>\n",
       "      <th>7559</th>\n",
       "      <td>6.450311</td>\n",
       "      <td>7.005785</td>\n",
       "      <td>9.308214</td>\n",
       "      <td>4.733133</td>\n",
       "      <td>7.269280</td>\n",
       "      <td>21.819543</td>\n",
       "      <td>18.621827</td>\n",
       "      <td>9.128072</td>\n",
       "      <td>7.169402</td>\n",
       "      <td>9.149756</td>\n",
       "      <td>...</td>\n",
       "      <td>12.431152</td>\n",
       "      <td>7.595639</td>\n",
       "      <td>5.951771</td>\n",
       "      <td>8.106088</td>\n",
       "      <td>4.001701</td>\n",
       "      <td>7.665892</td>\n",
       "      <td>1.776633</td>\n",
       "      <td>6.546135</td>\n",
       "      <td>3.758800</td>\n",
       "      <td>3.722083</td>\n",
       "    </tr>\n",
       "    <tr>\n",
       "      <th>7560</th>\n",
       "      <td>6.445793</td>\n",
       "      <td>6.976544</td>\n",
       "      <td>9.336170</td>\n",
       "      <td>4.780120</td>\n",
       "      <td>7.260469</td>\n",
       "      <td>21.674107</td>\n",
       "      <td>18.521136</td>\n",
       "      <td>9.080173</td>\n",
       "      <td>7.155653</td>\n",
       "      <td>9.113278</td>\n",
       "      <td>...</td>\n",
       "      <td>12.660049</td>\n",
       "      <td>7.612326</td>\n",
       "      <td>5.955864</td>\n",
       "      <td>8.058286</td>\n",
       "      <td>4.016402</td>\n",
       "      <td>7.675854</td>\n",
       "      <td>1.781284</td>\n",
       "      <td>6.525545</td>\n",
       "      <td>3.747995</td>\n",
       "      <td>3.725177</td>\n",
       "    </tr>\n",
       "  </tbody>\n",
       "</table>\n",
       "<p>7561 rows × 500 columns</p>\n",
       "</div>"
      ],
      "text/plain": [
       "           0         1         2         3         4          5          6    \\\n",
       "0     1.000000  1.000000  1.000000  1.000000  1.000000   1.000000   1.000000   \n",
       "1     0.991449  1.003077  1.010148  0.990484  0.987495   0.997497   1.005529   \n",
       "2     0.998693  1.007342  1.017281  0.994186  0.984077   1.004469   1.011655   \n",
       "3     1.006677  1.018639  1.010008  0.993839  0.987920   1.000320   1.010287   \n",
       "4     1.006085  1.032502  1.007516  0.989987  0.990022   0.989754   0.998016   \n",
       "...        ...       ...       ...       ...       ...        ...        ...   \n",
       "7556  6.467613  7.150497  9.306136  4.817308  7.265219  21.555501  18.986712   \n",
       "7557  6.479531  7.109091  9.294565  4.810024  7.264216  21.645341  18.888641   \n",
       "7558  6.451957  7.039049  9.361338  4.794980  7.267288  21.811484  18.779515   \n",
       "7559  6.450311  7.005785  9.308214  4.733133  7.269280  21.819543  18.621827   \n",
       "7560  6.445793  6.976544  9.336170  4.780120  7.260469  21.674107  18.521136   \n",
       "\n",
       "           7         8         9    ...        490       491       492  \\\n",
       "0     1.000000  1.000000  1.000000  ...   1.000000  1.000000  1.000000   \n",
       "1     0.987676  0.998328  1.001671  ...   0.999518  0.994993  0.998701   \n",
       "2     0.978090  1.002618  0.993042  ...   0.998787  1.001066  0.999022   \n",
       "3     0.983049  0.992833  0.999127  ...   0.992297  0.993087  1.003611   \n",
       "4     0.981502  0.991913  1.006247  ...   0.995111  0.985031  1.001657   \n",
       "...        ...       ...       ...  ...        ...       ...       ...   \n",
       "7556  8.893316  7.162061  9.097654  ...  12.455648  7.532029  6.086804   \n",
       "7557  8.969818  7.119730  9.126553  ...  12.380310  7.600727  6.098518   \n",
       "7558  9.033663  7.148218  9.176596  ...  12.403752  7.660655  6.039462   \n",
       "7559  9.128072  7.169402  9.149756  ...  12.431152  7.595639  5.951771   \n",
       "7560  9.080173  7.155653  9.113278  ...  12.660049  7.612326  5.955864   \n",
       "\n",
       "           493       494       495       496       497       498       499  \n",
       "0     1.000000  1.000000  1.000000  1.000000  1.000000  1.000000  1.000000  \n",
       "1     0.994509  0.998216  1.005997  1.005089  0.998412  1.006051  0.998105  \n",
       "2     0.997255  1.000640  1.009430  1.003622  1.001174  1.005256  0.997271  \n",
       "3     1.005805  0.994872  0.992749  1.003263  0.996866  1.010660  1.006903  \n",
       "4     1.010132  0.990972  0.993104  1.001193  0.995626  1.017921  1.008355  \n",
       "...        ...       ...       ...       ...       ...       ...       ...  \n",
       "7556  8.104461  3.948975  7.715016  1.769796  6.442868  3.730769  3.734783  \n",
       "7557  8.111916  3.967873  7.702843  1.768687  6.503499  3.755281  3.736671  \n",
       "7558  8.173694  4.010563  7.714818  1.761324  6.502280  3.768383  3.740592  \n",
       "7559  8.106088  4.001701  7.665892  1.776633  6.546135  3.758800  3.722083  \n",
       "7560  8.058286  4.016402  7.675854  1.781284  6.525545  3.747995  3.725177  \n",
       "\n",
       "[7561 rows x 500 columns]"
      ]
     },
     "execution_count": 31,
     "metadata": {},
     "output_type": "execute_result"
    }
   ],
   "source": [
    "# Run the Monte Carlo simulation to forecast 30 years cumulative returns\n",
    "\n",
    "MC_thirty_year.calc_cumulative_return()\n"
   ]
  },
  {
   "cell_type": "code",
   "execution_count": 32,
   "metadata": {},
   "outputs": [
    {
     "data": {
      "text/plain": [
       "<AxesSubplot:title={'center':'500 Simulations of Cumulative Portfolio Return Trajectories Over the Next 7560 Trading Days.'}>"
      ]
     },
     "execution_count": 32,
     "metadata": {},
     "output_type": "execute_result"
    },
    {
     "data": {
      "image/png": "[encoded data removed]",
      "text/plain": [
       "<Figure size 432x288 with 1 Axes>"
      ]
     },
     "metadata": {
      "needs_background": "light"
     },
     "output_type": "display_data"
    }
   ],
   "source": [
    "# Visualize the 30-year Monte Carlo simulation by creating an\n",
    "# overlay line plot\n",
    "\n",
    "MC_sim_line_plot = MC_thirty_year.plot_simulation()\n",
    "\n",
    "MC_sim_line_plot\n"
   ]
  },
  {
   "cell_type": "markdown",
   "metadata": {},
   "source": [
    "#### Step 3: Plot the probability distribution of the Monte Carlo simulation."
   ]
  },
  {
   "cell_type": "code",
   "execution_count": 33,
   "metadata": {},
   "outputs": [
    {
     "data": {
      "text/plain": [
       "<AxesSubplot:title={'center':'Distribution of Final Cumuluative Returns Across All 500 Simulations'}, ylabel='Frequency'>"
      ]
     },
     "execution_count": 33,
     "metadata": {},
     "output_type": "execute_result"
    },
    {
     "data": {
      "image/png": "[encoded data removed]",
      "text/plain": [
       "<Figure size 432x288 with 1 Axes>"
      ]
     },
     "metadata": {
      "needs_background": "light"
     },
     "output_type": "display_data"
    }
   ],
   "source": [
    "# Visualize the probability distribution of the 30-year Monte Carlo simulation \n",
    "# by plotting a histogram\n",
    "\n",
    "MC_sim_dist_plot = MC_thirty_year.plot_distribution()\n",
    "\n",
    "MC_sim_dist_plot\n"
   ]
  },
  {
   "cell_type": "markdown",
   "metadata": {},
   "source": [
    "#### Step 4: Generate the summary statistics for the Monte Carlo simulation."
   ]
  },
  {
   "cell_type": "code",
   "execution_count": 34,
   "metadata": {},
   "outputs": [
    {
     "name": "stdout",
     "output_type": "stream",
     "text": [
      "count           500.000000\n",
      "mean              7.740245\n",
      "std               3.926454\n",
      "min               1.758716\n",
      "25%               4.940624\n",
      "50%               6.954558\n",
      "75%               9.486736\n",
      "max              30.676701\n",
      "95% CI Lower      2.632304\n",
      "95% CI Upper     18.005077\n",
      "Name: 7560, dtype: float64\n"
     ]
    }
   ],
   "source": [
    "# Generate summary statistics from the 30-year Monte Carlo simulation results\n",
    "# Save the results as a variable\n",
    "\n",
    "MC_summary_statistics = MC_thirty_year.summarize_cumulative_return()\n",
    "\n",
    "# Review the 30-year Monte Carlo summary statistics\n",
    "\n",
    "print(MC_summary_statistics)"
   ]
  },
  {
   "cell_type": "markdown",
   "metadata": {},
   "source": [
    "### Analyze the Retirement Portfolio Forecasts\n",
    "\n",
    "Using the current value of only the stock and bond portion of the member's portfolio and the summary statistics that you generated from the Monte Carlo simulation, answer the following question in your Jupyter notebook:\n",
    "\n",
    "-  What are the lower and upper bounds for the expected value of the portfolio with a 95% confidence interval?\n"
   ]
  },
  {
   "cell_type": "code",
   "execution_count": 35,
   "metadata": {},
   "outputs": [
    {
     "name": "stdout",
     "output_type": "stream",
     "text": [
      "35008.3\n"
     ]
    }
   ],
   "source": [
    "# Print the current balance of the stock and bond portion of the members portfolio\n",
    "\n",
    "print(total_stocks_bonds)\n"
   ]
  },
  {
   "cell_type": "code",
   "execution_count": 36,
   "metadata": {},
   "outputs": [
    {
     "name": "stdout",
     "output_type": "stream",
     "text": [
      "There is a 95% chance that an initial investment of $35008.3 in the portfolio over the next 30 years will end within in the range of $ 92152.50 and $ 630327.15.\n"
     ]
    }
   ],
   "source": [
    "# Use the lower and upper `95%` confidence intervals to calculate the range of the possible outcomes for the current stock/bond portfolio\n",
    "\n",
    "ci_lower_thirty_cumulative_return = MC_summary_statistics[8] * total_stocks_bonds\n",
    "ci_upper_thirty_cumulative_return = MC_summary_statistics[9] * total_stocks_bonds\n",
    "\n",
    "# Print the result of your calculations\n",
    "\n",
    "print(f\"There is a 95% chance that an initial investment of ${total_stocks_bonds} in the portfolio\"\n",
    "  f\" over the next 30 years will end within in the range of\"\n",
    "  f\" ${ci_lower_thirty_cumulative_return: .2f} and ${ci_upper_thirty_cumulative_return: .2f}.\")\n"
   ]
  },
  {
   "cell_type": "markdown",
   "metadata": {},
   "source": [
    "### Forecast Cumulative Returns in 10 Years\n",
    "\n",
    "The CTO of the credit union is impressed with your work on these planning tools but wonders if 30 years is a long time to wait until retirement. So, your next task is to adjust the retirement portfolio and run a new Monte Carlo simulation to find out if the changes will allow members to retire earlier.\n",
    "\n",
    "For this new Monte Carlo simulation, do the following: \n",
    "\n",
    "- Forecast the cumulative returns for 10 years from now. Because of the shortened investment horizon (30 years to 10 years), the portfolio needs to invest more heavily in the riskier asset&mdash;that is, stock&mdash;to help accumulate wealth for retirement. \n",
    "\n",
    "- Adjust the weights of the retirement portfolio so that the composition for the Monte Carlo simulation consists of 20% bonds and 80% stocks. \n",
    "\n",
    "- Run the simulation over 500 samples, and use the same data that the API call to Alpaca generated.\n",
    "\n",
    "- Based on the new Monte Carlo simulation, answer the following questions in your Jupyter notebook:\n",
    "\n",
    "    - Using the current value of only the stock and bond portion of the member's portfolio and the summary statistics that you generated from the new Monte Carlo simulation, what are the lower and upper bounds for the expected value of the portfolio (with the new weights) with a 95% confidence interval?\n",
    "\n",
    "    - Will weighting the portfolio more heavily toward stocks allow the credit union members to retire after only 10 years?\n"
   ]
  },
  {
   "cell_type": "code",
   "execution_count": 37,
   "metadata": {},
   "outputs": [
    {
     "data": {
      "text/html": [
       "<div>\n",
       "<style scoped>\n",
       "    .dataframe tbody tr th:only-of-type {\n",
       "        vertical-align: middle;\n",
       "    }\n",
       "\n",
       "    .dataframe tbody tr th {\n",
       "        vertical-align: top;\n",
       "    }\n",
       "\n",
       "    .dataframe thead tr th {\n",
       "        text-align: left;\n",
       "    }\n",
       "\n",
       "    .dataframe thead tr:last-of-type th {\n",
       "        text-align: right;\n",
       "    }\n",
       "</style>\n",
       "<table border=\"1\" class=\"dataframe\">\n",
       "  <thead>\n",
       "    <tr>\n",
       "      <th></th>\n",
       "      <th colspan=\"6\" halign=\"left\">AGG</th>\n",
       "      <th colspan=\"6\" halign=\"left\">SPY</th>\n",
       "    </tr>\n",
       "    <tr>\n",
       "      <th></th>\n",
       "      <th>open</th>\n",
       "      <th>high</th>\n",
       "      <th>low</th>\n",
       "      <th>close</th>\n",
       "      <th>volume</th>\n",
       "      <th>daily_return</th>\n",
       "      <th>open</th>\n",
       "      <th>high</th>\n",
       "      <th>low</th>\n",
       "      <th>close</th>\n",
       "      <th>volume</th>\n",
       "      <th>daily_return</th>\n",
       "    </tr>\n",
       "    <tr>\n",
       "      <th>time</th>\n",
       "      <th></th>\n",
       "      <th></th>\n",
       "      <th></th>\n",
       "      <th></th>\n",
       "      <th></th>\n",
       "      <th></th>\n",
       "      <th></th>\n",
       "      <th></th>\n",
       "      <th></th>\n",
       "      <th></th>\n",
       "      <th></th>\n",
       "      <th></th>\n",
       "    </tr>\n",
       "  </thead>\n",
       "  <tbody>\n",
       "    <tr>\n",
       "      <th>2018-01-17 00:00:00-05:00</th>\n",
       "      <td>108.73</td>\n",
       "      <td>108.8390</td>\n",
       "      <td>108.62</td>\n",
       "      <td>108.65</td>\n",
       "      <td>2880481.0</td>\n",
       "      <td>NaN</td>\n",
       "      <td>NaN</td>\n",
       "      <td>NaN</td>\n",
       "      <td>NaN</td>\n",
       "      <td>NaN</td>\n",
       "      <td>NaN</td>\n",
       "      <td>NaN</td>\n",
       "    </tr>\n",
       "    <tr>\n",
       "      <th>2018-01-18 00:00:00-05:00</th>\n",
       "      <td>108.43</td>\n",
       "      <td>108.5250</td>\n",
       "      <td>108.35</td>\n",
       "      <td>108.38</td>\n",
       "      <td>2681682.0</td>\n",
       "      <td>-0.002485</td>\n",
       "      <td>279.50</td>\n",
       "      <td>279.96</td>\n",
       "      <td>278.58</td>\n",
       "      <td>279.18</td>\n",
       "      <td>57402163.0</td>\n",
       "      <td>NaN</td>\n",
       "    </tr>\n",
       "    <tr>\n",
       "      <th>2018-01-19 00:00:00-05:00</th>\n",
       "      <td>108.40</td>\n",
       "      <td>108.4000</td>\n",
       "      <td>108.14</td>\n",
       "      <td>108.15</td>\n",
       "      <td>2751607.0</td>\n",
       "      <td>-0.002122</td>\n",
       "      <td>279.80</td>\n",
       "      <td>280.40</td>\n",
       "      <td>279.14</td>\n",
       "      <td>280.38</td>\n",
       "      <td>55178145.0</td>\n",
       "      <td>0.004298</td>\n",
       "    </tr>\n",
       "    <tr>\n",
       "      <th>2018-01-22 00:00:00-05:00</th>\n",
       "      <td>108.22</td>\n",
       "      <td>108.2999</td>\n",
       "      <td>108.11</td>\n",
       "      <td>108.16</td>\n",
       "      <td>3020514.0</td>\n",
       "      <td>0.000092</td>\n",
       "      <td>280.17</td>\n",
       "      <td>282.68</td>\n",
       "      <td>280.11</td>\n",
       "      <td>282.67</td>\n",
       "      <td>47776828.0</td>\n",
       "      <td>0.008167</td>\n",
       "    </tr>\n",
       "    <tr>\n",
       "      <th>2018-01-23 00:00:00-05:00</th>\n",
       "      <td>108.33</td>\n",
       "      <td>108.4401</td>\n",
       "      <td>108.29</td>\n",
       "      <td>108.39</td>\n",
       "      <td>3488873.0</td>\n",
       "      <td>0.002126</td>\n",
       "      <td>282.74</td>\n",
       "      <td>283.62</td>\n",
       "      <td>282.37</td>\n",
       "      <td>283.26</td>\n",
       "      <td>53406595.0</td>\n",
       "      <td>0.002087</td>\n",
       "    </tr>\n",
       "  </tbody>\n",
       "</table>\n",
       "</div>"
      ],
      "text/plain": [
       "                              AGG                                       \\\n",
       "                             open      high     low   close     volume   \n",
       "time                                                                     \n",
       "2018-01-17 00:00:00-05:00  108.73  108.8390  108.62  108.65  2880481.0   \n",
       "2018-01-18 00:00:00-05:00  108.43  108.5250  108.35  108.38  2681682.0   \n",
       "2018-01-19 00:00:00-05:00  108.40  108.4000  108.14  108.15  2751607.0   \n",
       "2018-01-22 00:00:00-05:00  108.22  108.2999  108.11  108.16  3020514.0   \n",
       "2018-01-23 00:00:00-05:00  108.33  108.4401  108.29  108.39  3488873.0   \n",
       "\n",
       "                                           SPY                          \\\n",
       "                          daily_return    open    high     low   close   \n",
       "time                                                                     \n",
       "2018-01-17 00:00:00-05:00          NaN     NaN     NaN     NaN     NaN   \n",
       "2018-01-18 00:00:00-05:00    -0.002485  279.50  279.96  278.58  279.18   \n",
       "2018-01-19 00:00:00-05:00    -0.002122  279.80  280.40  279.14  280.38   \n",
       "2018-01-22 00:00:00-05:00     0.000092  280.17  282.68  280.11  282.67   \n",
       "2018-01-23 00:00:00-05:00     0.002126  282.74  283.62  282.37  283.26   \n",
       "\n",
       "                                                    \n",
       "                               volume daily_return  \n",
       "time                                                \n",
       "2018-01-17 00:00:00-05:00         NaN          NaN  \n",
       "2018-01-18 00:00:00-05:00  57402163.0          NaN  \n",
       "2018-01-19 00:00:00-05:00  55178145.0     0.004298  \n",
       "2018-01-22 00:00:00-05:00  47776828.0     0.008167  \n",
       "2018-01-23 00:00:00-05:00  53406595.0     0.002087  "
      ]
     },
     "execution_count": 37,
     "metadata": {},
     "output_type": "execute_result"
    }
   ],
   "source": [
    "# Configure a Monte Carlo simulation to forecast 10 years cumulative returns\n",
    "# The weights should be split 20% to AGG and 80% to SPY.\n",
    "# Run 500 samples.\n",
    "\n",
    "MC_ten_year = MCSimulation(\n",
    "  portfolio_data = alpaca_df_2,\n",
    "  weights = [.80,.20],\n",
    "  num_simulation = 500,\n",
    "  num_trading_days = 252*10\n",
    ")\n",
    "\n",
    "# Review the simulation input data\n",
    "\n",
    "MC_ten_year.portfolio_data.head()\n"
   ]
  },
  {
   "cell_type": "code",
   "execution_count": 38,
   "metadata": {},
   "outputs": [
    {
     "name": "stdout",
     "output_type": "stream",
     "text": [
      "Running Monte Carlo simulation number 0.\n",
      "Running Monte Carlo simulation number 10.\n",
      "Running Monte Carlo simulation number 20.\n",
      "Running Monte Carlo simulation number 30.\n",
      "Running Monte Carlo simulation number 40.\n",
      "Running Monte Carlo simulation number 50.\n",
      "Running Monte Carlo simulation number 60.\n",
      "Running Monte Carlo simulation number 70.\n",
      "Running Monte Carlo simulation number 80.\n",
      "Running Monte Carlo simulation number 90.\n",
      "Running Monte Carlo simulation number 100.\n"
     ]
    },
    {
     "name": "stderr",
     "output_type": "stream",
     "text": [
      "/Users/Chance/Desktop/Fintech_Challenges/Assignment_5/Challenge_5/MCForecastTools.py:117: PerformanceWarning: DataFrame is highly fragmented.  This is usually the result of calling `frame.insert` many times, which has poor performance.  Consider joining all columns at once using pd.concat(axis=1) instead.  To get a de-fragmented frame, use `newframe = frame.copy()`\n",
      "  portfolio_cumulative_returns[n] = (1 + sim_df.fillna(0)).cumprod()\n"
     ]
    },
    {
     "name": "stdout",
     "output_type": "stream",
     "text": [
      "Running Monte Carlo simulation number 110.\n",
      "Running Monte Carlo simulation number 120.\n",
      "Running Monte Carlo simulation number 130.\n",
      "Running Monte Carlo simulation number 140.\n",
      "Running Monte Carlo simulation number 150.\n",
      "Running Monte Carlo simulation number 160.\n",
      "Running Monte Carlo simulation number 170.\n",
      "Running Monte Carlo simulation number 180.\n",
      "Running Monte Carlo simulation number 190.\n",
      "Running Monte Carlo simulation number 200.\n",
      "Running Monte Carlo simulation number 210.\n",
      "Running Monte Carlo simulation number 220.\n",
      "Running Monte Carlo simulation number 230.\n",
      "Running Monte Carlo simulation number 240.\n",
      "Running Monte Carlo simulation number 250.\n",
      "Running Monte Carlo simulation number 260.\n",
      "Running Monte Carlo simulation number 270.\n",
      "Running Monte Carlo simulation number 280.\n",
      "Running Monte Carlo simulation number 290.\n",
      "Running Monte Carlo simulation number 300.\n",
      "Running Monte Carlo simulation number 310.\n",
      "Running Monte Carlo simulation number 320.\n",
      "Running Monte Carlo simulation number 330.\n",
      "Running Monte Carlo simulation number 340.\n",
      "Running Monte Carlo simulation number 350.\n",
      "Running Monte Carlo simulation number 360.\n",
      "Running Monte Carlo simulation number 370.\n",
      "Running Monte Carlo simulation number 380.\n",
      "Running Monte Carlo simulation number 390.\n",
      "Running Monte Carlo simulation number 400.\n",
      "Running Monte Carlo simulation number 410.\n",
      "Running Monte Carlo simulation number 420.\n",
      "Running Monte Carlo simulation number 430.\n",
      "Running Monte Carlo simulation number 440.\n",
      "Running Monte Carlo simulation number 450.\n",
      "Running Monte Carlo simulation number 460.\n",
      "Running Monte Carlo simulation number 470.\n",
      "Running Monte Carlo simulation number 480.\n",
      "Running Monte Carlo simulation number 490.\n"
     ]
    },
    {
     "data": {
      "text/html": [
       "<div>\n",
       "<style scoped>\n",
       "    .dataframe tbody tr th:only-of-type {\n",
       "        vertical-align: middle;\n",
       "    }\n",
       "\n",
       "    .dataframe tbody tr th {\n",
       "        vertical-align: top;\n",
       "    }\n",
       "\n",
       "    .dataframe thead th {\n",
       "        text-align: right;\n",
       "    }\n",
       "</style>\n",
       "<table border=\"1\" class=\"dataframe\">\n",
       "  <thead>\n",
       "    <tr style=\"text-align: right;\">\n",
       "      <th></th>\n",
       "      <th>0</th>\n",
       "      <th>1</th>\n",
       "      <th>2</th>\n",
       "      <th>3</th>\n",
       "      <th>4</th>\n",
       "      <th>5</th>\n",
       "      <th>6</th>\n",
       "      <th>7</th>\n",
       "      <th>8</th>\n",
       "      <th>9</th>\n",
       "      <th>...</th>\n",
       "      <th>490</th>\n",
       "      <th>491</th>\n",
       "      <th>492</th>\n",
       "      <th>493</th>\n",
       "      <th>494</th>\n",
       "      <th>495</th>\n",
       "      <th>496</th>\n",
       "      <th>497</th>\n",
       "      <th>498</th>\n",
       "      <th>499</th>\n",
       "    </tr>\n",
       "  </thead>\n",
       "  <tbody>\n",
       "    <tr>\n",
       "      <th>0</th>\n",
       "      <td>1.000000</td>\n",
       "      <td>1.000000</td>\n",
       "      <td>1.000000</td>\n",
       "      <td>1.000000</td>\n",
       "      <td>1.000000</td>\n",
       "      <td>1.000000</td>\n",
       "      <td>1.000000</td>\n",
       "      <td>1.000000</td>\n",
       "      <td>1.000000</td>\n",
       "      <td>1.000000</td>\n",
       "      <td>...</td>\n",
       "      <td>1.000000</td>\n",
       "      <td>1.000000</td>\n",
       "      <td>1.000000</td>\n",
       "      <td>1.000000</td>\n",
       "      <td>1.000000</td>\n",
       "      <td>1.000000</td>\n",
       "      <td>1.000000</td>\n",
       "      <td>1.000000</td>\n",
       "      <td>1.000000</td>\n",
       "      <td>1.000000</td>\n",
       "    </tr>\n",
       "    <tr>\n",
       "      <th>1</th>\n",
       "      <td>1.000220</td>\n",
       "      <td>1.007173</td>\n",
       "      <td>0.994326</td>\n",
       "      <td>1.001172</td>\n",
       "      <td>0.995395</td>\n",
       "      <td>1.000082</td>\n",
       "      <td>0.998361</td>\n",
       "      <td>0.992637</td>\n",
       "      <td>0.999168</td>\n",
       "      <td>0.993566</td>\n",
       "      <td>...</td>\n",
       "      <td>0.997747</td>\n",
       "      <td>1.002280</td>\n",
       "      <td>0.994637</td>\n",
       "      <td>0.999817</td>\n",
       "      <td>1.000921</td>\n",
       "      <td>0.996369</td>\n",
       "      <td>1.000604</td>\n",
       "      <td>1.003726</td>\n",
       "      <td>1.001475</td>\n",
       "      <td>0.999030</td>\n",
       "    </tr>\n",
       "    <tr>\n",
       "      <th>2</th>\n",
       "      <td>1.004818</td>\n",
       "      <td>1.011503</td>\n",
       "      <td>0.998471</td>\n",
       "      <td>1.004234</td>\n",
       "      <td>0.987423</td>\n",
       "      <td>0.999562</td>\n",
       "      <td>0.998979</td>\n",
       "      <td>0.993604</td>\n",
       "      <td>0.994854</td>\n",
       "      <td>0.995719</td>\n",
       "      <td>...</td>\n",
       "      <td>0.999032</td>\n",
       "      <td>1.004708</td>\n",
       "      <td>1.002372</td>\n",
       "      <td>0.999601</td>\n",
       "      <td>1.001438</td>\n",
       "      <td>0.996783</td>\n",
       "      <td>1.001327</td>\n",
       "      <td>1.005388</td>\n",
       "      <td>0.996578</td>\n",
       "      <td>1.005363</td>\n",
       "    </tr>\n",
       "    <tr>\n",
       "      <th>3</th>\n",
       "      <td>1.001549</td>\n",
       "      <td>1.007757</td>\n",
       "      <td>0.997635</td>\n",
       "      <td>1.008494</td>\n",
       "      <td>0.992532</td>\n",
       "      <td>0.994394</td>\n",
       "      <td>0.999052</td>\n",
       "      <td>0.994291</td>\n",
       "      <td>0.993451</td>\n",
       "      <td>1.002745</td>\n",
       "      <td>...</td>\n",
       "      <td>1.002204</td>\n",
       "      <td>1.005924</td>\n",
       "      <td>0.998836</td>\n",
       "      <td>1.004629</td>\n",
       "      <td>1.001424</td>\n",
       "      <td>0.999030</td>\n",
       "      <td>0.999488</td>\n",
       "      <td>1.010651</td>\n",
       "      <td>0.996235</td>\n",
       "      <td>1.005869</td>\n",
       "    </tr>\n",
       "    <tr>\n",
       "      <th>4</th>\n",
       "      <td>0.999234</td>\n",
       "      <td>1.003291</td>\n",
       "      <td>0.999293</td>\n",
       "      <td>1.003314</td>\n",
       "      <td>0.998255</td>\n",
       "      <td>0.993519</td>\n",
       "      <td>0.996506</td>\n",
       "      <td>0.994559</td>\n",
       "      <td>0.998453</td>\n",
       "      <td>0.999549</td>\n",
       "      <td>...</td>\n",
       "      <td>0.998018</td>\n",
       "      <td>1.006234</td>\n",
       "      <td>1.001896</td>\n",
       "      <td>1.003070</td>\n",
       "      <td>1.001235</td>\n",
       "      <td>1.005929</td>\n",
       "      <td>1.003218</td>\n",
       "      <td>1.008938</td>\n",
       "      <td>0.997115</td>\n",
       "      <td>1.004310</td>\n",
       "    </tr>\n",
       "    <tr>\n",
       "      <th>...</th>\n",
       "      <td>...</td>\n",
       "      <td>...</td>\n",
       "      <td>...</td>\n",
       "      <td>...</td>\n",
       "      <td>...</td>\n",
       "      <td>...</td>\n",
       "      <td>...</td>\n",
       "      <td>...</td>\n",
       "      <td>...</td>\n",
       "      <td>...</td>\n",
       "      <td>...</td>\n",
       "      <td>...</td>\n",
       "      <td>...</td>\n",
       "      <td>...</td>\n",
       "      <td>...</td>\n",
       "      <td>...</td>\n",
       "      <td>...</td>\n",
       "      <td>...</td>\n",
       "      <td>...</td>\n",
       "      <td>...</td>\n",
       "      <td>...</td>\n",
       "    </tr>\n",
       "    <tr>\n",
       "      <th>2516</th>\n",
       "      <td>1.107603</td>\n",
       "      <td>1.252610</td>\n",
       "      <td>1.500266</td>\n",
       "      <td>0.952586</td>\n",
       "      <td>1.884728</td>\n",
       "      <td>1.346031</td>\n",
       "      <td>2.354304</td>\n",
       "      <td>1.537030</td>\n",
       "      <td>1.454386</td>\n",
       "      <td>1.168230</td>\n",
       "      <td>...</td>\n",
       "      <td>1.047238</td>\n",
       "      <td>1.657592</td>\n",
       "      <td>1.674058</td>\n",
       "      <td>1.688155</td>\n",
       "      <td>1.630287</td>\n",
       "      <td>1.983522</td>\n",
       "      <td>1.718087</td>\n",
       "      <td>1.074741</td>\n",
       "      <td>1.351851</td>\n",
       "      <td>1.074589</td>\n",
       "    </tr>\n",
       "    <tr>\n",
       "      <th>2517</th>\n",
       "      <td>1.114672</td>\n",
       "      <td>1.253424</td>\n",
       "      <td>1.490832</td>\n",
       "      <td>0.952268</td>\n",
       "      <td>1.883489</td>\n",
       "      <td>1.351465</td>\n",
       "      <td>2.356169</td>\n",
       "      <td>1.539581</td>\n",
       "      <td>1.456942</td>\n",
       "      <td>1.166176</td>\n",
       "      <td>...</td>\n",
       "      <td>1.046558</td>\n",
       "      <td>1.654764</td>\n",
       "      <td>1.675195</td>\n",
       "      <td>1.678356</td>\n",
       "      <td>1.629278</td>\n",
       "      <td>1.979511</td>\n",
       "      <td>1.719476</td>\n",
       "      <td>1.074265</td>\n",
       "      <td>1.351849</td>\n",
       "      <td>1.073333</td>\n",
       "    </tr>\n",
       "    <tr>\n",
       "      <th>2518</th>\n",
       "      <td>1.114701</td>\n",
       "      <td>1.252305</td>\n",
       "      <td>1.494958</td>\n",
       "      <td>0.948525</td>\n",
       "      <td>1.876368</td>\n",
       "      <td>1.351787</td>\n",
       "      <td>2.351733</td>\n",
       "      <td>1.542767</td>\n",
       "      <td>1.464063</td>\n",
       "      <td>1.171033</td>\n",
       "      <td>...</td>\n",
       "      <td>1.051012</td>\n",
       "      <td>1.656626</td>\n",
       "      <td>1.670294</td>\n",
       "      <td>1.675151</td>\n",
       "      <td>1.631154</td>\n",
       "      <td>1.978815</td>\n",
       "      <td>1.719667</td>\n",
       "      <td>1.071904</td>\n",
       "      <td>1.344169</td>\n",
       "      <td>1.074206</td>\n",
       "    </tr>\n",
       "    <tr>\n",
       "      <th>2519</th>\n",
       "      <td>1.115909</td>\n",
       "      <td>1.261311</td>\n",
       "      <td>1.490923</td>\n",
       "      <td>0.951106</td>\n",
       "      <td>1.878059</td>\n",
       "      <td>1.346419</td>\n",
       "      <td>2.339286</td>\n",
       "      <td>1.542602</td>\n",
       "      <td>1.468252</td>\n",
       "      <td>1.166916</td>\n",
       "      <td>...</td>\n",
       "      <td>1.048785</td>\n",
       "      <td>1.657303</td>\n",
       "      <td>1.667556</td>\n",
       "      <td>1.681427</td>\n",
       "      <td>1.632416</td>\n",
       "      <td>1.980514</td>\n",
       "      <td>1.720750</td>\n",
       "      <td>1.075711</td>\n",
       "      <td>1.338100</td>\n",
       "      <td>1.085712</td>\n",
       "    </tr>\n",
       "    <tr>\n",
       "      <th>2520</th>\n",
       "      <td>1.111328</td>\n",
       "      <td>1.261319</td>\n",
       "      <td>1.495070</td>\n",
       "      <td>0.950404</td>\n",
       "      <td>1.885156</td>\n",
       "      <td>1.342876</td>\n",
       "      <td>2.337727</td>\n",
       "      <td>1.543663</td>\n",
       "      <td>1.475663</td>\n",
       "      <td>1.163560</td>\n",
       "      <td>...</td>\n",
       "      <td>1.049668</td>\n",
       "      <td>1.667141</td>\n",
       "      <td>1.662481</td>\n",
       "      <td>1.675932</td>\n",
       "      <td>1.625832</td>\n",
       "      <td>1.972252</td>\n",
       "      <td>1.709045</td>\n",
       "      <td>1.070377</td>\n",
       "      <td>1.341531</td>\n",
       "      <td>1.087743</td>\n",
       "    </tr>\n",
       "  </tbody>\n",
       "</table>\n",
       "<p>2521 rows × 500 columns</p>\n",
       "</div>"
      ],
      "text/plain": [
       "           0         1         2         3         4         5         6    \\\n",
       "0     1.000000  1.000000  1.000000  1.000000  1.000000  1.000000  1.000000   \n",
       "1     1.000220  1.007173  0.994326  1.001172  0.995395  1.000082  0.998361   \n",
       "2     1.004818  1.011503  0.998471  1.004234  0.987423  0.999562  0.998979   \n",
       "3     1.001549  1.007757  0.997635  1.008494  0.992532  0.994394  0.999052   \n",
       "4     0.999234  1.003291  0.999293  1.003314  0.998255  0.993519  0.996506   \n",
       "...        ...       ...       ...       ...       ...       ...       ...   \n",
       "2516  1.107603  1.252610  1.500266  0.952586  1.884728  1.346031  2.354304   \n",
       "2517  1.114672  1.253424  1.490832  0.952268  1.883489  1.351465  2.356169   \n",
       "2518  1.114701  1.252305  1.494958  0.948525  1.876368  1.351787  2.351733   \n",
       "2519  1.115909  1.261311  1.490923  0.951106  1.878059  1.346419  2.339286   \n",
       "2520  1.111328  1.261319  1.495070  0.950404  1.885156  1.342876  2.337727   \n",
       "\n",
       "           7         8         9    ...       490       491       492  \\\n",
       "0     1.000000  1.000000  1.000000  ...  1.000000  1.000000  1.000000   \n",
       "1     0.992637  0.999168  0.993566  ...  0.997747  1.002280  0.994637   \n",
       "2     0.993604  0.994854  0.995719  ...  0.999032  1.004708  1.002372   \n",
       "3     0.994291  0.993451  1.002745  ...  1.002204  1.005924  0.998836   \n",
       "4     0.994559  0.998453  0.999549  ...  0.998018  1.006234  1.001896   \n",
       "...        ...       ...       ...  ...       ...       ...       ...   \n",
       "2516  1.537030  1.454386  1.168230  ...  1.047238  1.657592  1.674058   \n",
       "2517  1.539581  1.456942  1.166176  ...  1.046558  1.654764  1.675195   \n",
       "2518  1.542767  1.464063  1.171033  ...  1.051012  1.656626  1.670294   \n",
       "2519  1.542602  1.468252  1.166916  ...  1.048785  1.657303  1.667556   \n",
       "2520  1.543663  1.475663  1.163560  ...  1.049668  1.667141  1.662481   \n",
       "\n",
       "           493       494       495       496       497       498       499  \n",
       "0     1.000000  1.000000  1.000000  1.000000  1.000000  1.000000  1.000000  \n",
       "1     0.999817  1.000921  0.996369  1.000604  1.003726  1.001475  0.999030  \n",
       "2     0.999601  1.001438  0.996783  1.001327  1.005388  0.996578  1.005363  \n",
       "3     1.004629  1.001424  0.999030  0.999488  1.010651  0.996235  1.005869  \n",
       "4     1.003070  1.001235  1.005929  1.003218  1.008938  0.997115  1.004310  \n",
       "...        ...       ...       ...       ...       ...       ...       ...  \n",
       "2516  1.688155  1.630287  1.983522  1.718087  1.074741  1.351851  1.074589  \n",
       "2517  1.678356  1.629278  1.979511  1.719476  1.074265  1.351849  1.073333  \n",
       "2518  1.675151  1.631154  1.978815  1.719667  1.071904  1.344169  1.074206  \n",
       "2519  1.681427  1.632416  1.980514  1.720750  1.075711  1.338100  1.085712  \n",
       "2520  1.675932  1.625832  1.972252  1.709045  1.070377  1.341531  1.087743  \n",
       "\n",
       "[2521 rows x 500 columns]"
      ]
     },
     "execution_count": 38,
     "metadata": {},
     "output_type": "execute_result"
    }
   ],
   "source": [
    "# Run the Monte Carlo simulation to forecast 10 years cumulative returns\n",
    "\n",
    "MC_ten_year.calc_cumulative_return()\n"
   ]
  },
  {
   "cell_type": "code",
   "execution_count": 39,
   "metadata": {},
   "outputs": [
    {
     "data": {
      "text/plain": [
       "<AxesSubplot:title={'center':'500 Simulations of Cumulative Portfolio Return Trajectories Over the Next 2520 Trading Days.'}>"
      ]
     },
     "execution_count": 39,
     "metadata": {},
     "output_type": "execute_result"
    },
    {
     "data": {
      "image/png": "[encoded data removed]",
      "text/plain": [
       "<Figure size 432x288 with 1 Axes>"
      ]
     },
     "metadata": {
      "needs_background": "light"
     },
     "output_type": "display_data"
    }
   ],
   "source": [
    "# Visualize the 10-year Monte Carlo simulation by creating an\n",
    "# overlay line plot\n",
    "\n",
    "MC_sim_line_plot_2 = MC_ten_year.plot_simulation()\n",
    "\n",
    "MC_sim_line_plot_2"
   ]
  },
  {
   "cell_type": "code",
   "execution_count": 40,
   "metadata": {},
   "outputs": [
    {
     "data": {
      "text/plain": [
       "<AxesSubplot:title={'center':'Distribution of Final Cumuluative Returns Across All 500 Simulations'}, ylabel='Frequency'>"
      ]
     },
     "execution_count": 40,
     "metadata": {},
     "output_type": "execute_result"
    },
    {
     "data": {
      "image/png": "[encoded data removed]",
      "text/plain": [
       "<Figure size 432x288 with 1 Axes>"
      ]
     },
     "metadata": {
      "needs_background": "light"
     },
     "output_type": "display_data"
    }
   ],
   "source": [
    "# Visualize the probability distribution of the 10-year Monte Carlo simulation \n",
    "# by plotting a histogram\n",
    "\n",
    "MC_sim_dist_plot_2 = MC_ten_year.plot_distribution()\n",
    "\n",
    "MC_sim_dist_plot_2"
   ]
  },
  {
   "cell_type": "code",
   "execution_count": 41,
   "metadata": {},
   "outputs": [
    {
     "data": {
      "text/plain": [
       "count           500.000000\n",
       "mean              1.501153\n",
       "std               0.302492\n",
       "min               0.900737\n",
       "25%               1.294836\n",
       "50%               1.470924\n",
       "75%               1.671714\n",
       "max               2.847939\n",
       "95% CI Lower      1.014459\n",
       "95% CI Upper      2.155280\n",
       "Name: 2520, dtype: float64"
      ]
     },
     "execution_count": 41,
     "metadata": {},
     "output_type": "execute_result"
    }
   ],
   "source": [
    "# Generate summary statistics from the 10-year Monte Carlo simulation results\n",
    "# Save the results as a variable\n",
    "\n",
    "MC_summary_statistics_2 = MC_ten_year.summarize_cumulative_return()\n",
    "\n",
    "# Review the 10-year Monte Carlo summary statistics\n",
    "\n",
    "MC_summary_statistics_2"
   ]
  },
  {
   "cell_type": "markdown",
   "metadata": {},
   "source": [
    "### Answer the following questions:"
   ]
  },
  {
   "cell_type": "markdown",
   "metadata": {},
   "source": [
    "#### Question: Using the current value of only the stock and bond portion of the member's portfolio and the summary statistics that you generated from the new Monte Carlo simulation, what are the lower and upper bounds for the expected value of the portfolio (with the new weights) with a 95% confidence interval?"
   ]
  },
  {
   "cell_type": "code",
   "execution_count": 42,
   "metadata": {},
   "outputs": [
    {
     "name": "stdout",
     "output_type": "stream",
     "text": [
      "35008.3\n"
     ]
    }
   ],
   "source": [
    "# Print the current balance of the stock and bond portion of the members portfolio\n",
    "\n",
    "print(total_stocks_bonds)\n"
   ]
  },
  {
   "cell_type": "code",
   "execution_count": 43,
   "metadata": {},
   "outputs": [
    {
     "name": "stdout",
     "output_type": "stream",
     "text": [
      "There is a 95% chance that an initial investment of $35008.3 in the portfolio over the next 10 years will end within in the range of $ 35514.49 and $ 75452.68.\n"
     ]
    }
   ],
   "source": [
    "# Use the lower and upper `95%` confidence intervals to calculate the range of the possible outcomes for the current stock/bond portfolio\n",
    "ci_lower_ten_cumulative_return = MC_summary_statistics_2[8] * total_stocks_bonds\n",
    "ci_upper_ten_cumulative_return = MC_summary_statistics_2[9] * total_stocks_bonds\n",
    "\n",
    "# Print the result of your calculations\n",
    "\n",
    "print(f\"There is a 95% chance that an initial investment of ${total_stocks_bonds} in the portfolio\"\n",
    "  f\" over the next 10 years will end within in the range of\"\n",
    "  f\" ${ci_lower_ten_cumulative_return: .2f} and ${ci_upper_ten_cumulative_return: .2f}.\")\n"
   ]
  },
  {
   "cell_type": "markdown",
   "metadata": {},
   "source": [
    "#### Question: Will weighting the portfolio more heavily to stocks allow the credit union members to retire after only 10 years?"
   ]
  },
  {
   "cell_type": "markdown",
   "metadata": {},
   "source": [
    "**Answer** Weighting the portfolio more heavily to stocks will not allow union members to retire after only 10 years."
   ]
  },
  {
   "cell_type": "code",
   "execution_count": null,
   "metadata": {},
   "outputs": [],
   "source": []
  }
 ],
 "metadata": {
  "kernelspec": {
   "display_name": "Python (dev)",
   "language": "python",
   "name": "dev"
  },
  "language_info": {
   "codemirror_mode": {
    "name": "ipython",
    "version": 3
   },
   "file_extension": ".py",
   "mimetype": "text/x-python",
   "name": "python",
   "nbconvert_exporter": "python",
   "pygments_lexer": "ipython3",
   "version": "3.7.11"
  }
 },
 "nbformat": 4,
 "nbformat_minor": 4
}
